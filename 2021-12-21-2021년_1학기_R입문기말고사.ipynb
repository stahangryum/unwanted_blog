{
 "cells": [
  {
   "cell_type": "markdown",
   "id": "cd0b452a-d6b0-4bb5-945a-f88ef93a7f89",
   "metadata": {
    "tags": []
   },
   "source": [
    "# 2021년 1학기 R입문 기말고사 (ver 1.00)\n",
    "\n",
    "- toc:false\n",
    "- branch: master\n",
    "- badges: true\n",
    "- comments: true\n",
    "- author: 최규빈"
   ]
  },
  {
   "cell_type": "markdown",
   "id": "6558506c-acd6-4546-849b-a3189f5b4dfa",
   "metadata": {},
   "source": [
    "- 202115789 통계학과 김지우"
   ]
  },
  {
   "cell_type": "markdown",
   "id": "988eb28c-c744-4338-aed4-55f480a9a4f3",
   "metadata": {},
   "source": [
    "1~4번은 RMD파일로 제출하였습니다."
   ]
  },
  {
   "cell_type": "code",
   "execution_count": 96,
   "id": "a27abf35-cdef-4797-a470-e479ecad2a93",
   "metadata": {
    "tags": []
   },
   "outputs": [],
   "source": [
    "#hide\n",
    "#options(jupyter.rich_display=FALSE)\n",
    "options(repr.plot.width=6,repr.plot.height=6,repr.plot.res=150)\n",
    "options(max.print=1000)"
   ]
  },
  {
   "cell_type": "markdown",
   "id": "0dacb1a1-85b1-4361-88e2-6877d9b8e87d",
   "metadata": {},
   "source": [
    "**의미가 모호한 문제는 질문할것**\n",
    "\n",
    "**필요한 패키지는 스스로 로드하여 사용할 것** "
   ]
  },
  {
   "cell_type": "code",
   "execution_count": 24,
   "id": "e8157d5a-be50-4499-84c8-1b5323f4101c",
   "metadata": {},
   "outputs": [],
   "source": [
    "library(tidyverse)"
   ]
  },
  {
   "cell_type": "markdown",
   "id": "224b4143-8f5b-43aa-a723-84187e7cfa37",
   "metadata": {},
   "source": [
    "## `5`. 다음을 잘 읽고 물음에 답하라. (10점)"
   ]
  },
  {
   "cell_type": "markdown",
   "id": "60833008-ae1c-4a00-b6bc-70cb3ee831f6",
   "metadata": {
    "tags": []
   },
   "source": [
    "#### `(1)` cumprod 함수를 이용하여 $7!=7\\times 6 \\times 5 \\times \\dots \\times 1$을 계산하라. "
   ]
  },
  {
   "cell_type": "code",
   "execution_count": 13,
   "id": "d346bee0-27bb-4dad-8905-d01e1b841d12",
   "metadata": {},
   "outputs": [
    {
     "data": {
      "text/html": [
       "5040"
      ],
      "text/latex": [
       "5040"
      ],
      "text/markdown": [
       "5040"
      ],
      "text/plain": [
       "[1] 5040"
      ]
     },
     "metadata": {},
     "output_type": "display_data"
    }
   ],
   "source": [
    "cumprod(1:7)[7]"
   ]
  },
  {
   "cell_type": "markdown",
   "id": "c78c6221-b283-43c7-a126-5dec505c68ec",
   "metadata": {},
   "source": [
    "#### `(2)` $\\sum_{n=0}^{\\infty}\\frac{n}{n!}$의 값을 근사적으로 계산하라. 계산결과를 exp(1)과 비교하라. "
   ]
  },
  {
   "cell_type": "code",
   "execution_count": 15,
   "id": "284b5f96-afd4-4d41-88b6-35909db183e4",
   "metadata": {},
   "outputs": [],
   "source": [
    "xxs = 0:10000"
   ]
  },
  {
   "cell_type": "code",
   "execution_count": 19,
   "id": "396d333b-95c0-4917-a953-ecfac91b28bb",
   "metadata": {},
   "outputs": [],
   "source": [
    "f2 = function(n) n/factorial(n)"
   ]
  },
  {
   "cell_type": "code",
   "execution_count": 27,
   "id": "eed6183b-67ef-486c-b281-5867077df331",
   "metadata": {},
   "outputs": [
    {
     "data": {
      "text/html": [
       "2.71828182845905"
      ],
      "text/latex": [
       "2.71828182845905"
      ],
      "text/markdown": [
       "2.71828182845905"
      ],
      "text/plain": [
       "[1] 2.718282"
      ]
     },
     "metadata": {},
     "output_type": "display_data"
    }
   ],
   "source": [
    "f2(0:100000) %>% sum"
   ]
  },
  {
   "cell_type": "code",
   "execution_count": 29,
   "id": "204ae210-d564-4f46-8740-120ff3231129",
   "metadata": {},
   "outputs": [
    {
     "data": {
      "text/html": [
       "2.71828182845905"
      ],
      "text/latex": [
       "2.71828182845905"
      ],
      "text/markdown": [
       "2.71828182845905"
      ],
      "text/plain": [
       "[1] 2.718282"
      ]
     },
     "metadata": {},
     "output_type": "display_data"
    }
   ],
   "source": [
    "exp(1)"
   ]
  },
  {
   "cell_type": "markdown",
   "id": "11c96dde-8aaa-4247-8656-3760fb16aa7a",
   "metadata": {},
   "source": [
    "- $\\therefore \\sum_{n=0}^{\\infty}\\frac{n}{n!} \\approx e$ "
   ]
  },
  {
   "cell_type": "markdown",
   "id": "fb37132c-7ead-474c-8da8-6d27e33b0b0a",
   "metadata": {
    "tags": []
   },
   "source": [
    "#### `(3)` 표준정규분포에서 1000개의 난수를 생성발생시킨 뒤 0보다 큰 수를 세어보라. "
   ]
  },
  {
   "cell_type": "code",
   "execution_count": 30,
   "id": "7403ca90-4efc-4ad4-9996-cdf943c01bcd",
   "metadata": {},
   "outputs": [],
   "source": [
    "numms = rnorm(1000, mean = 0, sd = 1)"
   ]
  },
  {
   "cell_type": "code",
   "execution_count": 34,
   "id": "b1286630-5bcd-4ae4-ac50-753ab9d4db6b",
   "metadata": {},
   "outputs": [
    {
     "data": {
      "text/html": [
       "496"
      ],
      "text/latex": [
       "496"
      ],
      "text/markdown": [
       "496"
      ],
      "text/plain": [
       "[1] 496"
      ]
     },
     "metadata": {},
     "output_type": "display_data"
    }
   ],
   "source": [
    "(numms > 0) %>% sum"
   ]
  },
  {
   "cell_type": "markdown",
   "id": "cb8ae7c8-4aec-4538-a305-67626417b60a",
   "metadata": {},
   "source": [
    "#### `(4)` $p=0.2$인 베르누이분포에서 1000개의 난수를 만들면 1이 몇개정도 포함되는가? 시뮬레이션을 통하여 검증하라."
   ]
  },
  {
   "cell_type": "code",
   "execution_count": 39,
   "id": "ec5e4a9d-0412-430d-a74c-639d5cb0e07a",
   "metadata": {},
   "outputs": [
    {
     "data": {
      "text/html": [
       "196"
      ],
      "text/latex": [
       "196"
      ],
      "text/markdown": [
       "196"
      ],
      "text/plain": [
       "[1] 196"
      ]
     },
     "metadata": {},
     "output_type": "display_data"
    }
   ],
   "source": [
    "rbinom(1000, size = 1, prob = 0.2) %>% sum"
   ]
  },
  {
   "cell_type": "markdown",
   "id": "e416ebdb-1db2-44ae-8c06-ab2c9033fea7",
   "metadata": {},
   "source": [
    "#### `(5)` 아래는 표준정규분포, 즉 평균이 0이고 표준편차가 1인 정규분포에서 1000개의 난수를 생성하여 $x$라는 변수에 저장한뒤 $x$의 히스토그램을 그린 예시이다. 아래의 예시를 이용하여 평균이 1이고 표준편차가 1인 정규분포에서 5000개의 난수를 생성한뒤 $y$에 저장하고 $y$의 히스토그램을 그려라. 시각화 예시는 아래와 같다. "
   ]
  },
  {
   "cell_type": "code",
   "execution_count": 40,
   "id": "9b5dfb2d-3b2a-4769-bf1c-bdedc5536625",
   "metadata": {},
   "outputs": [
    {
     "data": {
      "image/png": "[encoded data removed]",
      "text/plain": [
       "Plot with title \"Histogram of x\""
      ]
     },
     "metadata": {
      "image/png": {
       "height": 420,
       "width": 420
      }
     },
     "output_type": "display_data"
    }
   ],
   "source": [
    "x=rnorm(1000)\n",
    "hist(x)"
   ]
  },
  {
   "cell_type": "code",
   "execution_count": 41,
   "id": "32dd0590-4493-4180-b359-984d76c1dd71",
   "metadata": {},
   "outputs": [
    {
     "data": {
      "image/png": "[encoded data removed]",
      "text/plain": [
       "Plot with title \"Histogram of y\""
      ]
     },
     "metadata": {
      "image/png": {
       "height": 420,
       "width": 420
      }
     },
     "output_type": "display_data"
    }
   ],
   "source": [
    "y = rnorm(5000, mean = 1, sd = 1)\n",
    "hist(y)"
   ]
  },
  {
   "cell_type": "markdown",
   "id": "2f3df486-8f37-42ed-b142-1371e265d0a4",
   "metadata": {},
   "source": [
    "#### `(6)` 아래와 같은 벡터 x에서 짝수번째 원소 (즉 x[2],x[4],$\\dots$,x[2000])의 합을 구하는 코드를 작성하라 "
   ]
  },
  {
   "cell_type": "code",
   "execution_count": 51,
   "id": "02dbd2f9-e678-4bbd-b6d2-5358e8a5d67c",
   "metadata": {},
   "outputs": [
    {
     "data": {
      "text/html": [
       "0"
      ],
      "text/latex": [
       "0"
      ],
      "text/markdown": [
       "0"
      ],
      "text/plain": [
       "[1] 0"
      ]
     },
     "metadata": {},
     "output_type": "display_data"
    }
   ],
   "source": [
    "x=-1000:1000/1000\n",
    "x[(1:1000)*2] %>% sum"
   ]
  },
  {
   "cell_type": "markdown",
   "id": "1148aa17-27a7-458d-b4f7-e1af562351f7",
   "metadata": {},
   "source": [
    "#### `(7)` 2021년 A씨의 연봉은 5000이다. 매년 연봉은 3%씩 오른다고 하자. 2030년 A씨의 연봉은 얼마인가? "
   ]
  },
  {
   "cell_type": "code",
   "execution_count": 54,
   "id": "fa980163-8f38-4d23-a511-136e76b1ea18",
   "metadata": {},
   "outputs": [
    {
     "data": {
      "text/html": [
       "6523.86591914622"
      ],
      "text/latex": [
       "6523.86591914622"
      ],
      "text/markdown": [
       "6523.86591914622"
      ],
      "text/plain": [
       "[1] 6523.866"
      ]
     },
     "metadata": {},
     "output_type": "display_data"
    }
   ],
   "source": [
    "A_sal = 5000\n",
    "A_sal*(1.03)^9"
   ]
  },
  {
   "cell_type": "markdown",
   "id": "ac8212d6-cf8b-4fe2-8c17-eae8bc015819",
   "metadata": {},
   "source": [
    "#### `(8)` 임의의 입력 $x$에 대하여 아래를 만족하는 함수를 선언하라. "
   ]
  },
  {
   "cell_type": "markdown",
   "id": "328e404d-e10d-41ac-b453-a77edcf3eff6",
   "metadata": {},
   "source": [
    "- $x >0$: $\\log (x)$를 계산하여 출력 \n",
    "- $x =0$: print(\"음의 무한대\")\n",
    "- $x <0$: print(\"x는 양수이어야 합니다.\")"
   ]
  },
  {
   "cell_type": "code",
   "execution_count": 75,
   "id": "57cd68f4-7f89-43e7-9d66-c3eef8395877",
   "metadata": {},
   "outputs": [],
   "source": [
    "f8 = function(x) ifelse(x>0, log(x), ifelse(x==0, print(\"음의 무한대\"), print(\"x는 양수이어야 합니다.\"))) # x는 실수 범위에서 정의된다."
   ]
  },
  {
   "cell_type": "code",
   "execution_count": 76,
   "id": "03ecedec-3315-4938-bcd4-be6ea5edc0aa",
   "metadata": {},
   "outputs": [
    {
     "data": {
      "text/html": [
       "15"
      ],
      "text/latex": [
       "15"
      ],
      "text/markdown": [
       "15"
      ],
      "text/plain": [
       "[1] 15"
      ]
     },
     "metadata": {},
     "output_type": "display_data"
    }
   ],
   "source": [
    "f8(exp(15))"
   ]
  },
  {
   "cell_type": "code",
   "execution_count": 77,
   "id": "041324c0-c0a3-4d39-8c51-869b86c02e0c",
   "metadata": {},
   "outputs": [
    {
     "name": "stdout",
     "output_type": "stream",
     "text": [
      "[1] \"음의 무한대\"\n"
     ]
    },
    {
     "data": {
      "text/html": [
       "'음의 무한대'"
      ],
      "text/latex": [
       "'음의 무한대'"
      ],
      "text/markdown": [
       "'음의 무한대'"
      ],
      "text/plain": [
       "[1] \"음의 무한대\""
      ]
     },
     "metadata": {},
     "output_type": "display_data"
    }
   ],
   "source": [
    "f8(0)"
   ]
  },
  {
   "cell_type": "code",
   "execution_count": 78,
   "id": "688eccd3-13c6-4cd6-ab13-90f288cd8964",
   "metadata": {},
   "outputs": [
    {
     "name": "stdout",
     "output_type": "stream",
     "text": [
      "[1] \"x는 양수이어야 합니다.\"\n"
     ]
    },
    {
     "data": {
      "text/html": [
       "'x는 양수이어야 합니다.'"
      ],
      "text/latex": [
       "'x는 양수이어야 합니다.'"
      ],
      "text/markdown": [
       "'x는 양수이어야 합니다.'"
      ],
      "text/plain": [
       "[1] \"x는 양수이어야 합니다.\""
      ]
     },
     "metadata": {},
     "output_type": "display_data"
    }
   ],
   "source": [
    "f8(-4)"
   ]
  },
  {
   "cell_type": "markdown",
   "id": "750e263a-5dcc-48c8-bd17-7ff67034f15b",
   "metadata": {},
   "source": [
    "#### `(9)` 아래와 같은 데이터프레임이 있다고 하자. "
   ]
  },
  {
   "cell_type": "code",
   "execution_count": 86,
   "id": "a120373f-07df-4a12-9816-b2fddde62c74",
   "metadata": {},
   "outputs": [
    {
     "data": {
      "text/html": [
       "<table class=\"dataframe\">\n",
       "<caption>A tibble: 6 × 2</caption>\n",
       "<thead>\n",
       "\t<tr><th scope=col>X1</th><th scope=col>X2</th></tr>\n",
       "\t<tr><th scope=col>&lt;dbl&gt;</th><th scope=col>&lt;dbl&gt;</th></tr>\n",
       "</thead>\n",
       "<tbody>\n",
       "\t<tr><td>-0.49577299</td><td>-0.9880975</td></tr>\n",
       "\t<tr><td>-0.10128480</td><td> 1.2774744</td></tr>\n",
       "\t<tr><td>-0.44984700</td><td>-0.4339076</td></tr>\n",
       "\t<tr><td>-1.10471246</td><td>-0.1431977</td></tr>\n",
       "\t<tr><td>-0.57379759</td><td> 1.1750471</td></tr>\n",
       "\t<tr><td>-0.02117715</td><td> 0.3976143</td></tr>\n",
       "</tbody>\n",
       "</table>\n"
      ],
      "text/latex": [
       "A tibble: 6 × 2\n",
       "\\begin{tabular}{ll}\n",
       " X1 & X2\\\\\n",
       " <dbl> & <dbl>\\\\\n",
       "\\hline\n",
       "\t -0.49577299 & -0.9880975\\\\\n",
       "\t -0.10128480 &  1.2774744\\\\\n",
       "\t -0.44984700 & -0.4339076\\\\\n",
       "\t -1.10471246 & -0.1431977\\\\\n",
       "\t -0.57379759 &  1.1750471\\\\\n",
       "\t -0.02117715 &  0.3976143\\\\\n",
       "\\end{tabular}\n"
      ],
      "text/markdown": [
       "\n",
       "A tibble: 6 × 2\n",
       "\n",
       "| X1 &lt;dbl&gt; | X2 &lt;dbl&gt; |\n",
       "|---|---|\n",
       "| -0.49577299 | -0.9880975 |\n",
       "| -0.10128480 |  1.2774744 |\n",
       "| -0.44984700 | -0.4339076 |\n",
       "| -1.10471246 | -0.1431977 |\n",
       "| -0.57379759 |  1.1750471 |\n",
       "| -0.02117715 |  0.3976143 |\n",
       "\n"
      ],
      "text/plain": [
       "  X1          X2        \n",
       "1 -0.49577299 -0.9880975\n",
       "2 -0.10128480  1.2774744\n",
       "3 -0.44984700 -0.4339076\n",
       "4 -1.10471246 -0.1431977\n",
       "5 -0.57379759  1.1750471\n",
       "6 -0.02117715  0.3976143"
      ]
     },
     "metadata": {},
     "output_type": "display_data"
    }
   ],
   "source": [
    "df=tibble(X1=rnorm(100),X2=rnorm(100))\n",
    "head(df)"
   ]
  },
  {
   "cell_type": "code",
   "execution_count": 87,
   "id": "81222f5c-f9be-47c9-b9a0-aaa1bcb87fcc",
   "metadata": {},
   "outputs": [
    {
     "data": {
      "text/html": [
       "<table class=\"dataframe\">\n",
       "<caption>A tibble: 6 × 3</caption>\n",
       "<thead>\n",
       "\t<tr><th scope=col>X1</th><th scope=col>X2</th><th scope=col>Z</th></tr>\n",
       "\t<tr><th scope=col>&lt;dbl&gt;</th><th scope=col>&lt;dbl&gt;</th><th scope=col>&lt;dbl&gt;</th></tr>\n",
       "</thead>\n",
       "<tbody>\n",
       "\t<tr><td>-0.49577299</td><td>-0.9880975</td><td>1.2221275</td></tr>\n",
       "\t<tr><td>-0.10128480</td><td> 1.2774744</td><td>1.6421994</td></tr>\n",
       "\t<tr><td>-0.44984700</td><td>-0.4339076</td><td>0.3906382</td></tr>\n",
       "\t<tr><td>-1.10471246</td><td>-0.1431977</td><td>1.2408952</td></tr>\n",
       "\t<tr><td>-0.57379759</td><td> 1.1750471</td><td>1.7099794</td></tr>\n",
       "\t<tr><td>-0.02117715</td><td> 0.3976143</td><td>0.1585456</td></tr>\n",
       "</tbody>\n",
       "</table>\n"
      ],
      "text/latex": [
       "A tibble: 6 × 3\n",
       "\\begin{tabular}{lll}\n",
       " X1 & X2 & Z\\\\\n",
       " <dbl> & <dbl> & <dbl>\\\\\n",
       "\\hline\n",
       "\t -0.49577299 & -0.9880975 & 1.2221275\\\\\n",
       "\t -0.10128480 &  1.2774744 & 1.6421994\\\\\n",
       "\t -0.44984700 & -0.4339076 & 0.3906382\\\\\n",
       "\t -1.10471246 & -0.1431977 & 1.2408952\\\\\n",
       "\t -0.57379759 &  1.1750471 & 1.7099794\\\\\n",
       "\t -0.02117715 &  0.3976143 & 0.1585456\\\\\n",
       "\\end{tabular}\n"
      ],
      "text/markdown": [
       "\n",
       "A tibble: 6 × 3\n",
       "\n",
       "| X1 &lt;dbl&gt; | X2 &lt;dbl&gt; | Z &lt;dbl&gt; |\n",
       "|---|---|---|\n",
       "| -0.49577299 | -0.9880975 | 1.2221275 |\n",
       "| -0.10128480 |  1.2774744 | 1.6421994 |\n",
       "| -0.44984700 | -0.4339076 | 0.3906382 |\n",
       "| -1.10471246 | -0.1431977 | 1.2408952 |\n",
       "| -0.57379759 |  1.1750471 | 1.7099794 |\n",
       "| -0.02117715 |  0.3976143 | 0.1585456 |\n",
       "\n"
      ],
      "text/plain": [
       "  X1          X2         Z        \n",
       "1 -0.49577299 -0.9880975 1.2221275\n",
       "2 -0.10128480  1.2774744 1.6421994\n",
       "3 -0.44984700 -0.4339076 0.3906382\n",
       "4 -1.10471246 -0.1431977 1.2408952\n",
       "5 -0.57379759  1.1750471 1.7099794\n",
       "6 -0.02117715  0.3976143 0.1585456"
      ]
     },
     "metadata": {},
     "output_type": "display_data"
    }
   ],
   "source": [
    "new_df = df %>% mutate(Z = X1^2 + X2^2)\n",
    "head(new_df)"
   ]
  },
  {
   "cell_type": "markdown",
   "id": "aa71709c-2459-493e-9cbf-f07e40933074",
   "metadata": {},
   "source": [
    "위의 데이터프레임 df에서 `mutate`를 이용하여 `Z=X1^2+X2^2`을 계산하여 새로운 열 Z를 만들어라. "
   ]
  },
  {
   "cell_type": "markdown",
   "id": "fdd57b34-45c6-41e0-a9ec-0e3bcf096a39",
   "metadata": {
    "tags": []
   },
   "source": [
    "#### `(10)` 아래와 같은 매트릭스에서 `apply`함수를 이용하여 각 행의 합과 각 열의 합을 구하라 "
   ]
  },
  {
   "cell_type": "code",
   "execution_count": 92,
   "id": "4dce282e-0765-47de-9fc4-2d55df4c4372",
   "metadata": {},
   "outputs": [
    {
     "name": "stdout",
     "output_type": "stream",
     "text": [
      "      [,1] [,2] [,3] [,4] [,5] [,6] [,7] [,8] [,9] [,10]\n",
      " [1,]    2    3    3    2    2    3    1    3    3     3\n",
      " [2,]    1    3    3    4    2    2    4    2    2     1\n",
      " [3,]    2    2    2    2    4    4    2    3    3     3\n",
      " [4,]    3    2    4    5    2    5    1    4    2     2\n",
      " [5,]    2    2    2    2    1    4    2    2    3     4\n",
      " [6,]    5    1    3    1    1    3    4    2    4     3\n",
      " [7,]    4    3    4    3    2    3    2    3    0     1\n",
      " [8,]    4    4    2    3    2    3    3    0    4     2\n",
      " [9,]    5    5    4    3    2    4    4    4    1     4\n",
      "[10,]    2    4    4    3    1    3    3    2    1     2\n"
     ]
    }
   ],
   "source": [
    "set.seed(1221)\n",
    "mat = rbinom(n=100,size=5,prob=0.5)\n",
    "dim(mat)=c(10,10)\n",
    "print(mat)"
   ]
  },
  {
   "cell_type": "markdown",
   "id": "ca215101-55b7-4060-9a4b-09915446cd54",
   "metadata": {},
   "source": [
    "- 행의 합"
   ]
  },
  {
   "cell_type": "code",
   "execution_count": 98,
   "id": "ef1cd3a4-ccdf-465b-ab25-33efaa6ab094",
   "metadata": {},
   "outputs": [
    {
     "data": {
      "text/html": [
       "<style>\n",
       ".list-inline {list-style: none; margin:0; padding: 0}\n",
       ".list-inline>li {display: inline-block}\n",
       ".list-inline>li:not(:last-child)::after {content: \"\\00b7\"; padding: 0 .5ex}\n",
       "</style>\n",
       "<ol class=list-inline><li>25</li><li>24</li><li>27</li><li>30</li><li>24</li><li>27</li><li>25</li><li>27</li><li>36</li><li>25</li></ol>\n"
      ],
      "text/latex": [
       "\\begin{enumerate*}\n",
       "\\item 25\n",
       "\\item 24\n",
       "\\item 27\n",
       "\\item 30\n",
       "\\item 24\n",
       "\\item 27\n",
       "\\item 25\n",
       "\\item 27\n",
       "\\item 36\n",
       "\\item 25\n",
       "\\end{enumerate*}\n"
      ],
      "text/markdown": [
       "1. 25\n",
       "2. 24\n",
       "3. 27\n",
       "4. 30\n",
       "5. 24\n",
       "6. 27\n",
       "7. 25\n",
       "8. 27\n",
       "9. 36\n",
       "10. 25\n",
       "\n",
       "\n"
      ],
      "text/plain": [
       " [1] 25 24 27 30 24 27 25 27 36 25"
      ]
     },
     "metadata": {},
     "output_type": "display_data"
    }
   ],
   "source": [
    "row_summs = mat %>% apply(1, sum) # 각 행의 합\n",
    "row_summs"
   ]
  },
  {
   "cell_type": "code",
   "execution_count": 106,
   "id": "65952b9d-65e7-4947-b063-a11c3d036644",
   "metadata": {},
   "outputs": [
    {
     "name": "stdout",
     "output_type": "stream",
     "text": [
      "[1] \"1행의 합 = 25\"\n",
      "[1] \"2행의 합 = 24\"\n",
      "[1] \"3행의 합 = 27\"\n",
      "[1] \"4행의 합 = 30\"\n",
      "[1] \"5행의 합 = 24\"\n",
      "[1] \"6행의 합 = 27\"\n",
      "[1] \"7행의 합 = 25\"\n",
      "[1] \"8행의 합 = 27\"\n",
      "[1] \"9행의 합 = 36\"\n",
      "[1] \"10행의 합 = 25\"\n"
     ]
    }
   ],
   "source": [
    "for (i in 1:length(row_summs)) print(paste0(i,\"행의 합 = \", row_summs[i]))"
   ]
  },
  {
   "cell_type": "markdown",
   "id": "c60b642d-df84-48aa-82c9-efdf5c96f2b5",
   "metadata": {},
   "source": [
    "- 열의 합"
   ]
  },
  {
   "cell_type": "code",
   "execution_count": 103,
   "id": "5961a0e6-0a6c-46e5-8f06-273dbbca9a0c",
   "metadata": {},
   "outputs": [
    {
     "data": {
      "text/html": [
       "<style>\n",
       ".list-inline {list-style: none; margin:0; padding: 0}\n",
       ".list-inline>li {display: inline-block}\n",
       ".list-inline>li:not(:last-child)::after {content: \"\\00b7\"; padding: 0 .5ex}\n",
       "</style>\n",
       "<ol class=list-inline><li>30</li><li>29</li><li>31</li><li>28</li><li>19</li><li>34</li><li>26</li><li>25</li><li>23</li><li>25</li></ol>\n"
      ],
      "text/latex": [
       "\\begin{enumerate*}\n",
       "\\item 30\n",
       "\\item 29\n",
       "\\item 31\n",
       "\\item 28\n",
       "\\item 19\n",
       "\\item 34\n",
       "\\item 26\n",
       "\\item 25\n",
       "\\item 23\n",
       "\\item 25\n",
       "\\end{enumerate*}\n"
      ],
      "text/markdown": [
       "1. 30\n",
       "2. 29\n",
       "3. 31\n",
       "4. 28\n",
       "5. 19\n",
       "6. 34\n",
       "7. 26\n",
       "8. 25\n",
       "9. 23\n",
       "10. 25\n",
       "\n",
       "\n"
      ],
      "text/plain": [
       " [1] 30 29 31 28 19 34 26 25 23 25"
      ]
     },
     "metadata": {},
     "output_type": "display_data"
    }
   ],
   "source": [
    "col_summs = mat %>% apply(2, sum) # 각 행의 합\n",
    "col_summs"
   ]
  },
  {
   "cell_type": "code",
   "execution_count": 107,
   "id": "e4fce4e3-3299-4c18-adb5-7066d865d2c5",
   "metadata": {},
   "outputs": [
    {
     "name": "stdout",
     "output_type": "stream",
     "text": [
      "[1] \"1열의 합 = 30\"\n",
      "[1] \"2열의 합 = 29\"\n",
      "[1] \"3열의 합 = 31\"\n",
      "[1] \"4열의 합 = 28\"\n",
      "[1] \"5열의 합 = 19\"\n",
      "[1] \"6열의 합 = 34\"\n",
      "[1] \"7열의 합 = 26\"\n",
      "[1] \"8열의 합 = 25\"\n",
      "[1] \"9열의 합 = 23\"\n",
      "[1] \"10열의 합 = 25\"\n"
     ]
    }
   ],
   "source": [
    "for (i in 1:length(col_summs)) print(paste0(i,\"열의 합 = \", col_summs[i]))"
   ]
  },
  {
   "cell_type": "markdown",
   "id": "5412d8eb-a07a-4f74-92e0-754d1753f8ac",
   "metadata": {},
   "source": [
    "즉 아래를 구하라 "
   ]
  },
  {
   "cell_type": "markdown",
   "id": "8dded61e-e395-4bc4-a2a5-f936b30029eb",
   "metadata": {},
   "source": [
    "`-` 각 행의 합\n",
    "- 1행의 합 = 2+3+3+ ... +3+3+3 \n",
    "- ...\n",
    "- 10행의 합 = 2+4+4+ ... +2+1+2"
   ]
  },
  {
   "cell_type": "markdown",
   "id": "1600d9a5-363e-4ffd-a756-90bb4dcbd4c3",
   "metadata": {},
   "source": [
    "`-` 각 열의 합\n",
    "- 1열의 합 = 2+1+2+ ... +4+5+2\n",
    "- ...\n",
    "- 10열의 합 = 3+1+3+ ... +2+4+2"
   ]
  },
  {
   "cell_type": "markdown",
   "id": "9ce31908-cc7a-48e0-89b6-6117a143c13c",
   "metadata": {
    "tags": []
   },
   "source": [
    "## `6`. 다음을 잘 읽고 물음에 답하라. (20점)"
   ]
  },
  {
   "cell_type": "markdown",
   "id": "24d014aa-d2c5-417f-afcd-c4bbc35f6403",
   "metadata": {},
   "source": [
    "#### `(1)` 자료 $x_1,x_2,\\dots, x_{50}$에 대하여 다음 과정을 순서대로 시행하였다."
   ]
  },
  {
   "cell_type": "markdown",
   "id": "35ad820e-3421-4c0a-a40c-38c78942ed83",
   "metadata": {},
   "source": [
    "(가) 처음 두 수 $x_1$과 $x_2$의 평균을 구한다. \n",
    "\n",
    "(나) $x_3$을 추가하여 $x_1, x_2, x_3$의 평균을 구한다. \n",
    "\n",
    "(다) $x_4$을 추가하여 $x_1, x_2, x_3, x_4$의 평균을 구한다. \n",
    "\n",
    "...\n",
    "\n",
    "$x_{50}$을 추가하여 $x_1, x_2, x_3 ,\\dots , x_{50}$의 평균을 구한다. "
   ]
  },
  {
   "cell_type": "markdown",
   "id": "4a30daaa-66ce-4344-8ef5-722e8ffb0006",
   "metadata": {},
   "source": [
    "위의 과정을 시행할 결과, $x_1$과 $x_2$의 평균이 5이고, 자료 하나가 추가될때 마다 평균이 1씩 증가하였다. 이때 $x_{50}$의 값은? "
   ]
  },
  {
   "cell_type": "code",
   "execution_count": 110,
   "id": "23450a1d-bd34-4ef3-b764-5e988f704fe6",
   "metadata": {},
   "outputs": [],
   "source": [
    "x <- c()\n",
    "x[1] = 5\n",
    "x[2] = 5"
   ]
  },
  {
   "cell_type": "code",
   "execution_count": 112,
   "id": "9e2bc66d-a234-4bb5-8eb4-666d6020be20",
   "metadata": {},
   "outputs": [],
   "source": [
    "for(n in 3:50){\n",
    "    temp_ = mean(x[1:(n-1)])+1\n",
    "    sum_ = temp_ * n\n",
    "    x[n] = sum_ - sum(x[1:(n-1)])\n",
    "}"
   ]
  },
  {
   "cell_type": "code",
   "execution_count": 118,
   "id": "35d44403-d51f-44c3-bca9-590e8ac41d9b",
   "metadata": {},
   "outputs": [
    {
     "data": {
      "text/html": [
       "102"
      ],
      "text/latex": [
       "102"
      ],
      "text/markdown": [
       "102"
      ],
      "text/plain": [
       "[1] 102"
      ]
     },
     "metadata": {},
     "output_type": "display_data"
    }
   ],
   "source": [
    "x[50]"
   ]
  },
  {
   "cell_type": "markdown",
   "id": "2e2653d1-f565-4900-ad35-4431ed1d074d",
   "metadata": {
    "tags": []
   },
   "source": [
    "#### `(2)` 복도의 라커 \n",
    "\n",
    "복도에 100개의 라커가 있다. 복도를 어떤 남자가 **짝수번호**의 라커를 모두 연다. 그리고 나서 3의 배수의 라커를 전부 닫는다. 그 다음에는 번호가 4의 배수인 라커를 순서대로 찾아다니며 열려 있으면 닫고, 닫혀 있으면 연다. 그 다음에는 번호가 5의 배수인 라커를 순서대로 찾아다니며 열려있으면 닫고, 닫혀있으면 연다. 이후에 6의 배수, 7의 배수 .. 인 라커를 순서대로 찾아다니며 행동을 반복한다. 이런식으로 복도를 **50번** 지나가면 열린 라커의 문은 몇개가 되겠는가? (주의: 중간고사문제와 약간다릅니다, 다른부분은 볼드체 표시했습니다)"
   ]
  },
  {
   "cell_type": "code",
   "execution_count": 119,
   "id": "66f9b243-02f3-4e29-8b26-23140c418be2",
   "metadata": {},
   "outputs": [],
   "source": [
    "#TRUE = OPEN\n",
    "#FALSE = CLOSE\n",
    "\n",
    "A = c(rep(FALSE, 100))"
   ]
  },
  {
   "cell_type": "code",
   "execution_count": 128,
   "id": "0cc47413-7730-495d-b37d-53fbd2f415ec",
   "metadata": {},
   "outputs": [
    {
     "data": {
      "text/html": [
       "<style>\n",
       ".list-inline {list-style: none; margin:0; padding: 0}\n",
       ".list-inline>li {display: inline-block}\n",
       ".list-inline>li:not(:last-child)::after {content: \"\\00b7\"; padding: 0 .5ex}\n",
       "</style>\n",
       "<ol class=list-inline><li>FALSE</li><li>TRUE</li><li>FALSE</li><li>TRUE</li><li>FALSE</li><li>TRUE</li><li>FALSE</li><li>TRUE</li><li>FALSE</li><li>TRUE</li><li>FALSE</li><li>TRUE</li><li>FALSE</li><li>TRUE</li><li>FALSE</li><li>TRUE</li><li>FALSE</li><li>TRUE</li><li>FALSE</li><li>TRUE</li><li>FALSE</li><li>TRUE</li><li>FALSE</li><li>TRUE</li><li>FALSE</li><li>TRUE</li><li>FALSE</li><li>TRUE</li><li>FALSE</li><li>TRUE</li><li>FALSE</li><li>TRUE</li><li>FALSE</li><li>TRUE</li><li>FALSE</li><li>TRUE</li><li>FALSE</li><li>TRUE</li><li>FALSE</li><li>TRUE</li><li>FALSE</li><li>TRUE</li><li>FALSE</li><li>TRUE</li><li>FALSE</li><li>TRUE</li><li>FALSE</li><li>TRUE</li><li>FALSE</li><li>TRUE</li><li>FALSE</li><li>TRUE</li><li>FALSE</li><li>TRUE</li><li>FALSE</li><li>TRUE</li><li>FALSE</li><li>TRUE</li><li>FALSE</li><li>TRUE</li><li>FALSE</li><li>TRUE</li><li>FALSE</li><li>TRUE</li><li>FALSE</li><li>TRUE</li><li>FALSE</li><li>TRUE</li><li>FALSE</li><li>TRUE</li><li>FALSE</li><li>TRUE</li><li>FALSE</li><li>TRUE</li><li>FALSE</li><li>TRUE</li><li>FALSE</li><li>TRUE</li><li>FALSE</li><li>TRUE</li><li>FALSE</li><li>TRUE</li><li>FALSE</li><li>TRUE</li><li>FALSE</li><li>TRUE</li><li>FALSE</li><li>TRUE</li><li>FALSE</li><li>TRUE</li><li>FALSE</li><li>TRUE</li><li>FALSE</li><li>TRUE</li><li>FALSE</li><li>TRUE</li><li>FALSE</li><li>TRUE</li><li>FALSE</li><li>TRUE</li></ol>\n"
      ],
      "text/latex": [
       "\\begin{enumerate*}\n",
       "\\item FALSE\n",
       "\\item TRUE\n",
       "\\item FALSE\n",
       "\\item TRUE\n",
       "\\item FALSE\n",
       "\\item TRUE\n",
       "\\item FALSE\n",
       "\\item TRUE\n",
       "\\item FALSE\n",
       "\\item TRUE\n",
       "\\item FALSE\n",
       "\\item TRUE\n",
       "\\item FALSE\n",
       "\\item TRUE\n",
       "\\item FALSE\n",
       "\\item TRUE\n",
       "\\item FALSE\n",
       "\\item TRUE\n",
       "\\item FALSE\n",
       "\\item TRUE\n",
       "\\item FALSE\n",
       "\\item TRUE\n",
       "\\item FALSE\n",
       "\\item TRUE\n",
       "\\item FALSE\n",
       "\\item TRUE\n",
       "\\item FALSE\n",
       "\\item TRUE\n",
       "\\item FALSE\n",
       "\\item TRUE\n",
       "\\item FALSE\n",
       "\\item TRUE\n",
       "\\item FALSE\n",
       "\\item TRUE\n",
       "\\item FALSE\n",
       "\\item TRUE\n",
       "\\item FALSE\n",
       "\\item TRUE\n",
       "\\item FALSE\n",
       "\\item TRUE\n",
       "\\item FALSE\n",
       "\\item TRUE\n",
       "\\item FALSE\n",
       "\\item TRUE\n",
       "\\item FALSE\n",
       "\\item TRUE\n",
       "\\item FALSE\n",
       "\\item TRUE\n",
       "\\item FALSE\n",
       "\\item TRUE\n",
       "\\item FALSE\n",
       "\\item TRUE\n",
       "\\item FALSE\n",
       "\\item TRUE\n",
       "\\item FALSE\n",
       "\\item TRUE\n",
       "\\item FALSE\n",
       "\\item TRUE\n",
       "\\item FALSE\n",
       "\\item TRUE\n",
       "\\item FALSE\n",
       "\\item TRUE\n",
       "\\item FALSE\n",
       "\\item TRUE\n",
       "\\item FALSE\n",
       "\\item TRUE\n",
       "\\item FALSE\n",
       "\\item TRUE\n",
       "\\item FALSE\n",
       "\\item TRUE\n",
       "\\item FALSE\n",
       "\\item TRUE\n",
       "\\item FALSE\n",
       "\\item TRUE\n",
       "\\item FALSE\n",
       "\\item TRUE\n",
       "\\item FALSE\n",
       "\\item TRUE\n",
       "\\item FALSE\n",
       "\\item TRUE\n",
       "\\item FALSE\n",
       "\\item TRUE\n",
       "\\item FALSE\n",
       "\\item TRUE\n",
       "\\item FALSE\n",
       "\\item TRUE\n",
       "\\item FALSE\n",
       "\\item TRUE\n",
       "\\item FALSE\n",
       "\\item TRUE\n",
       "\\item FALSE\n",
       "\\item TRUE\n",
       "\\item FALSE\n",
       "\\item TRUE\n",
       "\\item FALSE\n",
       "\\item TRUE\n",
       "\\item FALSE\n",
       "\\item TRUE\n",
       "\\item FALSE\n",
       "\\item TRUE\n",
       "\\end{enumerate*}\n"
      ],
      "text/markdown": [
       "1. FALSE\n",
       "2. TRUE\n",
       "3. FALSE\n",
       "4. TRUE\n",
       "5. FALSE\n",
       "6. TRUE\n",
       "7. FALSE\n",
       "8. TRUE\n",
       "9. FALSE\n",
       "10. TRUE\n",
       "11. FALSE\n",
       "12. TRUE\n",
       "13. FALSE\n",
       "14. TRUE\n",
       "15. FALSE\n",
       "16. TRUE\n",
       "17. FALSE\n",
       "18. TRUE\n",
       "19. FALSE\n",
       "20. TRUE\n",
       "21. FALSE\n",
       "22. TRUE\n",
       "23. FALSE\n",
       "24. TRUE\n",
       "25. FALSE\n",
       "26. TRUE\n",
       "27. FALSE\n",
       "28. TRUE\n",
       "29. FALSE\n",
       "30. TRUE\n",
       "31. FALSE\n",
       "32. TRUE\n",
       "33. FALSE\n",
       "34. TRUE\n",
       "35. FALSE\n",
       "36. TRUE\n",
       "37. FALSE\n",
       "38. TRUE\n",
       "39. FALSE\n",
       "40. TRUE\n",
       "41. FALSE\n",
       "42. TRUE\n",
       "43. FALSE\n",
       "44. TRUE\n",
       "45. FALSE\n",
       "46. TRUE\n",
       "47. FALSE\n",
       "48. TRUE\n",
       "49. FALSE\n",
       "50. TRUE\n",
       "51. FALSE\n",
       "52. TRUE\n",
       "53. FALSE\n",
       "54. TRUE\n",
       "55. FALSE\n",
       "56. TRUE\n",
       "57. FALSE\n",
       "58. TRUE\n",
       "59. FALSE\n",
       "60. TRUE\n",
       "61. FALSE\n",
       "62. TRUE\n",
       "63. FALSE\n",
       "64. TRUE\n",
       "65. FALSE\n",
       "66. TRUE\n",
       "67. FALSE\n",
       "68. TRUE\n",
       "69. FALSE\n",
       "70. TRUE\n",
       "71. FALSE\n",
       "72. TRUE\n",
       "73. FALSE\n",
       "74. TRUE\n",
       "75. FALSE\n",
       "76. TRUE\n",
       "77. FALSE\n",
       "78. TRUE\n",
       "79. FALSE\n",
       "80. TRUE\n",
       "81. FALSE\n",
       "82. TRUE\n",
       "83. FALSE\n",
       "84. TRUE\n",
       "85. FALSE\n",
       "86. TRUE\n",
       "87. FALSE\n",
       "88. TRUE\n",
       "89. FALSE\n",
       "90. TRUE\n",
       "91. FALSE\n",
       "92. TRUE\n",
       "93. FALSE\n",
       "94. TRUE\n",
       "95. FALSE\n",
       "96. TRUE\n",
       "97. FALSE\n",
       "98. TRUE\n",
       "99. FALSE\n",
       "100. TRUE\n",
       "\n",
       "\n"
      ],
      "text/plain": [
       "  [1] FALSE  TRUE FALSE  TRUE FALSE  TRUE FALSE  TRUE FALSE  TRUE FALSE  TRUE\n",
       " [13] FALSE  TRUE FALSE  TRUE FALSE  TRUE FALSE  TRUE FALSE  TRUE FALSE  TRUE\n",
       " [25] FALSE  TRUE FALSE  TRUE FALSE  TRUE FALSE  TRUE FALSE  TRUE FALSE  TRUE\n",
       " [37] FALSE  TRUE FALSE  TRUE FALSE  TRUE FALSE  TRUE FALSE  TRUE FALSE  TRUE\n",
       " [49] FALSE  TRUE FALSE  TRUE FALSE  TRUE FALSE  TRUE FALSE  TRUE FALSE  TRUE\n",
       " [61] FALSE  TRUE FALSE  TRUE FALSE  TRUE FALSE  TRUE FALSE  TRUE FALSE  TRUE\n",
       " [73] FALSE  TRUE FALSE  TRUE FALSE  TRUE FALSE  TRUE FALSE  TRUE FALSE  TRUE\n",
       " [85] FALSE  TRUE FALSE  TRUE FALSE  TRUE FALSE  TRUE FALSE  TRUE FALSE  TRUE\n",
       " [97] FALSE  TRUE FALSE  TRUE"
      ]
     },
     "metadata": {},
     "output_type": "display_data"
    }
   ],
   "source": [
    "A[(1:100)%%2 == 0] = TRUE\n",
    "A"
   ]
  },
  {
   "cell_type": "code",
   "execution_count": 130,
   "id": "ffeda1b4-4ce6-4131-b1f8-976980501f17",
   "metadata": {},
   "outputs": [
    {
     "data": {
      "text/html": [
       "<style>\n",
       ".list-inline {list-style: none; margin:0; padding: 0}\n",
       ".list-inline>li {display: inline-block}\n",
       ".list-inline>li:not(:last-child)::after {content: \"\\00b7\"; padding: 0 .5ex}\n",
       "</style>\n",
       "<ol class=list-inline><li>FALSE</li><li>TRUE</li><li>FALSE</li><li>TRUE</li><li>FALSE</li><li>FALSE</li><li>FALSE</li><li>TRUE</li><li>FALSE</li><li>TRUE</li><li>FALSE</li><li>FALSE</li><li>FALSE</li><li>TRUE</li><li>FALSE</li><li>TRUE</li><li>FALSE</li><li>FALSE</li><li>FALSE</li><li>TRUE</li><li>FALSE</li><li>TRUE</li><li>FALSE</li><li>FALSE</li><li>FALSE</li><li>TRUE</li><li>FALSE</li><li>TRUE</li><li>FALSE</li><li>FALSE</li><li>FALSE</li><li>TRUE</li><li>FALSE</li><li>TRUE</li><li>FALSE</li><li>FALSE</li><li>FALSE</li><li>TRUE</li><li>FALSE</li><li>TRUE</li><li>FALSE</li><li>FALSE</li><li>FALSE</li><li>TRUE</li><li>FALSE</li><li>TRUE</li><li>FALSE</li><li>FALSE</li><li>FALSE</li><li>TRUE</li><li>FALSE</li><li>TRUE</li><li>FALSE</li><li>FALSE</li><li>FALSE</li><li>TRUE</li><li>FALSE</li><li>TRUE</li><li>FALSE</li><li>FALSE</li><li>FALSE</li><li>TRUE</li><li>FALSE</li><li>TRUE</li><li>FALSE</li><li>FALSE</li><li>FALSE</li><li>TRUE</li><li>FALSE</li><li>TRUE</li><li>FALSE</li><li>FALSE</li><li>FALSE</li><li>TRUE</li><li>FALSE</li><li>TRUE</li><li>FALSE</li><li>FALSE</li><li>FALSE</li><li>TRUE</li><li>FALSE</li><li>TRUE</li><li>FALSE</li><li>FALSE</li><li>FALSE</li><li>TRUE</li><li>FALSE</li><li>TRUE</li><li>FALSE</li><li>FALSE</li><li>FALSE</li><li>TRUE</li><li>FALSE</li><li>TRUE</li><li>FALSE</li><li>FALSE</li><li>FALSE</li><li>TRUE</li><li>FALSE</li><li>TRUE</li></ol>\n"
      ],
      "text/latex": [
       "\\begin{enumerate*}\n",
       "\\item FALSE\n",
       "\\item TRUE\n",
       "\\item FALSE\n",
       "\\item TRUE\n",
       "\\item FALSE\n",
       "\\item FALSE\n",
       "\\item FALSE\n",
       "\\item TRUE\n",
       "\\item FALSE\n",
       "\\item TRUE\n",
       "\\item FALSE\n",
       "\\item FALSE\n",
       "\\item FALSE\n",
       "\\item TRUE\n",
       "\\item FALSE\n",
       "\\item TRUE\n",
       "\\item FALSE\n",
       "\\item FALSE\n",
       "\\item FALSE\n",
       "\\item TRUE\n",
       "\\item FALSE\n",
       "\\item TRUE\n",
       "\\item FALSE\n",
       "\\item FALSE\n",
       "\\item FALSE\n",
       "\\item TRUE\n",
       "\\item FALSE\n",
       "\\item TRUE\n",
       "\\item FALSE\n",
       "\\item FALSE\n",
       "\\item FALSE\n",
       "\\item TRUE\n",
       "\\item FALSE\n",
       "\\item TRUE\n",
       "\\item FALSE\n",
       "\\item FALSE\n",
       "\\item FALSE\n",
       "\\item TRUE\n",
       "\\item FALSE\n",
       "\\item TRUE\n",
       "\\item FALSE\n",
       "\\item FALSE\n",
       "\\item FALSE\n",
       "\\item TRUE\n",
       "\\item FALSE\n",
       "\\item TRUE\n",
       "\\item FALSE\n",
       "\\item FALSE\n",
       "\\item FALSE\n",
       "\\item TRUE\n",
       "\\item FALSE\n",
       "\\item TRUE\n",
       "\\item FALSE\n",
       "\\item FALSE\n",
       "\\item FALSE\n",
       "\\item TRUE\n",
       "\\item FALSE\n",
       "\\item TRUE\n",
       "\\item FALSE\n",
       "\\item FALSE\n",
       "\\item FALSE\n",
       "\\item TRUE\n",
       "\\item FALSE\n",
       "\\item TRUE\n",
       "\\item FALSE\n",
       "\\item FALSE\n",
       "\\item FALSE\n",
       "\\item TRUE\n",
       "\\item FALSE\n",
       "\\item TRUE\n",
       "\\item FALSE\n",
       "\\item FALSE\n",
       "\\item FALSE\n",
       "\\item TRUE\n",
       "\\item FALSE\n",
       "\\item TRUE\n",
       "\\item FALSE\n",
       "\\item FALSE\n",
       "\\item FALSE\n",
       "\\item TRUE\n",
       "\\item FALSE\n",
       "\\item TRUE\n",
       "\\item FALSE\n",
       "\\item FALSE\n",
       "\\item FALSE\n",
       "\\item TRUE\n",
       "\\item FALSE\n",
       "\\item TRUE\n",
       "\\item FALSE\n",
       "\\item FALSE\n",
       "\\item FALSE\n",
       "\\item TRUE\n",
       "\\item FALSE\n",
       "\\item TRUE\n",
       "\\item FALSE\n",
       "\\item FALSE\n",
       "\\item FALSE\n",
       "\\item TRUE\n",
       "\\item FALSE\n",
       "\\item TRUE\n",
       "\\end{enumerate*}\n"
      ],
      "text/markdown": [
       "1. FALSE\n",
       "2. TRUE\n",
       "3. FALSE\n",
       "4. TRUE\n",
       "5. FALSE\n",
       "6. FALSE\n",
       "7. FALSE\n",
       "8. TRUE\n",
       "9. FALSE\n",
       "10. TRUE\n",
       "11. FALSE\n",
       "12. FALSE\n",
       "13. FALSE\n",
       "14. TRUE\n",
       "15. FALSE\n",
       "16. TRUE\n",
       "17. FALSE\n",
       "18. FALSE\n",
       "19. FALSE\n",
       "20. TRUE\n",
       "21. FALSE\n",
       "22. TRUE\n",
       "23. FALSE\n",
       "24. FALSE\n",
       "25. FALSE\n",
       "26. TRUE\n",
       "27. FALSE\n",
       "28. TRUE\n",
       "29. FALSE\n",
       "30. FALSE\n",
       "31. FALSE\n",
       "32. TRUE\n",
       "33. FALSE\n",
       "34. TRUE\n",
       "35. FALSE\n",
       "36. FALSE\n",
       "37. FALSE\n",
       "38. TRUE\n",
       "39. FALSE\n",
       "40. TRUE\n",
       "41. FALSE\n",
       "42. FALSE\n",
       "43. FALSE\n",
       "44. TRUE\n",
       "45. FALSE\n",
       "46. TRUE\n",
       "47. FALSE\n",
       "48. FALSE\n",
       "49. FALSE\n",
       "50. TRUE\n",
       "51. FALSE\n",
       "52. TRUE\n",
       "53. FALSE\n",
       "54. FALSE\n",
       "55. FALSE\n",
       "56. TRUE\n",
       "57. FALSE\n",
       "58. TRUE\n",
       "59. FALSE\n",
       "60. FALSE\n",
       "61. FALSE\n",
       "62. TRUE\n",
       "63. FALSE\n",
       "64. TRUE\n",
       "65. FALSE\n",
       "66. FALSE\n",
       "67. FALSE\n",
       "68. TRUE\n",
       "69. FALSE\n",
       "70. TRUE\n",
       "71. FALSE\n",
       "72. FALSE\n",
       "73. FALSE\n",
       "74. TRUE\n",
       "75. FALSE\n",
       "76. TRUE\n",
       "77. FALSE\n",
       "78. FALSE\n",
       "79. FALSE\n",
       "80. TRUE\n",
       "81. FALSE\n",
       "82. TRUE\n",
       "83. FALSE\n",
       "84. FALSE\n",
       "85. FALSE\n",
       "86. TRUE\n",
       "87. FALSE\n",
       "88. TRUE\n",
       "89. FALSE\n",
       "90. FALSE\n",
       "91. FALSE\n",
       "92. TRUE\n",
       "93. FALSE\n",
       "94. TRUE\n",
       "95. FALSE\n",
       "96. FALSE\n",
       "97. FALSE\n",
       "98. TRUE\n",
       "99. FALSE\n",
       "100. TRUE\n",
       "\n",
       "\n"
      ],
      "text/plain": [
       "  [1] FALSE  TRUE FALSE  TRUE FALSE FALSE FALSE  TRUE FALSE  TRUE FALSE FALSE\n",
       " [13] FALSE  TRUE FALSE  TRUE FALSE FALSE FALSE  TRUE FALSE  TRUE FALSE FALSE\n",
       " [25] FALSE  TRUE FALSE  TRUE FALSE FALSE FALSE  TRUE FALSE  TRUE FALSE FALSE\n",
       " [37] FALSE  TRUE FALSE  TRUE FALSE FALSE FALSE  TRUE FALSE  TRUE FALSE FALSE\n",
       " [49] FALSE  TRUE FALSE  TRUE FALSE FALSE FALSE  TRUE FALSE  TRUE FALSE FALSE\n",
       " [61] FALSE  TRUE FALSE  TRUE FALSE FALSE FALSE  TRUE FALSE  TRUE FALSE FALSE\n",
       " [73] FALSE  TRUE FALSE  TRUE FALSE FALSE FALSE  TRUE FALSE  TRUE FALSE FALSE\n",
       " [85] FALSE  TRUE FALSE  TRUE FALSE FALSE FALSE  TRUE FALSE  TRUE FALSE FALSE\n",
       " [97] FALSE  TRUE FALSE  TRUE"
      ]
     },
     "metadata": {},
     "output_type": "display_data"
    }
   ],
   "source": [
    "A[(1:100)%%3 == 0] = FALSE\n",
    "A"
   ]
  },
  {
   "cell_type": "code",
   "execution_count": 131,
   "id": "c8c786b2-0299-4722-91b0-2cb02c2a0fba",
   "metadata": {},
   "outputs": [
    {
     "data": {
      "text/html": [
       "54"
      ],
      "text/latex": [
       "54"
      ],
      "text/markdown": [
       "54"
      ],
      "text/plain": [
       "[1] 54"
      ]
     },
     "metadata": {},
     "output_type": "display_data"
    }
   ],
   "source": [
    "for (i in 4:50){ #배수\n",
    "    for (k in 1:50){ #몇번방\n",
    "        if (k%%i == 0){\n",
    "            if (A[k] == TRUE){\n",
    "                A[k] = FALSE\n",
    "                \n",
    "            }\n",
    "            else {\n",
    "                A[k] = TRUE\n",
    "            }\n",
    "        }\n",
    "    }\n",
    "}\n",
    "sum(A)"
   ]
  },
  {
   "cell_type": "markdown",
   "id": "e2f77aba-17d3-45c0-977b-ebc7ebc1b007",
   "metadata": {},
   "source": [
    "#### `(3)` 몬테카를로 시뮬레이션을 이용하여 원주율 $\\pi$를 추론하는 코드를 작성하라. "
   ]
  },
  {
   "cell_type": "markdown",
   "id": "febd1ca6-49b4-4c01-a87e-525867f5b014",
   "metadata": {},
   "source": [
    "$x^2 + y^2 = 1$"
   ]
  },
  {
   "cell_type": "markdown",
   "id": "f4e3e747-4b66-449f-b3f3-bd48781cfec6",
   "metadata": {},
   "source": [
    "$ y= \\sqrt{(1-x^2)} $"
   ]
  },
  {
   "cell_type": "code",
   "execution_count": 134,
   "id": "5649b945-a307-4ae5-8dc0-274feb2f9bce",
   "metadata": {},
   "outputs": [],
   "source": [
    "f63 = function(x) sqrt(1-x^2)"
   ]
  },
  {
   "cell_type": "code",
   "execution_count": 139,
   "id": "eaac43d4-0483-49bf-8e60-4e4dcf81172d",
   "metadata": {},
   "outputs": [
    {
     "data": {
      "text/html": [
       "3.14194952"
      ],
      "text/latex": [
       "3.14194952"
      ],
      "text/markdown": [
       "3.14194952"
      ],
      "text/plain": [
       "[1] 3.14195"
      ]
     },
     "metadata": {},
     "output_type": "display_data"
    }
   ],
   "source": [
    "xx = runif(n = 100000000, min = -1, max = 1)\n",
    "yy = f63(xx)\n",
    "rand_yy = runif(n = 100000000, min = 0, max = 1)\n",
    "\n",
    "inn = (yy >= rand_yy) %>% sum\n",
    "outt = (yy < rand_yy) %>% sum\n",
    "summ = inn + outt\n",
    "\n",
    "S = 2 * 2 * inn/summ\n",
    "S"
   ]
  },
  {
   "cell_type": "markdown",
   "id": "a7cb2b6d-2e38-4a79-9df1-cbfa5794c3c5",
   "metadata": {},
   "source": [
    "단위원이므로 원주율 = 3.14..."
   ]
  },
  {
   "cell_type": "markdown",
   "id": "6d96b655-723b-4b88-be3a-179599fec430",
   "metadata": {},
   "source": [
    "#### `(4)` 아래와 같은 연립일차방정식을 푸는 R코드를 작성하라. "
   ]
  },
  {
   "cell_type": "markdown",
   "id": "1242cd3f-41fe-4f41-870d-311c0ec85d69",
   "metadata": {},
   "source": [
    "$\\begin{cases}\n",
    "w+2x+3y+4z=1 \\\\\n",
    "2w+2x+y=9 \\\\\n",
    "x-y=4 \\\\\n",
    "3w+x-y+3y=7\n",
    "\\end{cases}$\n"
   ]
  },
  {
   "cell_type": "code",
   "execution_count": 14,
   "id": "50c8729c-c2b4-48f0-9430-38aee9ed4d78",
   "metadata": {},
   "outputs": [
    {
     "data": {
      "text/html": [
       "<table class=\"dataframe\">\n",
       "<caption>A matrix: 4 × 4 of type dbl</caption>\n",
       "<tbody>\n",
       "\t<tr><td>1</td><td>2</td><td> 3</td><td>4</td></tr>\n",
       "\t<tr><td>2</td><td>2</td><td> 1</td><td>0</td></tr>\n",
       "\t<tr><td>0</td><td>1</td><td>-1</td><td>0</td></tr>\n",
       "\t<tr><td>3</td><td>1</td><td>-1</td><td>3</td></tr>\n",
       "</tbody>\n",
       "</table>\n"
      ],
      "text/latex": [
       "A matrix: 4 × 4 of type dbl\n",
       "\\begin{tabular}{llll}\n",
       "\t 1 & 2 &  3 & 4\\\\\n",
       "\t 2 & 2 &  1 & 0\\\\\n",
       "\t 0 & 1 & -1 & 0\\\\\n",
       "\t 3 & 1 & -1 & 3\\\\\n",
       "\\end{tabular}\n"
      ],
      "text/markdown": [
       "\n",
       "A matrix: 4 × 4 of type dbl\n",
       "\n",
       "| 1 | 2 |  3 | 4 |\n",
       "| 2 | 2 |  1 | 0 |\n",
       "| 0 | 1 | -1 | 0 |\n",
       "| 3 | 1 | -1 | 3 |\n",
       "\n"
      ],
      "text/plain": [
       "     [,1] [,2] [,3] [,4]\n",
       "[1,] 1    2     3   4   \n",
       "[2,] 2    2     1   0   \n",
       "[3,] 0    1    -1   0   \n",
       "[4,] 3    1    -1   3   "
      ]
     },
     "metadata": {},
     "output_type": "display_data"
    }
   ],
   "source": [
    "mattt = rbind(c(1,2,3,4), c(2,2,1,0), c(0,1, -1,0), c(3,1,-1,3))\n",
    "mattt"
   ]
  },
  {
   "cell_type": "code",
   "execution_count": 15,
   "id": "69d0125e-cf1c-4ba6-809c-6721995b2f29",
   "metadata": {},
   "outputs": [],
   "source": [
    "ccc = cbind(c(1,9,4,7))"
   ]
  },
  {
   "cell_type": "code",
   "execution_count": 16,
   "id": "83346cc3-e2be-4e95-ba04-befedad41de2",
   "metadata": {},
   "outputs": [
    {
     "data": {
      "text/html": [
       "<table class=\"dataframe\">\n",
       "<caption>A matrix: 4 × 1 of type dbl</caption>\n",
       "<tbody>\n",
       "\t<tr><td> 2</td></tr>\n",
       "\t<tr><td> 3</td></tr>\n",
       "\t<tr><td>-1</td></tr>\n",
       "\t<tr><td>-1</td></tr>\n",
       "</tbody>\n",
       "</table>\n"
      ],
      "text/latex": [
       "A matrix: 4 × 1 of type dbl\n",
       "\\begin{tabular}{l}\n",
       "\t  2\\\\\n",
       "\t  3\\\\\n",
       "\t -1\\\\\n",
       "\t -1\\\\\n",
       "\\end{tabular}\n"
      ],
      "text/markdown": [
       "\n",
       "A matrix: 4 × 1 of type dbl\n",
       "\n",
       "|  2 |\n",
       "|  3 |\n",
       "| -1 |\n",
       "| -1 |\n",
       "\n"
      ],
      "text/plain": [
       "     [,1]\n",
       "[1,]  2  \n",
       "[2,]  3  \n",
       "[3,] -1  \n",
       "[4,] -1  "
      ]
     },
     "metadata": {},
     "output_type": "display_data"
    }
   ],
   "source": [
    "solve(mattt) %*% ccc"
   ]
  },
  {
   "cell_type": "markdown",
   "id": "8c0bca0f-2b2b-483e-98bf-46f560db01f7",
   "metadata": {},
   "source": [
    "#### `(5)` 우산의 회전"
   ]
  },
  {
   "cell_type": "markdown",
   "id": "856adbd0-6cac-4de3-9a4e-5758c5b3c60a",
   "metadata": {},
   "source": [
    "다음은 인터넷에서 어떠한 자료를 다운받아 매트릭스로 저장하는 코드이다. \n",
    "```R\n",
    "df=read.csv(\"https://raw.githubusercontent.com/guebin/2021IR/master/_notebooks/round2.csv\")\n",
    "X=as.matrix(df)\n",
    "```\n",
    "매트릭스는 `X`이라는 변수에 저장되어 있다. 저장된 모양은 아래와 같다. \n",
    "$${\\bf X}= \n",
    "\\begin{bmatrix}\n",
    "x_1 & y_1 \\\\ \n",
    "x_2 & y_2 \\\\ \n",
    "\\dots & \\dots \\\\ \n",
    "x_{5513} & y_{5513}\n",
    "\\end{bmatrix}\n",
    "$$\n",
    "아래를 계산하여 $\\tilde{\\bf X}$를 만들고 \n",
    "$$\n",
    "\\tilde{\\bf X}={\\bf X} \\begin{bmatrix}\n",
    "\\cos(\\frac{\\pi}{4}) & -\\sin (\\frac{\\pi}{4}) \\\\\n",
    "\\sin(\\frac{\\pi}{4}) & \\cos (\\frac{\\pi}{4})\n",
    "\\end{bmatrix} \n",
    "$$"
   ]
  },
  {
   "cell_type": "code",
   "execution_count": 1,
   "id": "72cb2b26-bdef-4d94-8dfb-2d55b63c424e",
   "metadata": {},
   "outputs": [
    {
     "data": {
      "text/html": [
       "0.707106781186548"
      ],
      "text/latex": [
       "0.707106781186548"
      ],
      "text/markdown": [
       "0.707106781186548"
      ],
      "text/plain": [
       "[1] 0.7071068"
      ]
     },
     "metadata": {},
     "output_type": "display_data"
    }
   ],
   "source": [
    "sqrt(2)/2"
   ]
  },
  {
   "cell_type": "code",
   "execution_count": 151,
   "id": "cdf7f0fe-874f-43ea-b9e5-58bca36b41b5",
   "metadata": {},
   "outputs": [
    {
     "data": {
      "text/html": [
       "<table class=\"dataframe\">\n",
       "<caption>A matrix: 2 × 2 of type dbl</caption>\n",
       "<tbody>\n",
       "\t<tr><td>0.7071068</td><td>-0.7071068</td></tr>\n",
       "\t<tr><td>0.7071068</td><td> 0.7071068</td></tr>\n",
       "</tbody>\n",
       "</table>\n"
      ],
      "text/latex": [
       "A matrix: 2 × 2 of type dbl\n",
       "\\begin{tabular}{ll}\n",
       "\t 0.7071068 & -0.7071068\\\\\n",
       "\t 0.7071068 &  0.7071068\\\\\n",
       "\\end{tabular}\n"
      ],
      "text/markdown": [
       "\n",
       "A matrix: 2 × 2 of type dbl\n",
       "\n",
       "| 0.7071068 | -0.7071068 |\n",
       "| 0.7071068 |  0.7071068 |\n",
       "\n"
      ],
      "text/plain": [
       "     [,1]      [,2]      \n",
       "[1,] 0.7071068 -0.7071068\n",
       "[2,] 0.7071068  0.7071068"
      ]
     },
     "metadata": {},
     "output_type": "display_data"
    }
   ],
   "source": [
    "cbind(c(cos(pi/4), sin(pi/4)), c(-sin(pi/4), cos(pi/4)))"
   ]
  },
  {
   "cell_type": "code",
   "execution_count": 155,
   "id": "9833fdc1-cd59-4193-bb3e-e5f007e870dc",
   "metadata": {},
   "outputs": [
    {
     "data": {
      "text/html": [
       "<table class=\"dataframe\">\n",
       "<caption>A matrix: 6 × 2 of type dbl</caption>\n",
       "<tbody>\n",
       "\t<tr><td>229.8097</td><td>212.8391</td></tr>\n",
       "\t<tr><td>230.5168</td><td>213.5462</td></tr>\n",
       "\t<tr><td>206.4752</td><td>188.0904</td></tr>\n",
       "\t<tr><td>229.1026</td><td>210.7178</td></tr>\n",
       "\t<tr><td>229.8097</td><td>211.4249</td></tr>\n",
       "\t<tr><td>230.5168</td><td>212.1320</td></tr>\n",
       "</tbody>\n",
       "</table>\n"
      ],
      "text/latex": [
       "A matrix: 6 × 2 of type dbl\n",
       "\\begin{tabular}{ll}\n",
       "\t 229.8097 & 212.8391\\\\\n",
       "\t 230.5168 & 213.5462\\\\\n",
       "\t 206.4752 & 188.0904\\\\\n",
       "\t 229.1026 & 210.7178\\\\\n",
       "\t 229.8097 & 211.4249\\\\\n",
       "\t 230.5168 & 212.1320\\\\\n",
       "\\end{tabular}\n"
      ],
      "text/markdown": [
       "\n",
       "A matrix: 6 × 2 of type dbl\n",
       "\n",
       "| 229.8097 | 212.8391 |\n",
       "| 230.5168 | 213.5462 |\n",
       "| 206.4752 | 188.0904 |\n",
       "| 229.1026 | 210.7178 |\n",
       "| 229.8097 | 211.4249 |\n",
       "| 230.5168 | 212.1320 |\n",
       "\n"
      ],
      "text/plain": [
       "     [,1]     [,2]    \n",
       "[1,] 229.8097 212.8391\n",
       "[2,] 230.5168 213.5462\n",
       "[3,] 206.4752 188.0904\n",
       "[4,] 229.1026 210.7178\n",
       "[5,] 229.8097 211.4249\n",
       "[6,] 230.5168 212.1320"
      ]
     },
     "metadata": {},
     "output_type": "display_data"
    }
   ],
   "source": [
    "df=read.csv(\"https://raw.githubusercontent.com/guebin/2021IR/master/_notebooks/round2.csv\")\n",
    "X=as.matrix(df)\n",
    "XXT = X %*% cbind(c(cos(pi/4), sin(pi/4)), c(-sin(pi/4), cos(pi/4)))\n",
    "XXT %>% head"
   ]
  },
  {
   "cell_type": "code",
   "execution_count": 156,
   "id": "5d544ed3-f6c3-4550-b624-50917a913783",
   "metadata": {},
   "outputs": [
    {
     "data": {
      "image/png": "[encoded data removed]",
      "text/plain": [
       "plot without title"
      ]
     },
     "metadata": {
      "image/png": {
       "height": 420,
       "width": 420
      }
     },
     "output_type": "display_data"
    }
   ],
   "source": [
    "plot(XXT[,1], XXT[,2])"
   ]
  },
  {
   "cell_type": "markdown",
   "id": "ed520940-df49-49ea-b613-704f98d7d0e3",
   "metadata": {},
   "source": [
    "$\\tilde{\\bf X}$의 첫번째열을 $x$축으로, 두번째열을 $y$축으로 하여 시각화 하라. 시각화 예시는 아래와 같다. "
   ]
  },
  {
   "cell_type": "markdown",
   "id": "25975e05-2cf1-47b6-b126-b8caf43009af",
   "metadata": {},
   "source": [
    "![](https://github.com/guebin/2021IR/blob/master/_notebooks/final_fig5.png?raw=true)"
   ]
  }
 ],
 "metadata": {
  "kernelspec": {
   "display_name": "R",
   "language": "R",
   "name": "ir"
  },
  "language_info": {
   "codemirror_mode": "r",
   "file_extension": ".r",
   "mimetype": "text/x-r-source",
   "name": "R",
   "pygments_lexer": "r",
   "version": "4.0.5"
  },
  "widgets": {
   "application/vnd.jupyter.widget-state+json": {
    "state": {},
    "version_major": 2,
    "version_minor": 0
   }
  }
 },
 "nbformat": 4,
 "nbformat_minor": 5
}
