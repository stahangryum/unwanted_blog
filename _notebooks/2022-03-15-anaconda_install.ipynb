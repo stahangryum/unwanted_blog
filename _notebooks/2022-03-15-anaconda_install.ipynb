{
 "cells": [
  {
   "cell_type": "markdown",
   "id": "03561380-5aa7-4ca6-a9c1-87e3d07a1b7b",
   "metadata": {},
   "source": [
    "# \"Anaconda Install\"\n",
    "\n",
    "- toc: true\n",
    "- branch: master\n",
    "- badges: true\n",
    "- comments: true\n",
    "- author: Kim Jeewoo\n",
    "- image: images/anaconda_logo.jpg"
   ]
  },
  {
   "cell_type": "markdown",
   "id": "b55ab539-7232-4646-b8fe-dd102de76f42",
   "metadata": {},
   "source": [
    "https://www.anaconda.com/products/individual"
   ]
  },
  {
   "cell_type": "markdown",
   "id": "fd3b2645-ef3c-4eb3-9403-5f78665ea5d0",
   "metadata": {},
   "source": [
    "- conda create -n py39r41 python=3.9\n",
    "\n",
    "- conda activate py39r41\n",
    "\n",
    "- conda install -c conda-forge r-essentials=4.1\n",
    "\n",
    "- conda install -c conda-forge jupyterlab\n",
    "\n",
    "- R\n",
    "\n",
    "- install.packages(\"IRKernel\")\n",
    "\n",
    "- library(IRkernel)\n",
    "\n",
    "- installspec()\n",
    "\n",
    "- q()\n",
    "\n",
    "- pip install numpy\n",
    "\n",
    "- pip install SciPy\n",
    "\n",
    "- pip install matplotli pip install pandas"
   ]
  },
  {
   "cell_type": "code",
   "execution_count": null,
   "id": "fac0be86-9cf3-429e-bf46-69691fd4c5c1",
   "metadata": {},
   "outputs": [],
   "source": []
  }
 ],
 "metadata": {
  "kernelspec": {
   "display_name": "Python 3 (ipykernel)",
   "language": "python",
   "name": "python3"
  },
  "language_info": {
   "codemirror_mode": {
    "name": "ipython",
    "version": 3
   },
   "file_extension": ".py",
   "mimetype": "text/x-python",
   "name": "python",
   "nbconvert_exporter": "python",
   "pygments_lexer": "ipython3",
   "version": "3.9.7"
  }
 },
 "nbformat": 4,
 "nbformat_minor": 5
}
