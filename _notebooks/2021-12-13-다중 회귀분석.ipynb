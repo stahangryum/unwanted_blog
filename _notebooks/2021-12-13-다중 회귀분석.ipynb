{
 "cells": [
  {
   "cell_type": "markdown",
   "id": "0a4f71b1-32d5-434d-99bf-f47e3ae534b0",
   "metadata": {},
   "source": [
    "# \"Multiple Regression Analysis\"\n",
    "> \"Introduction to Statistics\"\n",
    "\n",
    "- toc: true\n",
    "- branch: master\n",
    "- badges: true\n",
    "- comments: true\n",
    "- author: Kim Jeewoo\n",
    "- categories: [Introduction to Statistics]\n",
    "- image: images/20211130linear.png"
   ]
  },
  {
   "cell_type": "code",
   "execution_count": 16,
   "id": "8e8d8d4d-9cb0-481c-b8db-be762af1caf8",
   "metadata": {},
   "outputs": [
    {
     "name": "stderr",
     "output_type": "stream",
     "text": [
      "-- \u001b[1mAttaching packages\u001b[22m ------------------------------------------------------------------------------- tidyverse 1.3.1 --\n",
      "\n",
      "\u001b[32mv\u001b[39m \u001b[34mggplot2\u001b[39m 3.3.5     \u001b[32mv\u001b[39m \u001b[34mpurrr  \u001b[39m 0.3.4\n",
      "\u001b[32mv\u001b[39m \u001b[34mtibble \u001b[39m 3.1.5     \u001b[32mv\u001b[39m \u001b[34mdplyr  \u001b[39m 1.0.7\n",
      "\u001b[32mv\u001b[39m \u001b[34mtidyr  \u001b[39m 1.1.4     \u001b[32mv\u001b[39m \u001b[34mstringr\u001b[39m 1.4.0\n",
      "\u001b[32mv\u001b[39m \u001b[34mreadr  \u001b[39m 2.0.2     \u001b[32mv\u001b[39m \u001b[34mforcats\u001b[39m 0.5.1\n",
      "\n",
      "-- \u001b[1mConflicts\u001b[22m ---------------------------------------------------------------------------------- tidyverse_conflicts() --\n",
      "\u001b[31mx\u001b[39m \u001b[34mdplyr\u001b[39m::\u001b[32mfilter()\u001b[39m masks \u001b[34mstats\u001b[39m::filter()\n",
      "\u001b[31mx\u001b[39m \u001b[34mdplyr\u001b[39m::\u001b[32mlag()\u001b[39m    masks \u001b[34mstats\u001b[39m::lag()\n",
      "\n"
     ]
    }
   ],
   "source": [
    "library(tidyverse)"
   ]
  },
  {
   "cell_type": "markdown",
   "id": "0984018d-3003-4bbe-af4b-b9ca26863714",
   "metadata": {},
   "source": [
    "# Problem 6.1"
   ]
  },
  {
   "cell_type": "markdown",
   "id": "d71ba6c8-d181-455a-b1e5-f0c39f471444",
   "metadata": {},
   "source": [
    "`A`"
   ]
  },
  {
   "cell_type": "code",
   "execution_count": 2,
   "id": "63dc592a-8543-47ab-82f9-be5ba1bb4a5c",
   "metadata": {},
   "outputs": [
    {
     "data": {
      "text/html": [
       "62.85"
      ],
      "text/latex": [
       "62.85"
      ],
      "text/markdown": [
       "62.85"
      ],
      "text/plain": [
       "[1] 62.85"
      ]
     },
     "metadata": {},
     "output_type": "display_data"
    }
   ],
   "source": [
    "43.4 - 6.82*5 + 1.7*7 + 1.7*5 + 0.442*75"
   ]
  },
  {
   "cell_type": "markdown",
   "id": "7ff1f2d6-e367-46d7-a0c4-d492bb7b7f9c",
   "metadata": {},
   "source": [
    "- 잔차는 60 - 62.85 = -2.85"
   ]
  },
  {
   "cell_type": "markdown",
   "id": "413808bc-f209-45c5-973c-5ad70a092568",
   "metadata": {},
   "source": [
    "`B`"
   ]
  },
  {
   "cell_type": "markdown",
   "id": "a3efe407-1bd9-47d5-b181-a59d1e1e4c74",
   "metadata": {},
   "source": [
    "검증 통계량 t = b / SE = -6.820 / 1.059 = -5.93012275731822"
   ]
  },
  {
   "cell_type": "code",
   "execution_count": 4,
   "id": "184143a8-9d0c-43fb-9ba4-0a7bbbde7396",
   "metadata": {},
   "outputs": [
    {
     "data": {
      "text/html": [
       "-6.44003777148253"
      ],
      "text/latex": [
       "-6.44003777148253"
      ],
      "text/markdown": [
       "-6.44003777148253"
      ],
      "text/plain": [
       "[1] -6.440038"
      ]
     },
     "metadata": {},
     "output_type": "display_data"
    }
   ],
   "source": [
    "-6.820 / 1.059"
   ]
  },
  {
   "cell_type": "markdown",
   "id": "8bdae4bf-dd7d-43e9-9339-448c40afeb40",
   "metadata": {},
   "source": [
    "# Problem 6.2"
   ]
  },
  {
   "cell_type": "code",
   "execution_count": 5,
   "id": "3f4bb5da-afa8-4b75-8678-e75297f050fd",
   "metadata": {},
   "outputs": [],
   "source": [
    "file_url = \"http://www.lock5stat.com/datasets2e/HomesForSale.csv\""
   ]
  },
  {
   "cell_type": "code",
   "execution_count": 7,
   "id": "de788c5c-164f-4405-a08d-919fa0b4da77",
   "metadata": {},
   "outputs": [],
   "source": [
    "homes = read.csv(file_url)"
   ]
  },
  {
   "cell_type": "code",
   "execution_count": 9,
   "id": "7468e919-0367-42ab-9395-8a8ceeee0ce8",
   "metadata": {},
   "outputs": [],
   "source": [
    "fit = lm(Price ~ Size + Beds + Baths, data=homes)"
   ]
  },
  {
   "cell_type": "code",
   "execution_count": 20,
   "id": "7f94667e-70d5-4e2a-9c73-61b21382128f",
   "metadata": {},
   "outputs": [
    {
     "data": {
      "text/plain": [
       "\n",
       "Call:\n",
       "lm(formula = Price ~ Size + Beds + Baths, data = homes)\n",
       "\n",
       "Residuals:\n",
       "   Min     1Q Median     3Q    Max \n",
       "-796.5 -210.4  -29.9  132.1 4168.2 \n",
       "\n",
       "Coefficients:\n",
       "            Estimate Std. Error t value Pr(>|t|)    \n",
       "(Intercept)  -217.00     145.90  -1.487   0.1396    \n",
       "Size          330.58      72.62   4.552 1.32e-05 ***\n",
       "Beds         -134.52      57.03  -2.359   0.0200 *  \n",
       "Baths         200.03      78.94   2.534   0.0126 *  \n",
       "---\n",
       "Signif. codes:  0 '***' 0.001 '**' 0.01 '*' 0.05 '.' 0.1 ' ' 1\n",
       "\n",
       "Residual standard error: 507.7 on 116 degrees of freedom\n",
       "Multiple R-squared:  0.4671,\tAdjusted R-squared:  0.4533 \n",
       "F-statistic: 33.89 on 3 and 116 DF,  p-value: 8.383e-16\n"
      ]
     },
     "metadata": {},
     "output_type": "display_data"
    }
   ],
   "source": [
    "summary(fit) "
   ]
  },
  {
   "cell_type": "code",
   "execution_count": 24,
   "id": "5e656f4d-570b-443f-86c7-80de99c253a7",
   "metadata": {},
   "outputs": [
    {
     "data": {
      "text/html": [
       "<table class=\"dataframe\">\n",
       "<caption>A anova: 4 × 5</caption>\n",
       "<thead>\n",
       "\t<tr><th></th><th scope=col>Df</th><th scope=col>Sum Sq</th><th scope=col>Mean Sq</th><th scope=col>F value</th><th scope=col>Pr(&gt;F)</th></tr>\n",
       "\t<tr><th></th><th scope=col>&lt;int&gt;</th><th scope=col>&lt;dbl&gt;</th><th scope=col>&lt;dbl&gt;</th><th scope=col>&lt;dbl&gt;</th><th scope=col>&lt;dbl&gt;</th></tr>\n",
       "</thead>\n",
       "<tbody>\n",
       "\t<tr><th scope=row>Size</th><td>  1</td><td>23887215.7</td><td>23887215.7</td><td>92.670339</td><td>1.779851e-16</td></tr>\n",
       "\t<tr><th scope=row>Beds</th><td>  1</td><td>  661533.2</td><td>  661533.2</td><td> 2.566415</td><td>1.118746e-01</td></tr>\n",
       "\t<tr><th scope=row>Baths</th><td>  1</td><td> 1655204.6</td><td> 1655204.6</td><td> 6.421359</td><td>1.260895e-02</td></tr>\n",
       "\t<tr><th scope=row>Residuals</th><td>116</td><td>29900797.2</td><td>  257765.5</td><td>       NA</td><td>          NA</td></tr>\n",
       "</tbody>\n",
       "</table>\n"
      ],
      "text/latex": [
       "A anova: 4 × 5\n",
       "\\begin{tabular}{r|lllll}\n",
       "  & Df & Sum Sq & Mean Sq & F value & Pr(>F)\\\\\n",
       "  & <int> & <dbl> & <dbl> & <dbl> & <dbl>\\\\\n",
       "\\hline\n",
       "\tSize &   1 & 23887215.7 & 23887215.7 & 92.670339 & 1.779851e-16\\\\\n",
       "\tBeds &   1 &   661533.2 &   661533.2 &  2.566415 & 1.118746e-01\\\\\n",
       "\tBaths &   1 &  1655204.6 &  1655204.6 &  6.421359 & 1.260895e-02\\\\\n",
       "\tResiduals & 116 & 29900797.2 &   257765.5 &        NA &           NA\\\\\n",
       "\\end{tabular}\n"
      ],
      "text/markdown": [
       "\n",
       "A anova: 4 × 5\n",
       "\n",
       "| <!--/--> | Df &lt;int&gt; | Sum Sq &lt;dbl&gt; | Mean Sq &lt;dbl&gt; | F value &lt;dbl&gt; | Pr(&gt;F) &lt;dbl&gt; |\n",
       "|---|---|---|---|---|---|\n",
       "| Size |   1 | 23887215.7 | 23887215.7 | 92.670339 | 1.779851e-16 |\n",
       "| Beds |   1 |   661533.2 |   661533.2 |  2.566415 | 1.118746e-01 |\n",
       "| Baths |   1 |  1655204.6 |  1655204.6 |  6.421359 | 1.260895e-02 |\n",
       "| Residuals | 116 | 29900797.2 |   257765.5 |        NA |           NA |\n",
       "\n"
      ],
      "text/plain": [
       "          Df  Sum Sq     Mean Sq    F value   Pr(>F)      \n",
       "Size        1 23887215.7 23887215.7 92.670339 1.779851e-16\n",
       "Beds        1   661533.2   661533.2  2.566415 1.118746e-01\n",
       "Baths       1  1655204.6  1655204.6  6.421359 1.260895e-02\n",
       "Residuals 116 29900797.2   257765.5        NA           NA"
      ]
     },
     "metadata": {},
     "output_type": "display_data"
    }
   ],
   "source": [
    "anova(fit)"
   ]
  },
  {
   "cell_type": "code",
   "execution_count": 14,
   "id": "b34f2fc9-3d71-49d3-a6e9-658ef17fb793",
   "metadata": {},
   "outputs": [
    {
     "data": {
      "text/html": [
       "571.445"
      ],
      "text/latex": [
       "571.445"
      ],
      "text/markdown": [
       "571.445"
      ],
      "text/plain": [
       "[1] 571.445"
      ]
     },
     "metadata": {},
     "output_type": "display_data"
    }
   ],
   "source": [
    "-217 + 330.58*2.5  -134.52*4 +200.03*2.5"
   ]
  },
  {
   "cell_type": "code",
   "execution_count": 26,
   "id": "af928557-d5ae-4afc-830b-5dedabff03c6",
   "metadata": {},
   "outputs": [
    {
     "data": {
      "text/html": [
       "1.14107961154056"
      ],
      "text/latex": [
       "1.14107961154056"
      ],
      "text/markdown": [
       "1.14107961154056"
      ],
      "text/plain": [
       "[1] 1.14108"
      ]
     },
     "metadata": {},
     "output_type": "display_data"
    }
   ],
   "source": [
    "anova(fit)[4,2]/(anova(fit)[1,2] + anova(fit)[2,2] + anova(fit)[3,2])"
   ]
  },
  {
   "cell_type": "markdown",
   "id": "dc069375-c175-4117-85fd-8d9a30bd3f41",
   "metadata": {},
   "source": [
    "# Prooblem 6.3"
   ]
  },
  {
   "cell_type": "code",
   "execution_count": 7,
   "id": "71ca0492-4130-49eb-a8e0-21da8e86dd15",
   "metadata": {},
   "outputs": [],
   "source": [
    "file_url = \"https://enook.jbnu.ac.kr/170/ch06/sec0601/05/NBAStandings2016.csv\""
   ]
  },
  {
   "cell_type": "code",
   "execution_count": 8,
   "id": "8e10a9d9-7369-41cc-8b4d-dc531b13a957",
   "metadata": {},
   "outputs": [],
   "source": [
    "NBA = read.csv(file_url)"
   ]
  },
  {
   "cell_type": "code",
   "execution_count": 10,
   "id": "2ecd5a2b-79c8-4b97-ba59-2975ca710f55",
   "metadata": {},
   "outputs": [],
   "source": [
    "fit = lm(WinPct ~ PtsFor + PtsAgainst, data = NBA)"
   ]
  },
  {
   "cell_type": "code",
   "execution_count": 12,
   "id": "e73812d5-aa1d-4585-a1ea-088371a5166b",
   "metadata": {},
   "outputs": [
    {
     "data": {
      "text/plain": [
       "\n",
       "Call:\n",
       "lm(formula = WinPct ~ PtsFor + PtsAgainst, data = NBA)\n",
       "\n",
       "Residuals:\n",
       "      Min        1Q    Median        3Q       Max \n",
       "-0.069620 -0.020778 -0.002802  0.017225  0.082893 \n",
       "\n",
       "Coefficients:\n",
       "             Estimate Std. Error t value Pr(>|t|)    \n",
       "(Intercept)  0.492410   0.245244   2.008   0.0548 .  \n",
       "PtsFor       0.032230   0.001731  18.624   <2e-16 ***\n",
       "PtsAgainst  -0.032155   0.001756 -18.313   <2e-16 ***\n",
       "---\n",
       "Signif. codes:  0 '***' 0.001 '**' 0.01 '*' 0.05 '.' 0.1 ' ' 1\n",
       "\n",
       "Residual standard error: 0.03524 on 27 degrees of freedom\n",
       "Multiple R-squared:  0.9597,\tAdjusted R-squared:  0.9567 \n",
       "F-statistic: 321.2 on 2 and 27 DF,  p-value: < 2.2e-16\n"
      ]
     },
     "metadata": {},
     "output_type": "display_data"
    }
   ],
   "source": [
    "summary(fit)"
   ]
  },
  {
   "cell_type": "code",
   "execution_count": 13,
   "id": "548ec4b0-1898-480b-8c6d-94bd09540fc6",
   "metadata": {},
   "outputs": [
    {
     "data": {
      "text/html": [
       "<table class=\"dataframe\">\n",
       "<caption>A anova: 3 × 5</caption>\n",
       "<thead>\n",
       "\t<tr><th></th><th scope=col>Df</th><th scope=col>Sum Sq</th><th scope=col>Mean Sq</th><th scope=col>F value</th><th scope=col>Pr(&gt;F)</th></tr>\n",
       "\t<tr><th></th><th scope=col>&lt;int&gt;</th><th scope=col>&lt;dbl&gt;</th><th scope=col>&lt;dbl&gt;</th><th scope=col>&lt;dbl&gt;</th><th scope=col>&lt;dbl&gt;</th></tr>\n",
       "</thead>\n",
       "<tbody>\n",
       "\t<tr><th scope=row>PtsFor</th><td> 1</td><td>0.38142294</td><td>0.381422941</td><td>307.1068</td><td>2.819595e-16</td></tr>\n",
       "\t<tr><th scope=row>PtsAgainst</th><td> 1</td><td>0.41650009</td><td>0.416500089</td><td>335.3496</td><td>9.398116e-17</td></tr>\n",
       "\t<tr><th scope=row>Residuals</th><td>27</td><td>0.03353367</td><td>0.001241988</td><td>      NA</td><td>          NA</td></tr>\n",
       "</tbody>\n",
       "</table>\n"
      ],
      "text/latex": [
       "A anova: 3 × 5\n",
       "\\begin{tabular}{r|lllll}\n",
       "  & Df & Sum Sq & Mean Sq & F value & Pr(>F)\\\\\n",
       "  & <int> & <dbl> & <dbl> & <dbl> & <dbl>\\\\\n",
       "\\hline\n",
       "\tPtsFor &  1 & 0.38142294 & 0.381422941 & 307.1068 & 2.819595e-16\\\\\n",
       "\tPtsAgainst &  1 & 0.41650009 & 0.416500089 & 335.3496 & 9.398116e-17\\\\\n",
       "\tResiduals & 27 & 0.03353367 & 0.001241988 &       NA &           NA\\\\\n",
       "\\end{tabular}\n"
      ],
      "text/markdown": [
       "\n",
       "A anova: 3 × 5\n",
       "\n",
       "| <!--/--> | Df &lt;int&gt; | Sum Sq &lt;dbl&gt; | Mean Sq &lt;dbl&gt; | F value &lt;dbl&gt; | Pr(&gt;F) &lt;dbl&gt; |\n",
       "|---|---|---|---|---|---|\n",
       "| PtsFor |  1 | 0.38142294 | 0.381422941 | 307.1068 | 2.819595e-16 |\n",
       "| PtsAgainst |  1 | 0.41650009 | 0.416500089 | 335.3496 | 9.398116e-17 |\n",
       "| Residuals | 27 | 0.03353367 | 0.001241988 |       NA |           NA |\n",
       "\n"
      ],
      "text/plain": [
       "           Df Sum Sq     Mean Sq     F value  Pr(>F)      \n",
       "PtsFor      1 0.38142294 0.381422941 307.1068 2.819595e-16\n",
       "PtsAgainst  1 0.41650009 0.416500089 335.3496 9.398116e-17\n",
       "Residuals  27 0.03353367 0.001241988       NA           NA"
      ]
     },
     "metadata": {},
     "output_type": "display_data"
    }
   ],
   "source": [
    "anova(fit)"
   ]
  },
  {
   "cell_type": "markdown",
   "id": "2b51df93-9fa2-4524-963e-3de2b8e8c841",
   "metadata": {},
   "source": [
    "- 적합된 회귀선"
   ]
  },
  {
   "cell_type": "markdown",
   "id": "6c02e9f5-5188-47cd-91e0-0f1847a5e8f7",
   "metadata": {},
   "source": [
    "$WinPct = 0.492 + 0.032230\\times PtsFor -  0.032155\\times PtsAgainst$"
   ]
  },
  {
   "cell_type": "markdown",
   "id": "a3080833-6c42-4c3e-b4eb-ad1c844ae17b",
   "metadata": {},
   "source": [
    "- 이 팀의 예측된 승률"
   ]
  },
  {
   "cell_type": "code",
   "execution_count": 20,
   "id": "ff63a58d-a8f9-4240-a535-223cc4c2848f",
   "metadata": {},
   "outputs": [
    {
     "data": {
      "text/html": [
       "0.847891500000001"
      ],
      "text/latex": [
       "0.847891500000001"
      ],
      "text/markdown": [
       "0.847891500000001"
      ],
      "text/plain": [
       "[1] 0.8478915"
      ]
     },
     "metadata": {},
     "output_type": "display_data"
    }
   ],
   "source": [
    "(0.492 + 0.032230 * 114.9 - 0.032155 * 104.1)"
   ]
  },
  {
   "cell_type": "markdown",
   "id": "676f2315-4a7e-40ef-a1d8-1b21f8596713",
   "metadata": {},
   "source": [
    "- 잔차"
   ]
  },
  {
   "cell_type": "code",
   "execution_count": 21,
   "id": "9b59d77e-6f30-4dcc-ab7b-50d3618e6827",
   "metadata": {},
   "outputs": [
    {
     "data": {
      "text/html": [
       "0.043"
      ],
      "text/latex": [
       "0.043"
      ],
      "text/markdown": [
       "0.043"
      ],
      "text/plain": [
       "[1] 0.043"
      ]
     },
     "metadata": {},
     "output_type": "display_data"
    }
   ],
   "source": [
    "0.89 - 0.847"
   ]
  },
  {
   "cell_type": "markdown",
   "id": "5d3fa580-ea6a-485b-b8ad-2014819180ed",
   "metadata": {},
   "source": [
    "- 유의수준 1%에서 효과 있는 변수는 PtsFor, PtsAgainst이다."
   ]
  },
  {
   "cell_type": "markdown",
   "id": "26aaa95a-10ce-4f78-bada-f7c969c21903",
   "metadata": {},
   "source": [
    "- PtsFor 변수만 가지고 모형을 만들 때 결정계수 값과 오차표준편차"
   ]
  },
  {
   "cell_type": "code",
   "execution_count": 22,
   "id": "a112e62f-3855-4f34-a4ee-ba068d7d22b4",
   "metadata": {},
   "outputs": [],
   "source": [
    "fit = lm(WinPct ~ PtsFor, data = NBA)"
   ]
  },
  {
   "cell_type": "code",
   "execution_count": 23,
   "id": "1dc37423-b713-445f-9686-e0d5c5bf262d",
   "metadata": {},
   "outputs": [
    {
     "data": {
      "text/plain": [
       "\n",
       "Call:\n",
       "lm(formula = WinPct ~ PtsFor, data = NBA)\n",
       "\n",
       "Residuals:\n",
       "     Min       1Q   Median       3Q      Max \n",
       "-0.21858 -0.10572  0.01607  0.07650  0.29177 \n",
       "\n",
       "Coefficients:\n",
       "             Estimate Std. Error t value Pr(>|t|)    \n",
       "(Intercept) -2.607670   0.638332  -4.085 0.000334 ***\n",
       "PtsFor       0.030270   0.006214   4.871 3.94e-05 ***\n",
       "---\n",
       "Signif. codes:  0 '***' 0.001 '**' 0.01 '*' 0.05 '.' 0.1 ' ' 1\n",
       "\n",
       "Residual standard error: 0.1268 on 28 degrees of freedom\n",
       "Multiple R-squared:  0.4587,\tAdjusted R-squared:  0.4394 \n",
       "F-statistic: 23.73 on 1 and 28 DF,  p-value: 3.941e-05\n"
      ]
     },
     "metadata": {},
     "output_type": "display_data"
    }
   ],
   "source": [
    "summary(fit)"
   ]
  },
  {
   "cell_type": "code",
   "execution_count": 24,
   "id": "56dd9db5-36b5-4461-9ebb-9dac3dda32a6",
   "metadata": {},
   "outputs": [
    {
     "data": {
      "text/html": [
       "<table class=\"dataframe\">\n",
       "<caption>A anova: 2 × 5</caption>\n",
       "<thead>\n",
       "\t<tr><th></th><th scope=col>Df</th><th scope=col>Sum Sq</th><th scope=col>Mean Sq</th><th scope=col>F value</th><th scope=col>Pr(&gt;F)</th></tr>\n",
       "\t<tr><th></th><th scope=col>&lt;int&gt;</th><th scope=col>&lt;dbl&gt;</th><th scope=col>&lt;dbl&gt;</th><th scope=col>&lt;dbl&gt;</th><th scope=col>&lt;dbl&gt;</th></tr>\n",
       "</thead>\n",
       "<tbody>\n",
       "\t<tr><th scope=row>PtsFor</th><td> 1</td><td>0.3814229</td><td>0.38142294</td><td>23.7312</td><td>3.941263e-05</td></tr>\n",
       "\t<tr><th scope=row>Residuals</th><td>28</td><td>0.4500338</td><td>0.01607263</td><td>     NA</td><td>          NA</td></tr>\n",
       "</tbody>\n",
       "</table>\n"
      ],
      "text/latex": [
       "A anova: 2 × 5\n",
       "\\begin{tabular}{r|lllll}\n",
       "  & Df & Sum Sq & Mean Sq & F value & Pr(>F)\\\\\n",
       "  & <int> & <dbl> & <dbl> & <dbl> & <dbl>\\\\\n",
       "\\hline\n",
       "\tPtsFor &  1 & 0.3814229 & 0.38142294 & 23.7312 & 3.941263e-05\\\\\n",
       "\tResiduals & 28 & 0.4500338 & 0.01607263 &      NA &           NA\\\\\n",
       "\\end{tabular}\n"
      ],
      "text/markdown": [
       "\n",
       "A anova: 2 × 5\n",
       "\n",
       "| <!--/--> | Df &lt;int&gt; | Sum Sq &lt;dbl&gt; | Mean Sq &lt;dbl&gt; | F value &lt;dbl&gt; | Pr(&gt;F) &lt;dbl&gt; |\n",
       "|---|---|---|---|---|---|\n",
       "| PtsFor |  1 | 0.3814229 | 0.38142294 | 23.7312 | 3.941263e-05 |\n",
       "| Residuals | 28 | 0.4500338 | 0.01607263 |      NA |           NA |\n",
       "\n"
      ],
      "text/plain": [
       "          Df Sum Sq    Mean Sq    F value Pr(>F)      \n",
       "PtsFor     1 0.3814229 0.38142294 23.7312 3.941263e-05\n",
       "Residuals 28 0.4500338 0.01607263      NA           NA"
      ]
     },
     "metadata": {},
     "output_type": "display_data"
    }
   ],
   "source": [
    "anova(fit)"
   ]
  },
  {
   "cell_type": "markdown",
   "id": "0d27100e-cf42-4da4-bb82-3403e2b73390",
   "metadata": {},
   "source": [
    "- 결정계수의 값 $= 0.4587$"
   ]
  },
  {
   "cell_type": "markdown",
   "id": "500d6392-7579-47c0-86e5-e013013aa540",
   "metadata": {},
   "source": [
    "- $S_\\epsilon = 0.1268$"
   ]
  },
  {
   "cell_type": "code",
   "execution_count": 27,
   "id": "9b2f7eb1-439c-4163-a962-2cf7050567b8",
   "metadata": {},
   "outputs": [
    {
     "data": {
      "text/html": [
       "0.458483754512635"
      ],
      "text/latex": [
       "0.458483754512635"
      ],
      "text/markdown": [
       "0.458483754512635"
      ],
      "text/plain": [
       "[1] 0.4584838"
      ]
     },
     "metadata": {},
     "output_type": "display_data"
    }
   ],
   "source": [
    "0.381/(0.381+0.45)"
   ]
  },
  {
   "cell_type": "markdown",
   "id": "05b92bd0-37bf-4dbf-a40d-d3b05bc7bac2",
   "metadata": {},
   "source": [
    "- PtsAgainst 변수만 가지고 모형을 만들 때 결정계수 값과 오차항의 표준편차"
   ]
  },
  {
   "cell_type": "code",
   "execution_count": 28,
   "id": "bfe18e06-b39b-4db1-99ce-9dd6db6d389a",
   "metadata": {},
   "outputs": [],
   "source": [
    "fit = lm(WinPct ~ PtsAgainst, data = NBA)"
   ]
  },
  {
   "cell_type": "code",
   "execution_count": 29,
   "id": "3bc3b488-4159-40e1-ba9e-1b76297760c5",
   "metadata": {},
   "outputs": [
    {
     "data": {
      "text/plain": [
       "\n",
       "Call:\n",
       "lm(formula = WinPct ~ PtsAgainst, data = NBA)\n",
       "\n",
       "Residuals:\n",
       "     Min       1Q   Median       3Q      Max \n",
       "-0.22935 -0.04506 -0.00873  0.06213  0.43319 \n",
       "\n",
       "Coefficients:\n",
       "             Estimate Std. Error t value Pr(>|t|)    \n",
       "(Intercept)  3.593558   0.657878   5.462 7.85e-06 ***\n",
       "PtsAgainst  -0.030132   0.006404  -4.705 6.20e-05 ***\n",
       "---\n",
       "Signif. codes:  0 '***' 0.001 '**' 0.01 '*' 0.05 '.' 0.1 ' ' 1\n",
       "\n",
       "Residual standard error: 0.1288 on 28 degrees of freedom\n",
       "Multiple R-squared:  0.4416,\tAdjusted R-squared:  0.4216 \n",
       "F-statistic: 22.14 on 1 and 28 DF,  p-value: 6.203e-05\n"
      ]
     },
     "metadata": {},
     "output_type": "display_data"
    }
   ],
   "source": [
    "summary(fit)"
   ]
  },
  {
   "cell_type": "code",
   "execution_count": 30,
   "id": "c1cdd944-bead-43a8-a2ea-5b8b5a42cebb",
   "metadata": {},
   "outputs": [
    {
     "data": {
      "text/html": [
       "<table class=\"dataframe\">\n",
       "<caption>A anova: 2 × 5</caption>\n",
       "<thead>\n",
       "\t<tr><th></th><th scope=col>Df</th><th scope=col>Sum Sq</th><th scope=col>Mean Sq</th><th scope=col>F value</th><th scope=col>Pr(&gt;F)</th></tr>\n",
       "\t<tr><th></th><th scope=col>&lt;int&gt;</th><th scope=col>&lt;dbl&gt;</th><th scope=col>&lt;dbl&gt;</th><th scope=col>&lt;dbl&gt;</th><th scope=col>&lt;dbl&gt;</th></tr>\n",
       "</thead>\n",
       "<tbody>\n",
       "\t<tr><th scope=row>PtsAgainst</th><td> 1</td><td>0.3671558</td><td>0.36715575</td><td>22.14159</td><td>6.203471e-05</td></tr>\n",
       "\t<tr><th scope=row>Residuals</th><td>28</td><td>0.4643009</td><td>0.01658218</td><td>      NA</td><td>          NA</td></tr>\n",
       "</tbody>\n",
       "</table>\n"
      ],
      "text/latex": [
       "A anova: 2 × 5\n",
       "\\begin{tabular}{r|lllll}\n",
       "  & Df & Sum Sq & Mean Sq & F value & Pr(>F)\\\\\n",
       "  & <int> & <dbl> & <dbl> & <dbl> & <dbl>\\\\\n",
       "\\hline\n",
       "\tPtsAgainst &  1 & 0.3671558 & 0.36715575 & 22.14159 & 6.203471e-05\\\\\n",
       "\tResiduals & 28 & 0.4643009 & 0.01658218 &       NA &           NA\\\\\n",
       "\\end{tabular}\n"
      ],
      "text/markdown": [
       "\n",
       "A anova: 2 × 5\n",
       "\n",
       "| <!--/--> | Df &lt;int&gt; | Sum Sq &lt;dbl&gt; | Mean Sq &lt;dbl&gt; | F value &lt;dbl&gt; | Pr(&gt;F) &lt;dbl&gt; |\n",
       "|---|---|---|---|---|---|\n",
       "| PtsAgainst |  1 | 0.3671558 | 0.36715575 | 22.14159 | 6.203471e-05 |\n",
       "| Residuals | 28 | 0.4643009 | 0.01658218 |       NA |           NA |\n",
       "\n"
      ],
      "text/plain": [
       "           Df Sum Sq    Mean Sq    F value  Pr(>F)      \n",
       "PtsAgainst  1 0.3671558 0.36715575 22.14159 6.203471e-05\n",
       "Residuals  28 0.4643009 0.01658218       NA           NA"
      ]
     },
     "metadata": {},
     "output_type": "display_data"
    }
   ],
   "source": [
    "anova(fit)"
   ]
  },
  {
   "cell_type": "markdown",
   "id": "2d411575-a5c0-4988-97c0-7e3b993f7127",
   "metadata": {},
   "source": [
    "- PtsAgainst와 PtsAgainst 변수로 모형을 만들 때 결정계수 값과 오차항의 표준편차"
   ]
  },
  {
   "cell_type": "code",
   "execution_count": 31,
   "id": "f55e2bbf-ff0e-42a2-98ba-d20ea6d6a839",
   "metadata": {},
   "outputs": [],
   "source": [
    "fit = lm(WinPct ~ PtsFor + PtsAgainst, data = NBA)"
   ]
  },
  {
   "cell_type": "code",
   "execution_count": 32,
   "id": "dc94bf9f-ecf9-42b5-83ee-8f63dd0b7377",
   "metadata": {},
   "outputs": [
    {
     "data": {
      "text/plain": [
       "\n",
       "Call:\n",
       "lm(formula = WinPct ~ PtsFor + PtsAgainst, data = NBA)\n",
       "\n",
       "Residuals:\n",
       "      Min        1Q    Median        3Q       Max \n",
       "-0.069620 -0.020778 -0.002802  0.017225  0.082893 \n",
       "\n",
       "Coefficients:\n",
       "             Estimate Std. Error t value Pr(>|t|)    \n",
       "(Intercept)  0.492410   0.245244   2.008   0.0548 .  \n",
       "PtsFor       0.032230   0.001731  18.624   <2e-16 ***\n",
       "PtsAgainst  -0.032155   0.001756 -18.313   <2e-16 ***\n",
       "---\n",
       "Signif. codes:  0 '***' 0.001 '**' 0.01 '*' 0.05 '.' 0.1 ' ' 1\n",
       "\n",
       "Residual standard error: 0.03524 on 27 degrees of freedom\n",
       "Multiple R-squared:  0.9597,\tAdjusted R-squared:  0.9567 \n",
       "F-statistic: 321.2 on 2 and 27 DF,  p-value: < 2.2e-16\n"
      ]
     },
     "metadata": {},
     "output_type": "display_data"
    }
   ],
   "source": [
    "summary(fit)"
   ]
  },
  {
   "cell_type": "code",
   "execution_count": 33,
   "id": "fd7177f0-0eeb-4bf2-8619-626e86e62d37",
   "metadata": {},
   "outputs": [
    {
     "data": {
      "text/html": [
       "<table class=\"dataframe\">\n",
       "<caption>A anova: 3 × 5</caption>\n",
       "<thead>\n",
       "\t<tr><th></th><th scope=col>Df</th><th scope=col>Sum Sq</th><th scope=col>Mean Sq</th><th scope=col>F value</th><th scope=col>Pr(&gt;F)</th></tr>\n",
       "\t<tr><th></th><th scope=col>&lt;int&gt;</th><th scope=col>&lt;dbl&gt;</th><th scope=col>&lt;dbl&gt;</th><th scope=col>&lt;dbl&gt;</th><th scope=col>&lt;dbl&gt;</th></tr>\n",
       "</thead>\n",
       "<tbody>\n",
       "\t<tr><th scope=row>PtsFor</th><td> 1</td><td>0.38142294</td><td>0.381422941</td><td>307.1068</td><td>2.819595e-16</td></tr>\n",
       "\t<tr><th scope=row>PtsAgainst</th><td> 1</td><td>0.41650009</td><td>0.416500089</td><td>335.3496</td><td>9.398116e-17</td></tr>\n",
       "\t<tr><th scope=row>Residuals</th><td>27</td><td>0.03353367</td><td>0.001241988</td><td>      NA</td><td>          NA</td></tr>\n",
       "</tbody>\n",
       "</table>\n"
      ],
      "text/latex": [
       "A anova: 3 × 5\n",
       "\\begin{tabular}{r|lllll}\n",
       "  & Df & Sum Sq & Mean Sq & F value & Pr(>F)\\\\\n",
       "  & <int> & <dbl> & <dbl> & <dbl> & <dbl>\\\\\n",
       "\\hline\n",
       "\tPtsFor &  1 & 0.38142294 & 0.381422941 & 307.1068 & 2.819595e-16\\\\\n",
       "\tPtsAgainst &  1 & 0.41650009 & 0.416500089 & 335.3496 & 9.398116e-17\\\\\n",
       "\tResiduals & 27 & 0.03353367 & 0.001241988 &       NA &           NA\\\\\n",
       "\\end{tabular}\n"
      ],
      "text/markdown": [
       "\n",
       "A anova: 3 × 5\n",
       "\n",
       "| <!--/--> | Df &lt;int&gt; | Sum Sq &lt;dbl&gt; | Mean Sq &lt;dbl&gt; | F value &lt;dbl&gt; | Pr(&gt;F) &lt;dbl&gt; |\n",
       "|---|---|---|---|---|---|\n",
       "| PtsFor |  1 | 0.38142294 | 0.381422941 | 307.1068 | 2.819595e-16 |\n",
       "| PtsAgainst |  1 | 0.41650009 | 0.416500089 | 335.3496 | 9.398116e-17 |\n",
       "| Residuals | 27 | 0.03353367 | 0.001241988 |       NA |           NA |\n",
       "\n"
      ],
      "text/plain": [
       "           Df Sum Sq     Mean Sq     F value  Pr(>F)      \n",
       "PtsFor      1 0.38142294 0.381422941 307.1068 2.819595e-16\n",
       "PtsAgainst  1 0.41650009 0.416500089 335.3496 9.398116e-17\n",
       "Residuals  27 0.03353367 0.001241988       NA           NA"
      ]
     },
     "metadata": {},
     "output_type": "display_data"
    }
   ],
   "source": [
    "anova(fit)"
   ]
  },
  {
   "cell_type": "code",
   "execution_count": 35,
   "id": "2c9d4979-0737-439a-bd07-81018d428bde",
   "metadata": {},
   "outputs": [
    {
     "data": {
      "text/html": [
       "0.959676740466369"
      ],
      "text/latex": [
       "0.959676740466369"
      ],
      "text/markdown": [
       "0.959676740466369"
      ],
      "text/plain": [
       "[1] 0.9596767"
      ]
     },
     "metadata": {},
     "output_type": "display_data"
    }
   ],
   "source": [
    "(0.381 + 0.417)/(0.381 + 0.417 + 0.03353)"
   ]
  },
  {
   "cell_type": "markdown",
   "id": "c62454c1-f9ad-438d-862f-0340d528ba2e",
   "metadata": {},
   "source": [
    "# Problem 6.5"
   ]
  },
  {
   "cell_type": "code",
   "execution_count": 36,
   "id": "e34a503d-f7b6-4191-998c-85e071015006",
   "metadata": {},
   "outputs": [],
   "source": [
    "file_url = \"http://www.lock5stat.com/datasets2e/StudentSurvey.csv\""
   ]
  },
  {
   "cell_type": "code",
   "execution_count": 44,
   "id": "e24beb69-ee21-4b1c-8f3d-58b51dbea8ed",
   "metadata": {},
   "outputs": [],
   "source": [
    "Student = read.csv(file_url)"
   ]
  },
  {
   "cell_type": "code",
   "execution_count": 55,
   "id": "5baac5a1-80cd-4c8c-8f80-3b9c03c0d46e",
   "metadata": {},
   "outputs": [],
   "source": [
    "fit = lm(Weight ~  Height, data = student)"
   ]
  },
  {
   "cell_type": "code",
   "execution_count": 56,
   "id": "1cb5a0cd-5658-49f4-bb90-61762965d5e9",
   "metadata": {},
   "outputs": [
    {
     "data": {
      "image/png": "[encoded data removed]",
      "text/plain": [
       "plot without title"
      ]
     },
     "metadata": {
      "image/png": {
       "height": 420,
       "width": 420
      }
     },
     "output_type": "display_data"
    }
   ],
   "source": [
    "plot(Student$Weight ~ Student$Height, col = \"red\", xlab = \"Height\", ylab = \"Weight\")\n",
    "abline(fit)\n",
    "points(x=63, y=200, col = \"blue\", pch=16)"
   ]
  },
  {
   "cell_type": "code",
   "execution_count": 57,
   "id": "6e900585-0fd0-4b50-a926-015caf8b2ba3",
   "metadata": {},
   "outputs": [
    {
     "data": {
      "text/plain": [
       "\n",
       "Call:\n",
       "lm(formula = Weight ~ Height, data = student)\n",
       "\n",
       "Residuals:\n",
       "     Min       1Q   Median       3Q      Max \n",
       "-100.052  -13.810   -3.058   11.765  101.411 \n",
       "\n",
       "Coefficients:\n",
       "             Estimate Std. Error t value Pr(>|t|)    \n",
       "(Intercept) -170.2694    22.4122  -7.597 2.79e-13 ***\n",
       "Height         4.8231     0.3268  14.760  < 2e-16 ***\n",
       "---\n",
       "Signif. codes:  0 '***' 0.001 '**' 0.01 '*' 0.05 '.' 0.1 ' ' 1\n",
       "\n",
       "Residual standard error: 24.89 on 350 degrees of freedom\n",
       "  (10 observations deleted due to missingness)\n",
       "Multiple R-squared:  0.3836,\tAdjusted R-squared:  0.3819 \n",
       "F-statistic: 217.9 on 1 and 350 DF,  p-value: < 2.2e-16\n"
      ]
     },
     "metadata": {},
     "output_type": "display_data"
    }
   ],
   "source": [
    "summary(fit)"
   ]
  },
  {
   "cell_type": "code",
   "execution_count": 58,
   "id": "7ad98f4d-0d6c-4b4c-8cb3-bfce4cbae5b4",
   "metadata": {},
   "outputs": [
    {
     "data": {
      "text/html": [
       "133.39"
      ],
      "text/latex": [
       "133.39"
      ],
      "text/markdown": [
       "133.39"
      ],
      "text/plain": [
       "[1] 133.39"
      ]
     },
     "metadata": {},
     "output_type": "display_data"
    }
   ],
   "source": [
    "-170.27 + 4.82 * 63"
   ]
  },
  {
   "cell_type": "code",
   "execution_count": 60,
   "id": "9dd71931-bb3b-432c-b180-527d6f827708",
   "metadata": {},
   "outputs": [
    {
     "data": {
      "text/html": [
       "66.41"
      ],
      "text/latex": [
       "66.41"
      ],
      "text/markdown": [
       "66.41"
      ],
      "text/plain": [
       "[1] 66.41"
      ]
     },
     "metadata": {},
     "output_type": "display_data"
    }
   ],
   "source": [
    "200 - 133.59"
   ]
  },
  {
   "cell_type": "code",
   "execution_count": 63,
   "id": "299b22c6-3070-4331-b7ca-ce7d38ac48a0",
   "metadata": {},
   "outputs": [
    {
     "data": {
      "image/png": "[encoded data removed]",
      "text/plain": [
       "Plot with title \"\""
      ]
     },
     "metadata": {
      "image/png": {
       "height": 420,
       "width": 420
      }
     },
     "output_type": "display_data"
    }
   ],
   "source": [
    "hist(fit$residual, breaks=20, xlab = \"잔차\", ylab = \"빈도\", main=\"\")"
   ]
  },
  {
   "cell_type": "code",
   "execution_count": 65,
   "id": "8e74a57b-b9e2-4559-9ed4-374a05882d11",
   "metadata": {},
   "outputs": [
    {
     "data": {
      "image/png": "[encoded data removed]",
      "text/plain": [
       "plot without title"
      ]
     },
     "metadata": {
      "image/png": {
       "height": 420,
       "width": 420
      }
     },
     "output_type": "display_data"
    }
   ],
   "source": [
    "plot(fit$residual ~ fit$fitted.value, col = \"red\", xlab = \"적합치\", ylab = \"잔차\")\n",
    "points(x=133.59, y = 66.41, col = \"blue\", pch = 16)"
   ]
  },
  {
   "cell_type": "markdown",
   "id": "081ed5d9-c0aa-4238-a1ad-de86e6f60914",
   "metadata": {},
   "source": [
    "# Problem 6.6"
   ]
  },
  {
   "cell_type": "markdown",
   "id": "837aa99c-3909-440a-9837-1ee6e557e748",
   "metadata": {},
   "source": [
    "`A`"
   ]
  },
  {
   "cell_type": "markdown",
   "id": "27e85654-8705-4e9b-9ef1-213e4557571b",
   "metadata": {},
   "source": [
    "X3의 $p-value$가 자장 높으므로 X3변수를 제거하여 모형을 개선한다."
   ]
  },
  {
   "cell_type": "markdown",
   "id": "c0530e84-701a-4c81-85a9-baaca17ac962",
   "metadata": {},
   "source": [
    "`B`"
   ]
  },
  {
   "cell_type": "markdown",
   "id": "80beee1e-7284-4420-88f1-fa969e468b47",
   "metadata": {},
   "source": [
    "$R^2 = \\dfrac{277.02}{665.00}=41.7\\,$ (컴퓨터 출력에 의함)"
   ]
  },
  {
   "cell_type": "code",
   "execution_count": 69,
   "id": "d8873eea-1e04-4e7b-bb14-bc0ce31e5ffa",
   "metadata": {},
   "outputs": [
    {
     "data": {
      "text/html": [
       "0.416571428571429"
      ],
      "text/latex": [
       "0.416571428571429"
      ],
      "text/markdown": [
       "0.416571428571429"
      ],
      "text/plain": [
       "[1] 0.4165714"
      ]
     },
     "metadata": {},
     "output_type": "display_data"
    }
   ],
   "source": [
    "277.02/665 #ANOVA Table에 적혀있다."
   ]
  },
  {
   "cell_type": "markdown",
   "id": "5d321680-b7ed-457d-b6f7-9ef415f0bf62",
   "metadata": {},
   "source": [
    "`C`"
   ]
  },
  {
   "cell_type": "markdown",
   "id": "ef5f929f-2523-4aa9-9483-8748744f80f5",
   "metadata": {},
   "source": [
    "해당 변수가 유의하더라도 또는 유의하지 않더라도 변수를 제거하면 $R^2$은 항상 감소한다."
   ]
  },
  {
   "cell_type": "markdown",
   "id": "e6bf360f-95e3-4647-a27d-a09c342bb0eb",
   "metadata": {},
   "source": [
    "`D`"
   ]
  },
  {
   "cell_type": "markdown",
   "id": "229b3b18-2885-46ae-9696-7b7f3e31d195",
   "metadata": {},
   "source": [
    "변수를 제거했을 때, $R^2$이 적게 감소하면 잘한 것이고 크게 감소하면 잘못한 것이다."
   ]
  },
  {
   "cell_type": "markdown",
   "id": "4ed51dc5-b86e-4289-98ba-b4847feeec88",
   "metadata": {},
   "source": [
    "`E`"
   ]
  },
  {
   "cell_type": "markdown",
   "id": "fcb1e4a8-11ad-4b66-903c-b03e45763e35",
   "metadata": {},
   "source": [
    " ANOVA Table에 적혀있는 $p-value$는 0.031이다."
   ]
  },
  {
   "cell_type": "markdown",
   "id": "851fbb5b-2254-4376-8b71-9882dfbb59cf",
   "metadata": {},
   "source": [
    "`F`"
   ]
  },
  {
   "cell_type": "markdown",
   "id": "4df6b383-ccee-4d9b-bdc2-bfedfe608ffb",
   "metadata": {},
   "source": [
    "$p-value$는 감소할 것이다."
   ]
  },
  {
   "cell_type": "markdown",
   "id": "0069b225-f31e-4220-a525-a77d56bfd2c4",
   "metadata": {},
   "source": [
    "`G`"
   ]
  },
  {
   "cell_type": "markdown",
   "id": "fe3786a9-3498-4413-a8bc-b653e8e43b8a",
   "metadata": {},
   "source": [
    "ANOVA Table에 적혀있는 $F-Statistic = 3.81$이다."
   ]
  },
  {
   "cell_type": "markdown",
   "id": "ce2f4c1d-c8f7-4a3e-82dd-a0556945c93a",
   "metadata": {},
   "source": [
    "`H`"
   ]
  },
  {
   "cell_type": "markdown",
   "id": "ce395b22-685d-4ff8-8ecd-e4244b694618",
   "metadata": {},
   "source": [
    "유의하지 않은 변수를 제거하면 $F-Statistics$는 증가할 가능성이 높다."
   ]
  },
  {
   "cell_type": "markdown",
   "id": "f3bb14f5-9196-4ee0-851b-024158d8bfe2",
   "metadata": {},
   "source": [
    "# Problem 6.7"
   ]
  },
  {
   "cell_type": "code",
   "execution_count": 78,
   "id": "ca7f6b35-bcbb-40ec-bab1-ebd6dc158ca1",
   "metadata": {},
   "outputs": [
    {
     "data": {
      "text/html": [
       "<table class=\"dataframe\">\n",
       "<caption>A data.frame: 6 × 9</caption>\n",
       "<thead>\n",
       "\t<tr><th></th><th scope=col>Away</th><th scope=col>Home</th><th scope=col>Runs</th><th scope=col>Margin</th><th scope=col>Hits</th><th scope=col>Errors</th><th scope=col>Pitchers</th><th scope=col>Walks</th><th scope=col>Time</th></tr>\n",
       "\t<tr><th></th><th scope=col>&lt;chr&gt;</th><th scope=col>&lt;chr&gt;</th><th scope=col>&lt;int&gt;</th><th scope=col>&lt;int&gt;</th><th scope=col>&lt;int&gt;</th><th scope=col>&lt;int&gt;</th><th scope=col>&lt;int&gt;</th><th scope=col>&lt;int&gt;</th><th scope=col>&lt;int&gt;</th></tr>\n",
       "</thead>\n",
       "<tbody>\n",
       "\t<tr><th scope=row>1</th><td>TEX</td><td>CHW</td><td>10</td><td>10</td><td>20</td><td>2</td><td> 5</td><td> 5</td><td>184</td></tr>\n",
       "\t<tr><th scope=row>2</th><td>CLE</td><td>DET</td><td>15</td><td> 1</td><td>24</td><td>0</td><td>11</td><td>10</td><td>225</td></tr>\n",
       "\t<tr><th scope=row>3</th><td>BOS</td><td>KCR</td><td> 7</td><td> 5</td><td>13</td><td>1</td><td> 8</td><td> 7</td><td>213</td></tr>\n",
       "\t<tr><th scope=row>4</th><td>BAL</td><td>LAA</td><td> 8</td><td> 6</td><td>20</td><td>4</td><td> 5</td><td> 5</td><td>155</td></tr>\n",
       "\t<tr><th scope=row>5</th><td>NYY</td><td>MIN</td><td> 3</td><td> 3</td><td>13</td><td>2</td><td> 9</td><td> 8</td><td>187</td></tr>\n",
       "\t<tr><th scope=row>6</th><td>TOR</td><td>OAK</td><td> 1</td><td> 1</td><td> 5</td><td>0</td><td> 4</td><td> 4</td><td>158</td></tr>\n",
       "</tbody>\n",
       "</table>\n"
      ],
      "text/latex": [
       "A data.frame: 6 × 9\n",
       "\\begin{tabular}{r|lllllllll}\n",
       "  & Away & Home & Runs & Margin & Hits & Errors & Pitchers & Walks & Time\\\\\n",
       "  & <chr> & <chr> & <int> & <int> & <int> & <int> & <int> & <int> & <int>\\\\\n",
       "\\hline\n",
       "\t1 & TEX & CHW & 10 & 10 & 20 & 2 &  5 &  5 & 184\\\\\n",
       "\t2 & CLE & DET & 15 &  1 & 24 & 0 & 11 & 10 & 225\\\\\n",
       "\t3 & BOS & KCR &  7 &  5 & 13 & 1 &  8 &  7 & 213\\\\\n",
       "\t4 & BAL & LAA &  8 &  6 & 20 & 4 &  5 &  5 & 155\\\\\n",
       "\t5 & NYY & MIN &  3 &  3 & 13 & 2 &  9 &  8 & 187\\\\\n",
       "\t6 & TOR & OAK &  1 &  1 &  5 & 0 &  4 &  4 & 158\\\\\n",
       "\\end{tabular}\n"
      ],
      "text/markdown": [
       "\n",
       "A data.frame: 6 × 9\n",
       "\n",
       "| <!--/--> | Away &lt;chr&gt; | Home &lt;chr&gt; | Runs &lt;int&gt; | Margin &lt;int&gt; | Hits &lt;int&gt; | Errors &lt;int&gt; | Pitchers &lt;int&gt; | Walks &lt;int&gt; | Time &lt;int&gt; |\n",
       "|---|---|---|---|---|---|---|---|---|---|\n",
       "| 1 | TEX | CHW | 10 | 10 | 20 | 2 |  5 |  5 | 184 |\n",
       "| 2 | CLE | DET | 15 |  1 | 24 | 0 | 11 | 10 | 225 |\n",
       "| 3 | BOS | KCR |  7 |  5 | 13 | 1 |  8 |  7 | 213 |\n",
       "| 4 | BAL | LAA |  8 |  6 | 20 | 4 |  5 |  5 | 155 |\n",
       "| 5 | NYY | MIN |  3 |  3 | 13 | 2 |  9 |  8 | 187 |\n",
       "| 6 | TOR | OAK |  1 |  1 |  5 | 0 |  4 |  4 | 158 |\n",
       "\n"
      ],
      "text/plain": [
       "  Away Home Runs Margin Hits Errors Pitchers Walks Time\n",
       "1 TEX  CHW  10   10     20   2       5        5    184 \n",
       "2 CLE  DET  15    1     24   0      11       10    225 \n",
       "3 BOS  KCR   7    5     13   1       8        7    213 \n",
       "4 BAL  LAA   8    6     20   4       5        5    155 \n",
       "5 NYY  MIN   3    3     13   2       9        8    187 \n",
       "6 TOR  OAK   1    1      5   0       4        4    158 "
      ]
     },
     "metadata": {},
     "output_type": "display_data"
    }
   ],
   "source": [
    "file_url = \"http://www.lock5stat.com/datasets2e/BaseballTimes.csv\"\n",
    "Base = read.csv(file_url)\n",
    "head(Base)"
   ]
  },
  {
   "cell_type": "markdown",
   "id": "ec083c26-0d69-48bd-b421-d214b6e8c7d4",
   "metadata": {},
   "source": [
    "`A`"
   ]
  },
  {
   "cell_type": "code",
   "execution_count": 79,
   "id": "4daee505-813f-4f2f-87e8-272be209ecd4",
   "metadata": {},
   "outputs": [
    {
     "data": {
      "text/html": [
       "<table class=\"dataframe\">\n",
       "<caption>A matrix: 7 × 7 of type dbl</caption>\n",
       "<thead>\n",
       "\t<tr><th></th><th scope=col>Runs</th><th scope=col>Margin</th><th scope=col>Hits</th><th scope=col>Errors</th><th scope=col>Pitchers</th><th scope=col>Walks</th><th scope=col>Time</th></tr>\n",
       "</thead>\n",
       "<tbody>\n",
       "\t<tr><th scope=row>Runs</th><td>1.0000000</td><td> 0.1920353</td><td>0.80885328</td><td> 0.11206361</td><td> 0.4960020</td><td> 0.33932892</td><td> 0.50373658</td></tr>\n",
       "\t<tr><th scope=row>Margin</th><td>0.1920353</td><td> 1.0000000</td><td>0.20585484</td><td> 0.36115522</td><td>-0.2525044</td><td>-0.17676637</td><td>-0.11609314</td></tr>\n",
       "\t<tr><th scope=row>Hits</th><td>0.8088533</td><td> 0.2058548</td><td>1.00000000</td><td> 0.29642001</td><td> 0.4898898</td><td> 0.09791874</td><td> 0.34870927</td></tr>\n",
       "\t<tr><th scope=row>Errors</th><td>0.1120636</td><td> 0.3611552</td><td>0.29642001</td><td> 1.00000000</td><td>-0.1851266</td><td>-0.06015092</td><td>-0.04012749</td></tr>\n",
       "\t<tr><th scope=row>Pitchers</th><td>0.4960020</td><td>-0.2525044</td><td>0.48988981</td><td>-0.18512663</td><td> 1.0000000</td><td> 0.41041997</td><td> 0.72079998</td></tr>\n",
       "\t<tr><th scope=row>Walks</th><td>0.3393289</td><td>-0.1767664</td><td>0.09791874</td><td>-0.06015092</td><td> 0.4104200</td><td> 1.00000000</td><td> 0.56496536</td></tr>\n",
       "\t<tr><th scope=row>Time</th><td>0.5037366</td><td>-0.1160931</td><td>0.34870927</td><td>-0.04012749</td><td> 0.7208000</td><td> 0.56496536</td><td> 1.00000000</td></tr>\n",
       "</tbody>\n",
       "</table>\n"
      ],
      "text/latex": [
       "A matrix: 7 × 7 of type dbl\n",
       "\\begin{tabular}{r|lllllll}\n",
       "  & Runs & Margin & Hits & Errors & Pitchers & Walks & Time\\\\\n",
       "\\hline\n",
       "\tRuns & 1.0000000 &  0.1920353 & 0.80885328 &  0.11206361 &  0.4960020 &  0.33932892 &  0.50373658\\\\\n",
       "\tMargin & 0.1920353 &  1.0000000 & 0.20585484 &  0.36115522 & -0.2525044 & -0.17676637 & -0.11609314\\\\\n",
       "\tHits & 0.8088533 &  0.2058548 & 1.00000000 &  0.29642001 &  0.4898898 &  0.09791874 &  0.34870927\\\\\n",
       "\tErrors & 0.1120636 &  0.3611552 & 0.29642001 &  1.00000000 & -0.1851266 & -0.06015092 & -0.04012749\\\\\n",
       "\tPitchers & 0.4960020 & -0.2525044 & 0.48988981 & -0.18512663 &  1.0000000 &  0.41041997 &  0.72079998\\\\\n",
       "\tWalks & 0.3393289 & -0.1767664 & 0.09791874 & -0.06015092 &  0.4104200 &  1.00000000 &  0.56496536\\\\\n",
       "\tTime & 0.5037366 & -0.1160931 & 0.34870927 & -0.04012749 &  0.7208000 &  0.56496536 &  1.00000000\\\\\n",
       "\\end{tabular}\n"
      ],
      "text/markdown": [
       "\n",
       "A matrix: 7 × 7 of type dbl\n",
       "\n",
       "| <!--/--> | Runs | Margin | Hits | Errors | Pitchers | Walks | Time |\n",
       "|---|---|---|---|---|---|---|---|\n",
       "| Runs | 1.0000000 |  0.1920353 | 0.80885328 |  0.11206361 |  0.4960020 |  0.33932892 |  0.50373658 |\n",
       "| Margin | 0.1920353 |  1.0000000 | 0.20585484 |  0.36115522 | -0.2525044 | -0.17676637 | -0.11609314 |\n",
       "| Hits | 0.8088533 |  0.2058548 | 1.00000000 |  0.29642001 |  0.4898898 |  0.09791874 |  0.34870927 |\n",
       "| Errors | 0.1120636 |  0.3611552 | 0.29642001 |  1.00000000 | -0.1851266 | -0.06015092 | -0.04012749 |\n",
       "| Pitchers | 0.4960020 | -0.2525044 | 0.48988981 | -0.18512663 |  1.0000000 |  0.41041997 |  0.72079998 |\n",
       "| Walks | 0.3393289 | -0.1767664 | 0.09791874 | -0.06015092 |  0.4104200 |  1.00000000 |  0.56496536 |\n",
       "| Time | 0.5037366 | -0.1160931 | 0.34870927 | -0.04012749 |  0.7208000 |  0.56496536 |  1.00000000 |\n",
       "\n"
      ],
      "text/plain": [
       "         Runs      Margin     Hits       Errors      Pitchers   Walks      \n",
       "Runs     1.0000000  0.1920353 0.80885328  0.11206361  0.4960020  0.33932892\n",
       "Margin   0.1920353  1.0000000 0.20585484  0.36115522 -0.2525044 -0.17676637\n",
       "Hits     0.8088533  0.2058548 1.00000000  0.29642001  0.4898898  0.09791874\n",
       "Errors   0.1120636  0.3611552 0.29642001  1.00000000 -0.1851266 -0.06015092\n",
       "Pitchers 0.4960020 -0.2525044 0.48988981 -0.18512663  1.0000000  0.41041997\n",
       "Walks    0.3393289 -0.1767664 0.09791874 -0.06015092  0.4104200  1.00000000\n",
       "Time     0.5037366 -0.1160931 0.34870927 -0.04012749  0.7208000  0.56496536\n",
       "         Time       \n",
       "Runs      0.50373658\n",
       "Margin   -0.11609314\n",
       "Hits      0.34870927\n",
       "Errors   -0.04012749\n",
       "Pitchers  0.72079998\n",
       "Walks     0.56496536\n",
       "Time      1.00000000"
      ]
     },
     "metadata": {},
     "output_type": "display_data"
    }
   ],
   "source": [
    "cor(Base[1:30, 3:9])"
   ]
  },
  {
   "cell_type": "markdown",
   "id": "274c6bb1-b06c-4302-a693-2c13e88226a5",
   "metadata": {},
   "source": [
    "Time과 Runs : 0.504\n",
    "\n",
    "Time과 Margin : -0.116\n",
    "\n",
    "Time과 Hits : 0.349\n",
    "\n",
    "Time과 Errors : -0.040\n",
    "\n",
    "Time과 Pitchers : 0.721\n",
    "\n",
    "Time과 Walks : 0.565"
   ]
  },
  {
   "cell_type": "markdown",
   "id": "0a18b54e-7221-4d8d-be8e-5f571711db05",
   "metadata": {},
   "source": [
    "`B`"
   ]
  },
  {
   "cell_type": "code",
   "execution_count": 111,
   "id": "959f3ce8-822c-4257-b13a-575f9981c39d",
   "metadata": {},
   "outputs": [
    {
     "data": {
      "text/plain": [
       "\n",
       "Call:\n",
       "lm(formula = Time ~ Runs + Margin + Hits + Errors + Pitchers + \n",
       "    Walks, data = Base)\n",
       "\n",
       "Residuals:\n",
       "    Min      1Q  Median      3Q     Max \n",
       "-21.271  -8.109  -2.990   8.276  26.168 \n",
       "\n",
       "Coefficients:\n",
       "            Estimate Std. Error t value Pr(>|t|)    \n",
       "(Intercept)  123.191     13.492   9.131 4.13e-09 ***\n",
       "Runs           1.627      1.243   1.309  0.20350    \n",
       "Margin         0.318      1.150   0.277  0.78459    \n",
       "Hits          -1.173      1.022  -1.148  0.26283    \n",
       "Errors         2.561      2.923   0.876  0.39007    \n",
       "Pitchers       6.419      1.769   3.628  0.00141 ** \n",
       "Walks          1.713      1.125   1.523  0.14141    \n",
       "---\n",
       "Signif. codes:  0 '***' 0.001 '**' 0.01 '*' 0.05 '.' 0.1 ' ' 1\n",
       "\n",
       "Residual standard error: 13.71 on 23 degrees of freedom\n",
       "  (330 observations deleted due to missingness)\n",
       "Multiple R-squared:  0.6463,\tAdjusted R-squared:  0.554 \n",
       "F-statistic: 7.005 on 6 and 23 DF,  p-value: 0.0002478\n"
      ]
     },
     "metadata": {},
     "output_type": "display_data"
    },
    {
     "data": {
      "text/html": [
       "<table class=\"dataframe\">\n",
       "<caption>A anova: 7 × 5</caption>\n",
       "<thead>\n",
       "\t<tr><th></th><th scope=col>Df</th><th scope=col>Sum Sq</th><th scope=col>Mean Sq</th><th scope=col>F value</th><th scope=col>Pr(&gt;F)</th></tr>\n",
       "\t<tr><th></th><th scope=col>&lt;int&gt;</th><th scope=col>&lt;dbl&gt;</th><th scope=col>&lt;dbl&gt;</th><th scope=col>&lt;dbl&gt;</th><th scope=col>&lt;dbl&gt;</th></tr>\n",
       "</thead>\n",
       "<tbody>\n",
       "\t<tr><th scope=row>Runs</th><td> 1</td><td>3102.9039571</td><td>3102.9039571</td><td>16.501196260</td><td>0.0004820223</td></tr>\n",
       "\t<tr><th scope=row>Margin</th><td> 1</td><td> 575.0939180</td><td> 575.0939180</td><td> 3.058340748</td><td>0.0936594436</td></tr>\n",
       "\t<tr><th scope=row>Hits</th><td> 1</td><td>  80.6644160</td><td>  80.6644160</td><td> 0.428972143</td><td>0.5189909885</td></tr>\n",
       "\t<tr><th scope=row>Errors</th><td> 1</td><td>   0.3289861</td><td>   0.3289861</td><td> 0.001749543</td><td>0.9669971731</td></tr>\n",
       "\t<tr><th scope=row>Pitchers</th><td> 1</td><td>3708.1147638</td><td>3708.1147638</td><td>19.719698165</td><td>0.0001876824</td></tr>\n",
       "\t<tr><th scope=row>Walks</th><td> 1</td><td> 436.1141253</td><td> 436.1141253</td><td> 2.319248315</td><td>0.1414137241</td></tr>\n",
       "\t<tr><th scope=row>Residuals</th><td>23</td><td>4324.9465003</td><td> 188.0411522</td><td>          NA</td><td>          NA</td></tr>\n",
       "</tbody>\n",
       "</table>\n"
      ],
      "text/latex": [
       "A anova: 7 × 5\n",
       "\\begin{tabular}{r|lllll}\n",
       "  & Df & Sum Sq & Mean Sq & F value & Pr(>F)\\\\\n",
       "  & <int> & <dbl> & <dbl> & <dbl> & <dbl>\\\\\n",
       "\\hline\n",
       "\tRuns &  1 & 3102.9039571 & 3102.9039571 & 16.501196260 & 0.0004820223\\\\\n",
       "\tMargin &  1 &  575.0939180 &  575.0939180 &  3.058340748 & 0.0936594436\\\\\n",
       "\tHits &  1 &   80.6644160 &   80.6644160 &  0.428972143 & 0.5189909885\\\\\n",
       "\tErrors &  1 &    0.3289861 &    0.3289861 &  0.001749543 & 0.9669971731\\\\\n",
       "\tPitchers &  1 & 3708.1147638 & 3708.1147638 & 19.719698165 & 0.0001876824\\\\\n",
       "\tWalks &  1 &  436.1141253 &  436.1141253 &  2.319248315 & 0.1414137241\\\\\n",
       "\tResiduals & 23 & 4324.9465003 &  188.0411522 &           NA &           NA\\\\\n",
       "\\end{tabular}\n"
      ],
      "text/markdown": [
       "\n",
       "A anova: 7 × 5\n",
       "\n",
       "| <!--/--> | Df &lt;int&gt; | Sum Sq &lt;dbl&gt; | Mean Sq &lt;dbl&gt; | F value &lt;dbl&gt; | Pr(&gt;F) &lt;dbl&gt; |\n",
       "|---|---|---|---|---|---|\n",
       "| Runs |  1 | 3102.9039571 | 3102.9039571 | 16.501196260 | 0.0004820223 |\n",
       "| Margin |  1 |  575.0939180 |  575.0939180 |  3.058340748 | 0.0936594436 |\n",
       "| Hits |  1 |   80.6644160 |   80.6644160 |  0.428972143 | 0.5189909885 |\n",
       "| Errors |  1 |    0.3289861 |    0.3289861 |  0.001749543 | 0.9669971731 |\n",
       "| Pitchers |  1 | 3708.1147638 | 3708.1147638 | 19.719698165 | 0.0001876824 |\n",
       "| Walks |  1 |  436.1141253 |  436.1141253 |  2.319248315 | 0.1414137241 |\n",
       "| Residuals | 23 | 4324.9465003 |  188.0411522 |           NA |           NA |\n",
       "\n"
      ],
      "text/plain": [
       "          Df Sum Sq       Mean Sq      F value      Pr(>F)      \n",
       "Runs       1 3102.9039571 3102.9039571 16.501196260 0.0004820223\n",
       "Margin     1  575.0939180  575.0939180  3.058340748 0.0936594436\n",
       "Hits       1   80.6644160   80.6644160  0.428972143 0.5189909885\n",
       "Errors     1    0.3289861    0.3289861  0.001749543 0.9669971731\n",
       "Pitchers   1 3708.1147638 3708.1147638 19.719698165 0.0001876824\n",
       "Walks      1  436.1141253  436.1141253  2.319248315 0.1414137241\n",
       "Residuals 23 4324.9465003  188.0411522           NA           NA"
      ]
     },
     "metadata": {},
     "output_type": "display_data"
    }
   ],
   "source": [
    "fit= lm(Time ~ Runs + Margin + Hits + Errors + Pitchers + Walks, data = Base)\n",
    "summary(fit)\n",
    "anova(fit)"
   ]
  },
  {
   "cell_type": "code",
   "execution_count": 88,
   "id": "96de6124-214c-4670-aa7b-1c7a3c40114e",
   "metadata": {},
   "outputs": [
    {
     "data": {
      "text/plain": [
       "\n",
       "Call:\n",
       "lm(formula = Time ~ Runs + Hits + Errors + Pitchers + Walks, \n",
       "    data = Base)\n",
       "\n",
       "Residuals:\n",
       "    Min      1Q  Median      3Q     Max \n",
       "-20.428  -7.964  -2.654   7.890  26.966 \n",
       "\n",
       "Coefficients:\n",
       "            Estimate Std. Error t value Pr(>|t|)    \n",
       "(Intercept)  124.629     12.208  10.209 3.28e-10 ***\n",
       "Runs           1.703      1.189   1.433 0.164847    \n",
       "Hits          -1.171      1.002  -1.169 0.253720    \n",
       "Errors         2.754      2.784   0.989 0.332460    \n",
       "Pitchers       6.285      1.669   3.767 0.000948 ***\n",
       "Walks          1.668      1.091   1.528 0.139497    \n",
       "---\n",
       "Signif. codes:  0 '***' 0.001 '**' 0.01 '*' 0.05 '.' 0.1 ' ' 1\n",
       "\n",
       "Residual standard error: 13.45 on 24 degrees of freedom\n",
       "  (330 observations deleted due to missingness)\n",
       "Multiple R-squared:  0.6451,\tAdjusted R-squared:  0.5712 \n",
       "F-statistic: 8.726 on 5 and 24 DF,  p-value: 7.979e-05\n"
      ]
     },
     "metadata": {},
     "output_type": "display_data"
    }
   ],
   "source": [
    "fit= lm(Time ~ Runs + Hits + Errors + Pitchers + Walks, data = Base)\n",
    "summary(fit)"
   ]
  },
  {
   "cell_type": "code",
   "execution_count": 91,
   "id": "0fed92b0-b261-411f-834e-017bf5988e2a",
   "metadata": {},
   "outputs": [
    {
     "data": {
      "text/plain": [
       "\n",
       "Call:\n",
       "lm(formula = Time ~ Runs + Hits + Pitchers + Walks, data = Base)\n",
       "\n",
       "Residuals:\n",
       "    Min      1Q  Median      3Q     Max \n",
       "-19.304  -8.537  -1.504   8.716  28.393 \n",
       "\n",
       "Coefficients:\n",
       "            Estimate Std. Error t value Pr(>|t|)    \n",
       "(Intercept) 125.9902    12.1246  10.391 1.47e-10 ***\n",
       "Runs          1.4420     1.1585   1.245  0.22479    \n",
       "Hits         -0.7249     0.8938  -0.811  0.42502    \n",
       "Pitchers      5.6219     1.5272   3.681  0.00112 ** \n",
       "Walks         1.8530     1.0748   1.724  0.09705 .  \n",
       "---\n",
       "Signif. codes:  0 '***' 0.001 '**' 0.01 '*' 0.05 '.' 0.1 ' ' 1\n",
       "\n",
       "Residual standard error: 13.44 on 25 degrees of freedom\n",
       "  (330 observations deleted due to missingness)\n",
       "Multiple R-squared:  0.6307,\tAdjusted R-squared:  0.5716 \n",
       "F-statistic: 10.67 on 4 and 25 DF,  p-value: 3.477e-05\n"
      ]
     },
     "metadata": {},
     "output_type": "display_data"
    }
   ],
   "source": [
    "fit= lm(Time ~ Runs + Hits + Pitchers + Walks, data = Base)\n",
    "summary(fit)"
   ]
  },
  {
   "cell_type": "code",
   "execution_count": 93,
   "id": "bbc741e7-4393-41ae-aac7-b44f0b370d16",
   "metadata": {},
   "outputs": [
    {
     "data": {
      "text/plain": [
       "\n",
       "Call:\n",
       "lm(formula = Time ~ Runs + Pitchers + Walks, data = Base)\n",
       "\n",
       "Residuals:\n",
       "    Min      1Q  Median      3Q     Max \n",
       "-18.211  -9.313  -1.534   7.452  30.592 \n",
       "\n",
       "Coefficients:\n",
       "            Estimate Std. Error t value Pr(>|t|)    \n",
       "(Intercept) 120.0827     9.6286  12.471 1.78e-12 ***\n",
       "Runs          0.7016     0.7086   0.990  0.33120    \n",
       "Pitchers      5.2547     1.4490   3.627  0.00123 ** \n",
       "Walks         2.1966     0.9813   2.238  0.03398 *  \n",
       "---\n",
       "Signif. codes:  0 '***' 0.001 '**' 0.01 '*' 0.05 '.' 0.1 ' ' 1\n",
       "\n",
       "Residual standard error: 13.35 on 26 degrees of freedom\n",
       "  (330 observations deleted due to missingness)\n",
       "Multiple R-squared:  0.621,\tAdjusted R-squared:  0.5772 \n",
       "F-statistic:  14.2 on 3 and 26 DF,  p-value: 1.123e-05\n"
      ]
     },
     "metadata": {},
     "output_type": "display_data"
    }
   ],
   "source": [
    "fit= lm(Time ~ Runs + Pitchers + Walks, data = Base)\n",
    "summary(fit)"
   ]
  },
  {
   "cell_type": "code",
   "execution_count": 97,
   "id": "acbba2ad-9e21-4a65-8e4e-5d08e45d58bd",
   "metadata": {},
   "outputs": [
    {
     "data": {
      "text/plain": [
       "\n",
       "Call:\n",
       "lm(formula = Time ~ Pitchers + Walks, data = Base)\n",
       "\n",
       "Residuals:\n",
       "    Min      1Q  Median      3Q     Max \n",
       "-19.540 -10.083  -3.671   6.713  29.097 \n",
       "\n",
       "Coefficients:\n",
       "            Estimate Std. Error t value Pr(>|t|)    \n",
       "(Intercept) 120.5499     9.6136  12.540 9.01e-13 ***\n",
       "Pitchers      5.8514     1.3172   4.442 0.000136 ***\n",
       "Walks         2.3632     0.9664   2.445 0.021281 *  \n",
       "---\n",
       "Signif. codes:  0 '***' 0.001 '**' 0.01 '*' 0.05 '.' 0.1 ' ' 1\n",
       "\n",
       "Residual standard error: 13.35 on 27 degrees of freedom\n",
       "  (330 observations deleted due to missingness)\n",
       "Multiple R-squared:  0.6067,\tAdjusted R-squared:  0.5775 \n",
       "F-statistic: 20.82 on 2 and 27 DF,  p-value: 3.384e-06\n"
      ]
     },
     "metadata": {},
     "output_type": "display_data"
    }
   ],
   "source": [
    "fit= lm(Time ~ Pitchers + Walks, data = Base)\n",
    "summary(fit)"
   ]
  },
  {
   "cell_type": "code",
   "execution_count": 98,
   "id": "0177c412-6b40-4efd-b1d6-23da3578c8db",
   "metadata": {},
   "outputs": [
    {
     "data": {
      "text/plain": [
       "\n",
       "Call:\n",
       "lm(formula = Time ~ Pitchers, data = Base)\n",
       "\n",
       "Residuals:\n",
       "    Min      1Q  Median      3Q     Max \n",
       "-21.181  -9.931  -2.421   6.742  29.819 \n",
       "\n",
       "Coefficients:\n",
       "            Estimate Std. Error t value Pr(>|t|)    \n",
       "(Intercept)  125.794     10.170  12.369 7.27e-13 ***\n",
       "Pitchers       7.173      1.304   5.503 7.03e-06 ***\n",
       "---\n",
       "Signif. codes:  0 '***' 0.001 '**' 0.01 '*' 0.05 '.' 0.1 ' ' 1\n",
       "\n",
       "Residual standard error: 14.49 on 28 degrees of freedom\n",
       "  (330 observations deleted due to missingness)\n",
       "Multiple R-squared:  0.5196,\tAdjusted R-squared:  0.5024 \n",
       "F-statistic: 30.28 on 1 and 28 DF,  p-value: 7.033e-06\n"
      ]
     },
     "metadata": {},
     "output_type": "display_data"
    }
   ],
   "source": [
    "fit= lm(Time ~ Pitchers, data = Base)\n",
    "summary(fit)"
   ]
  },
  {
   "cell_type": "markdown",
   "id": "beb6dc84-8504-4606-9945-49232c249140",
   "metadata": {},
   "source": [
    "최종 모형에 포함되는 변수는 Pitchers이다."
   ]
  },
  {
   "cell_type": "markdown",
   "id": "0dbc0f3a-88ba-4011-83b8-693ca54c9697",
   "metadata": {},
   "source": [
    "# Problem 6.8"
   ]
  },
  {
   "cell_type": "code",
   "execution_count": 105,
   "id": "10a628c4-110e-4415-a21b-da37085678b1",
   "metadata": {},
   "outputs": [
    {
     "data": {
      "text/html": [
       "<table class=\"dataframe\">\n",
       "<caption>A data.frame: 6 × 13</caption>\n",
       "<thead>\n",
       "\t<tr><th></th><th scope=col>Bike</th><th scope=col>Date</th><th scope=col>Distance</th><th scope=col>Time</th><th scope=col>Minutes</th><th scope=col>AvgSpeed</th><th scope=col>TopSpeed</th><th scope=col>Seconds</th><th scope=col>Month</th><th scope=col>X</th><th scope=col>X.1</th><th scope=col>X.2</th><th scope=col>X.3</th></tr>\n",
       "\t<tr><th></th><th scope=col>&lt;chr&gt;</th><th scope=col>&lt;chr&gt;</th><th scope=col>&lt;dbl&gt;</th><th scope=col>&lt;chr&gt;</th><th scope=col>&lt;dbl&gt;</th><th scope=col>&lt;dbl&gt;</th><th scope=col>&lt;dbl&gt;</th><th scope=col>&lt;int&gt;</th><th scope=col>&lt;chr&gt;</th><th scope=col>&lt;lgl&gt;</th><th scope=col>&lt;lgl&gt;</th><th scope=col>&lt;lgl&gt;</th><th scope=col>&lt;lgl&gt;</th></tr>\n",
       "</thead>\n",
       "<tbody>\n",
       "\t<tr><th scope=row>1</th><td>Steel </td><td>20/01/10</td><td>27.20</td><td>1:55:04</td><td>115.07</td><td>14.10</td><td>31.50</td><td>6904</td><td>1Jan</td><td>NA</td><td>NA</td><td>NA</td><td>NA</td></tr>\n",
       "\t<tr><th scope=row>2</th><td>Carbon</td><td>21/01/10</td><td>27.46</td><td>1:55:35</td><td>115.58</td><td>14.25</td><td>30.64</td><td>6935</td><td>1Jan</td><td>NA</td><td>NA</td><td>NA</td><td>NA</td></tr>\n",
       "\t<tr><th scope=row>3</th><td>Steel </td><td>25/01/10</td><td>27.20</td><td>1:55:45</td><td>115.75</td><td>14.10</td><td>30.92</td><td>6945</td><td>1Jan</td><td>NA</td><td>NA</td><td>NA</td><td>NA</td></tr>\n",
       "\t<tr><th scope=row>4</th><td>Carbon</td><td>26/01/10</td><td>27.52</td><td>1:53:56</td><td>113.93</td><td>14.49</td><td>33.02</td><td>6836</td><td>1Jan</td><td>NA</td><td>NA</td><td>NA</td><td>NA</td></tr>\n",
       "\t<tr><th scope=row>5</th><td>Carbon</td><td>27/01/10</td><td>27.51</td><td>1:59:12</td><td>119.20</td><td>13.84</td><td>30.92</td><td>7152</td><td>2Feb</td><td>NA</td><td>NA</td><td>NA</td><td>NA</td></tr>\n",
       "\t<tr><th scope=row>6</th><td>Steel </td><td>01/02/10</td><td>27.17</td><td>1:48:44</td><td>108.73</td><td>14.99</td><td>32.09</td><td>6524</td><td>2Feb</td><td>NA</td><td>NA</td><td>NA</td><td>NA</td></tr>\n",
       "</tbody>\n",
       "</table>\n"
      ],
      "text/latex": [
       "A data.frame: 6 × 13\n",
       "\\begin{tabular}{r|lllllllllllll}\n",
       "  & Bike & Date & Distance & Time & Minutes & AvgSpeed & TopSpeed & Seconds & Month & X & X.1 & X.2 & X.3\\\\\n",
       "  & <chr> & <chr> & <dbl> & <chr> & <dbl> & <dbl> & <dbl> & <int> & <chr> & <lgl> & <lgl> & <lgl> & <lgl>\\\\\n",
       "\\hline\n",
       "\t1 & Steel  & 20/01/10 & 27.20 & 1:55:04 & 115.07 & 14.10 & 31.50 & 6904 & 1Jan & NA & NA & NA & NA\\\\\n",
       "\t2 & Carbon & 21/01/10 & 27.46 & 1:55:35 & 115.58 & 14.25 & 30.64 & 6935 & 1Jan & NA & NA & NA & NA\\\\\n",
       "\t3 & Steel  & 25/01/10 & 27.20 & 1:55:45 & 115.75 & 14.10 & 30.92 & 6945 & 1Jan & NA & NA & NA & NA\\\\\n",
       "\t4 & Carbon & 26/01/10 & 27.52 & 1:53:56 & 113.93 & 14.49 & 33.02 & 6836 & 1Jan & NA & NA & NA & NA\\\\\n",
       "\t5 & Carbon & 27/01/10 & 27.51 & 1:59:12 & 119.20 & 13.84 & 30.92 & 7152 & 2Feb & NA & NA & NA & NA\\\\\n",
       "\t6 & Steel  & 01/02/10 & 27.17 & 1:48:44 & 108.73 & 14.99 & 32.09 & 6524 & 2Feb & NA & NA & NA & NA\\\\\n",
       "\\end{tabular}\n"
      ],
      "text/markdown": [
       "\n",
       "A data.frame: 6 × 13\n",
       "\n",
       "| <!--/--> | Bike &lt;chr&gt; | Date &lt;chr&gt; | Distance &lt;dbl&gt; | Time &lt;chr&gt; | Minutes &lt;dbl&gt; | AvgSpeed &lt;dbl&gt; | TopSpeed &lt;dbl&gt; | Seconds &lt;int&gt; | Month &lt;chr&gt; | X &lt;lgl&gt; | X.1 &lt;lgl&gt; | X.2 &lt;lgl&gt; | X.3 &lt;lgl&gt; |\n",
       "|---|---|---|---|---|---|---|---|---|---|---|---|---|---|\n",
       "| 1 | Steel  | 20/01/10 | 27.20 | 1:55:04 | 115.07 | 14.10 | 31.50 | 6904 | 1Jan | NA | NA | NA | NA |\n",
       "| 2 | Carbon | 21/01/10 | 27.46 | 1:55:35 | 115.58 | 14.25 | 30.64 | 6935 | 1Jan | NA | NA | NA | NA |\n",
       "| 3 | Steel  | 25/01/10 | 27.20 | 1:55:45 | 115.75 | 14.10 | 30.92 | 6945 | 1Jan | NA | NA | NA | NA |\n",
       "| 4 | Carbon | 26/01/10 | 27.52 | 1:53:56 | 113.93 | 14.49 | 33.02 | 6836 | 1Jan | NA | NA | NA | NA |\n",
       "| 5 | Carbon | 27/01/10 | 27.51 | 1:59:12 | 119.20 | 13.84 | 30.92 | 7152 | 2Feb | NA | NA | NA | NA |\n",
       "| 6 | Steel  | 01/02/10 | 27.17 | 1:48:44 | 108.73 | 14.99 | 32.09 | 6524 | 2Feb | NA | NA | NA | NA |\n",
       "\n"
      ],
      "text/plain": [
       "  Bike   Date     Distance Time    Minutes AvgSpeed TopSpeed Seconds Month X \n",
       "1 Steel  20/01/10 27.20    1:55:04 115.07  14.10    31.50    6904    1Jan  NA\n",
       "2 Carbon 21/01/10 27.46    1:55:35 115.58  14.25    30.64    6935    1Jan  NA\n",
       "3 Steel  25/01/10 27.20    1:55:45 115.75  14.10    30.92    6945    1Jan  NA\n",
       "4 Carbon 26/01/10 27.52    1:53:56 113.93  14.49    33.02    6836    1Jan  NA\n",
       "5 Carbon 27/01/10 27.51    1:59:12 119.20  13.84    30.92    7152    2Feb  NA\n",
       "6 Steel  01/02/10 27.17    1:48:44 108.73  14.99    32.09    6524    2Feb  NA\n",
       "  X.1 X.2 X.3\n",
       "1 NA  NA  NA \n",
       "2 NA  NA  NA \n",
       "3 NA  NA  NA \n",
       "4 NA  NA  NA \n",
       "5 NA  NA  NA \n",
       "6 NA  NA  NA "
      ]
     },
     "metadata": {},
     "output_type": "display_data"
    }
   ],
   "source": [
    "file_url <- \"http://www.lock5stat.com/datasets2e/BikeCommute.csv\"\n",
    "Bike = read.csv(file_url)\n",
    "head(Bike)"
   ]
  },
  {
   "cell_type": "code",
   "execution_count": 106,
   "id": "0ef2cae9-0483-43b9-93b4-75ff98b9849e",
   "metadata": {},
   "outputs": [
    {
     "data": {
      "text/html": [
       "<style>\n",
       ".list-inline {list-style: none; margin:0; padding: 0}\n",
       ".list-inline>li {display: inline-block}\n",
       ".list-inline>li:not(:last-child)::after {content: \"\\00b7\"; padding: 0 .5ex}\n",
       "</style>\n",
       "<ol class=list-inline><li>1</li><li>0</li><li>1</li><li>0</li><li>0</li><li>1</li><li>1</li><li>0</li><li>0</li><li>1</li><li>0</li><li>0</li><li>0</li><li>1</li><li>1</li><li>0</li><li>0</li><li>0</li><li>1</li><li>1</li><li>1</li><li>1</li><li>0</li><li>1</li><li>1</li><li>1</li><li>1</li><li>1</li><li>0</li><li>0</li><li>0</li><li>1</li><li>0</li><li>1</li><li>0</li><li>1</li><li>1</li><li>0</li><li>1</li><li>1</li><li>1</li><li>1</li><li>0</li><li>1</li><li>1</li><li>0</li><li>0</li><li>0</li><li>1</li><li>0</li><li>1</li><li>0</li><li>0</li><li>1</li><li>1</li><li>0</li></ol>\n"
      ],
      "text/latex": [
       "\\begin{enumerate*}\n",
       "\\item 1\n",
       "\\item 0\n",
       "\\item 1\n",
       "\\item 0\n",
       "\\item 0\n",
       "\\item 1\n",
       "\\item 1\n",
       "\\item 0\n",
       "\\item 0\n",
       "\\item 1\n",
       "\\item 0\n",
       "\\item 0\n",
       "\\item 0\n",
       "\\item 1\n",
       "\\item 1\n",
       "\\item 0\n",
       "\\item 0\n",
       "\\item 0\n",
       "\\item 1\n",
       "\\item 1\n",
       "\\item 1\n",
       "\\item 1\n",
       "\\item 0\n",
       "\\item 1\n",
       "\\item 1\n",
       "\\item 1\n",
       "\\item 1\n",
       "\\item 1\n",
       "\\item 0\n",
       "\\item 0\n",
       "\\item 0\n",
       "\\item 1\n",
       "\\item 0\n",
       "\\item 1\n",
       "\\item 0\n",
       "\\item 1\n",
       "\\item 1\n",
       "\\item 0\n",
       "\\item 1\n",
       "\\item 1\n",
       "\\item 1\n",
       "\\item 1\n",
       "\\item 0\n",
       "\\item 1\n",
       "\\item 1\n",
       "\\item 0\n",
       "\\item 0\n",
       "\\item 0\n",
       "\\item 1\n",
       "\\item 0\n",
       "\\item 1\n",
       "\\item 0\n",
       "\\item 0\n",
       "\\item 1\n",
       "\\item 1\n",
       "\\item 0\n",
       "\\end{enumerate*}\n"
      ],
      "text/markdown": [
       "1. 1\n",
       "2. 0\n",
       "3. 1\n",
       "4. 0\n",
       "5. 0\n",
       "6. 1\n",
       "7. 1\n",
       "8. 0\n",
       "9. 0\n",
       "10. 1\n",
       "11. 0\n",
       "12. 0\n",
       "13. 0\n",
       "14. 1\n",
       "15. 1\n",
       "16. 0\n",
       "17. 0\n",
       "18. 0\n",
       "19. 1\n",
       "20. 1\n",
       "21. 1\n",
       "22. 1\n",
       "23. 0\n",
       "24. 1\n",
       "25. 1\n",
       "26. 1\n",
       "27. 1\n",
       "28. 1\n",
       "29. 0\n",
       "30. 0\n",
       "31. 0\n",
       "32. 1\n",
       "33. 0\n",
       "34. 1\n",
       "35. 0\n",
       "36. 1\n",
       "37. 1\n",
       "38. 0\n",
       "39. 1\n",
       "40. 1\n",
       "41. 1\n",
       "42. 1\n",
       "43. 0\n",
       "44. 1\n",
       "45. 1\n",
       "46. 0\n",
       "47. 0\n",
       "48. 0\n",
       "49. 1\n",
       "50. 0\n",
       "51. 1\n",
       "52. 0\n",
       "53. 0\n",
       "54. 1\n",
       "55. 1\n",
       "56. 0\n",
       "\n",
       "\n"
      ],
      "text/plain": [
       " [1] 1 0 1 0 0 1 1 0 0 1 0 0 0 1 1 0 0 0 1 1 1 1 0 1 1 1 1 1 0 0 0 1 0 1 0 1 1 0\n",
       "[39] 1 1 1 1 0 1 1 0 0 0 1 0 1 0 0 1 1 0"
      ]
     },
     "metadata": {},
     "output_type": "display_data"
    }
   ],
   "source": [
    "BikeX = ifelse(Bike$Bike == \"Steel\", 1, 0)\n",
    "BikeX"
   ]
  },
  {
   "cell_type": "code",
   "execution_count": 107,
   "id": "3179de66-b046-4e5c-86ff-632d8454091d",
   "metadata": {},
   "outputs": [
    {
     "data": {
      "text/plain": [
       "\n",
       "Call:\n",
       "lm(formula = Minutes ~ BikeX, data = Bike)\n",
       "\n",
       "Residuals:\n",
       "     Min       1Q   Median       3Q      Max \n",
       "-10.1193  -4.5266  -0.5608   4.1009  14.9877 \n",
       "\n",
       "Coefficients:\n",
       "            Estimate Std. Error t value Pr(>|t|)    \n",
       "(Intercept)  108.342      1.087  99.624   <2e-16 ***\n",
       "BikeX         -0.553      1.486  -0.372    0.711    \n",
       "---\n",
       "Signif. codes:  0 '***' 0.001 '**' 0.01 '*' 0.05 '.' 0.1 ' ' 1\n",
       "\n",
       "Residual standard error: 5.545 on 54 degrees of freedom\n",
       "Multiple R-squared:  0.002558,\tAdjusted R-squared:  -0.01591 \n",
       "F-statistic: 0.1385 on 1 and 54 DF,  p-value: 0.7112\n"
      ]
     },
     "metadata": {},
     "output_type": "display_data"
    }
   ],
   "source": [
    "fit = lm(Minutes ~ BikeX, data = Bike)\n",
    "summary(fit)"
   ]
  },
  {
   "cell_type": "markdown",
   "id": "6ffd3674-dc39-4b95-9fcd-bdd2e5d4b02d",
   "metadata": {},
   "source": [
    "$Minutes = 108.342 -0.553 \\times Bike\\,$ (강철 자전거이면 1, 탄소 자전거이면 0)"
   ]
  },
  {
   "cell_type": "markdown",
   "id": "c7cf1630-9fad-4332-86dd-7c645ce7ef51",
   "metadata": {},
   "source": [
    "`A`"
   ]
  },
  {
   "cell_type": "code",
   "execution_count": 109,
   "id": "fa348968-444e-4fdd-8bd2-0924abb41c44",
   "metadata": {},
   "outputs": [
    {
     "data": {
      "text/html": [
       "107.789"
      ],
      "text/latex": [
       "107.789"
      ],
      "text/markdown": [
       "107.789"
      ],
      "text/plain": [
       "[1] 107.789"
      ]
     },
     "metadata": {},
     "output_type": "display_data"
    }
   ],
   "source": [
    "108.342 - 0.553 * 1"
   ]
  },
  {
   "cell_type": "markdown",
   "id": "1f2b225a-530a-416a-8932-55e0347069f8",
   "metadata": {},
   "source": [
    "`B`"
   ]
  },
  {
   "cell_type": "code",
   "execution_count": 110,
   "id": "46dd9a57-332b-4f9a-b307-31f37d620b01",
   "metadata": {},
   "outputs": [
    {
     "data": {
      "text/html": [
       "108.342"
      ],
      "text/latex": [
       "108.342"
      ],
      "text/markdown": [
       "108.342"
      ],
      "text/plain": [
       "[1] 108.342"
      ]
     },
     "metadata": {},
     "output_type": "display_data"
    }
   ],
   "source": [
    "108.342 - 0.553 * 0"
   ]
  },
  {
   "cell_type": "markdown",
   "id": "ff6701b5-f781-4fb4-89c9-76bbe7a04e82",
   "metadata": {},
   "source": [
    "`C`"
   ]
  },
  {
   "cell_type": "markdown",
   "id": "de7bc0ec-72a6-4ea7-97e3-290dc0af5e45",
   "metadata": {},
   "source": [
    "$p-value$가 0.7112이므로 유의한 차이가 있다고 보기 어렵다."
   ]
  },
  {
   "cell_type": "code",
   "execution_count": null,
   "id": "bc555303-e40a-408a-b6ff-523262aa9e5b",
   "metadata": {},
   "outputs": [],
   "source": []
  }
 ],
 "metadata": {
  "kernelspec": {
   "display_name": "R",
   "language": "R",
   "name": "ir"
  },
  "language_info": {
   "codemirror_mode": "r",
   "file_extension": ".r",
   "mimetype": "text/x-r-source",
   "name": "R",
   "pygments_lexer": "r",
   "version": "4.1.2"
  }
 },
 "nbformat": 4,
 "nbformat_minor": 5
}
