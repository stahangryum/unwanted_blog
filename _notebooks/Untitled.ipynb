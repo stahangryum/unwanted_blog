{
 "cells": [
  {
   "cell_type": "markdown",
   "id": "582b8c9e-1e72-436c-8b8b-43ac0fff29a8",
   "metadata": {},
   "source": [
    "##### int, td\n",
    "\n",
    "- 겉멋 X \n",
    "- 컴공 X\n",
    "- 통계 O\n",
    "- 수학 O\n",
    "- basic math O\n",
    "- 선형대수학, 암기 X, 이해 O, Linear Algebra and Learning from Data. by Gilbert Strang, 딥러닝을 위한 선형대수학\n",
    "- 해석학? *\n",
    "- 42Series? Bootcamp? X\n",
    "- K-MOOC, Coursera. ref\n",
    "- Python, R\n",
    "- python library : numpy, pandas, matplotlib........\n",
    "- 그 밖의 잡다한 이야기\n"
   ]
  },
  {
   "cell_type": "code",
   "execution_count": null,
   "id": "958035fa-297c-4a1e-ac6c-f0a6deabaa9c",
   "metadata": {},
   "outputs": [],
   "source": []
  }
 ],
 "metadata": {
  "kernelspec": {
   "display_name": "Python 3 (ipykernel)",
   "language": "python",
   "name": "python3"
  },
  "language_info": {
   "codemirror_mode": {
    "name": "ipython",
    "version": 3
   },
   "file_extension": ".py",
   "mimetype": "text/x-python",
   "name": "python",
   "nbconvert_exporter": "python",
   "pygments_lexer": "ipython3",
   "version": "3.9.7"
  }
 },
 "nbformat": 4,
 "nbformat_minor": 5
}
