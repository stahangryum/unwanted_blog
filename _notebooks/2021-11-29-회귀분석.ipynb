{
 "cells": [
  {
   "cell_type": "markdown",
   "id": "10e31733-3af6-4e29-88a8-5b466844ae55",
   "metadata": {},
   "source": [
    "# \"Regression Analysis\"\n",
    "> \"전북대학교 통계학 입문\"\n",
    "\n",
    "- toc: true\n",
    "- branch: master\n",
    "- badges: true\n",
    "- comments: true\n",
    "- author: Kim Jeewoo\n",
    "- categories: [Introduction to Statistics]\n",
    "- image: images/20211130linear.png"
   ]
  },
  {
   "cell_type": "code",
   "execution_count": 101,
   "id": "0b547ef8-800c-49d5-8b10-13947c523ddc",
   "metadata": {},
   "outputs": [],
   "source": [
    "library(tidyverse)"
   ]
  },
  {
   "cell_type": "markdown",
   "id": "8fd10e76-2441-4e86-b236-510f7c8aca88",
   "metadata": {},
   "source": [
    "# 기울기와 상관관계 추론"
   ]
  },
  {
   "cell_type": "markdown",
   "id": "b93dc31c-87db-4b9b-8b77-ee380e306ab6",
   "metadata": {},
   "source": [
    "## Example 5.2"
   ]
  },
  {
   "cell_type": "code",
   "execution_count": 74,
   "id": "224b24ed-5a6a-4018-9462-2f20a55537c3",
   "metadata": {},
   "outputs": [],
   "source": [
    "file_url =  \"http://www.lock5stat.com/datasets2e/InkjetPrinters.csv\""
   ]
  },
  {
   "cell_type": "code",
   "execution_count": 17,
   "id": "a775db82-c13c-44d7-b165-8725a50c5bb5",
   "metadata": {},
   "outputs": [
    {
     "data": {
      "text/html": [
       "<table class=\"dataframe\">\n",
       "<caption>A data.frame: 20 × 6</caption>\n",
       "<thead>\n",
       "\t<tr><th scope=col>Model</th><th scope=col>PPM</th><th scope=col>PhotoTime</th><th scope=col>Price</th><th scope=col>CostBW</th><th scope=col>CostColor</th></tr>\n",
       "\t<tr><th scope=col>&lt;chr&gt;</th><th scope=col>&lt;dbl&gt;</th><th scope=col>&lt;int&gt;</th><th scope=col>&lt;int&gt;</th><th scope=col>&lt;dbl&gt;</th><th scope=col>&lt;dbl&gt;</th></tr>\n",
       "</thead>\n",
       "<tbody>\n",
       "\t<tr><td>HP Photosmart Pro 8500A e-All-in-One       </td><td>3.9</td><td> 67</td><td>300</td><td>1.6</td><td> 7.2</td></tr>\n",
       "\t<tr><td>Canon Pixma MX882                          </td><td>2.9</td><td> 63</td><td>199</td><td>5.2</td><td>13.4</td></tr>\n",
       "\t<tr><td>Lexmark Impact S305                        </td><td>2.7</td><td> 43</td><td> 79</td><td>6.9</td><td> 9.0</td></tr>\n",
       "\t<tr><td>Lexmark Interpret S405                     </td><td>2.9</td><td> 42</td><td>129</td><td>4.9</td><td>13.9</td></tr>\n",
       "\t<tr><td>Epson Workforce 520                        </td><td>2.4</td><td>170</td><td> 70</td><td>4.9</td><td>14.4</td></tr>\n",
       "\t<tr><td>Brother MFC-J6910DW                        </td><td>4.1</td><td>143</td><td>348</td><td>1.7</td><td> 7.9</td></tr>\n",
       "\t<tr><td>HP Officejet 7500A Wide Format e-All-in-One</td><td>3.4</td><td> 66</td><td>299</td><td>2.7</td><td> 9.1</td></tr>\n",
       "\t<tr><td>Canon Pixma iX7000 Inkjet Business Printer </td><td>2.8</td><td> 66</td><td>248</td><td>4.1</td><td> 9.8</td></tr>\n",
       "\t<tr><td>Kodak ESP Office 2170 All-in-One Printer   </td><td>3.0</td><td> 42</td><td>150</td><td>3.7</td><td>11.3</td></tr>\n",
       "\t<tr><td>HP Photosmart Plus e-All-in-One            </td><td>3.2</td><td> 77</td><td>150</td><td>4.2</td><td>11.4</td></tr>\n",
       "\t<tr><td>Kodak ESP C310 All-in-One                  </td><td>2.7</td><td> 44</td><td> 87</td><td>3.7</td><td>11.3</td></tr>\n",
       "\t<tr><td>Dell P513w All-in-One Wireless             </td><td>2.7</td><td> 45</td><td>100</td><td>8.3</td><td>18.6</td></tr>\n",
       "\t<tr><td>Brother MFC-J410W                          </td><td>2.2</td><td> 96</td><td> 99</td><td>5.0</td><td>14.7</td></tr>\n",
       "\t<tr><td>Dell V715w                                 </td><td>2.5</td><td> 41</td><td>189</td><td>3.8</td><td>12.4</td></tr>\n",
       "\t<tr><td>Kodak ESP C310 All-in-One                  </td><td>2.7</td><td> 44</td><td> 99</td><td>3.7</td><td>11.3</td></tr>\n",
       "\t<tr><td>Epson Stylus NX420                         </td><td>1.7</td><td>170</td><td> 60</td><td>5.7</td><td>14.6</td></tr>\n",
       "\t<tr><td>Kodak ESP 7250 All-in-One                  </td><td>2.8</td><td> 58</td><td>199</td><td>2.2</td><td> 6.5</td></tr>\n",
       "\t<tr><td>Canon Pixma 420 Wireless Inject Office     </td><td>1.8</td><td> 97</td><td>149</td><td>5.5</td><td>13.2</td></tr>\n",
       "\t<tr><td>Canon Pixma MX360 Office Inkjet All-in-One </td><td>1.8</td><td> 94</td><td> 79</td><td>5.5</td><td>13.2</td></tr>\n",
       "\t<tr><td>Epson WorkForce 635                        </td><td>4.1</td><td>134</td><td>199</td><td>3.0</td><td>10.2</td></tr>\n",
       "</tbody>\n",
       "</table>\n"
      ],
      "text/latex": [
       "A data.frame: 20 × 6\n",
       "\\begin{tabular}{llllll}\n",
       " Model & PPM & PhotoTime & Price & CostBW & CostColor\\\\\n",
       " <chr> & <dbl> & <int> & <int> & <dbl> & <dbl>\\\\\n",
       "\\hline\n",
       "\t HP Photosmart Pro 8500A e-All-in-One        & 3.9 &  67 & 300 & 1.6 &  7.2\\\\\n",
       "\t Canon Pixma MX882                           & 2.9 &  63 & 199 & 5.2 & 13.4\\\\\n",
       "\t Lexmark Impact S305                         & 2.7 &  43 &  79 & 6.9 &  9.0\\\\\n",
       "\t Lexmark Interpret S405                      & 2.9 &  42 & 129 & 4.9 & 13.9\\\\\n",
       "\t Epson Workforce 520                         & 2.4 & 170 &  70 & 4.9 & 14.4\\\\\n",
       "\t Brother MFC-J6910DW                         & 4.1 & 143 & 348 & 1.7 &  7.9\\\\\n",
       "\t HP Officejet 7500A Wide Format e-All-in-One & 3.4 &  66 & 299 & 2.7 &  9.1\\\\\n",
       "\t Canon Pixma iX7000 Inkjet Business Printer  & 2.8 &  66 & 248 & 4.1 &  9.8\\\\\n",
       "\t Kodak ESP Office 2170 All-in-One Printer    & 3.0 &  42 & 150 & 3.7 & 11.3\\\\\n",
       "\t HP Photosmart Plus e-All-in-One             & 3.2 &  77 & 150 & 4.2 & 11.4\\\\\n",
       "\t Kodak ESP C310 All-in-One                   & 2.7 &  44 &  87 & 3.7 & 11.3\\\\\n",
       "\t Dell P513w All-in-One Wireless              & 2.7 &  45 & 100 & 8.3 & 18.6\\\\\n",
       "\t Brother MFC-J410W                           & 2.2 &  96 &  99 & 5.0 & 14.7\\\\\n",
       "\t Dell V715w                                  & 2.5 &  41 & 189 & 3.8 & 12.4\\\\\n",
       "\t Kodak ESP C310 All-in-One                   & 2.7 &  44 &  99 & 3.7 & 11.3\\\\\n",
       "\t Epson Stylus NX420                          & 1.7 & 170 &  60 & 5.7 & 14.6\\\\\n",
       "\t Kodak ESP 7250 All-in-One                   & 2.8 &  58 & 199 & 2.2 &  6.5\\\\\n",
       "\t Canon Pixma 420 Wireless Inject Office      & 1.8 &  97 & 149 & 5.5 & 13.2\\\\\n",
       "\t Canon Pixma MX360 Office Inkjet All-in-One  & 1.8 &  94 &  79 & 5.5 & 13.2\\\\\n",
       "\t Epson WorkForce 635                         & 4.1 & 134 & 199 & 3.0 & 10.2\\\\\n",
       "\\end{tabular}\n"
      ],
      "text/markdown": [
       "\n",
       "A data.frame: 20 × 6\n",
       "\n",
       "| Model &lt;chr&gt; | PPM &lt;dbl&gt; | PhotoTime &lt;int&gt; | Price &lt;int&gt; | CostBW &lt;dbl&gt; | CostColor &lt;dbl&gt; |\n",
       "|---|---|---|---|---|---|\n",
       "| HP Photosmart Pro 8500A e-All-in-One        | 3.9 |  67 | 300 | 1.6 |  7.2 |\n",
       "| Canon Pixma MX882                           | 2.9 |  63 | 199 | 5.2 | 13.4 |\n",
       "| Lexmark Impact S305                         | 2.7 |  43 |  79 | 6.9 |  9.0 |\n",
       "| Lexmark Interpret S405                      | 2.9 |  42 | 129 | 4.9 | 13.9 |\n",
       "| Epson Workforce 520                         | 2.4 | 170 |  70 | 4.9 | 14.4 |\n",
       "| Brother MFC-J6910DW                         | 4.1 | 143 | 348 | 1.7 |  7.9 |\n",
       "| HP Officejet 7500A Wide Format e-All-in-One | 3.4 |  66 | 299 | 2.7 |  9.1 |\n",
       "| Canon Pixma iX7000 Inkjet Business Printer  | 2.8 |  66 | 248 | 4.1 |  9.8 |\n",
       "| Kodak ESP Office 2170 All-in-One Printer    | 3.0 |  42 | 150 | 3.7 | 11.3 |\n",
       "| HP Photosmart Plus e-All-in-One             | 3.2 |  77 | 150 | 4.2 | 11.4 |\n",
       "| Kodak ESP C310 All-in-One                   | 2.7 |  44 |  87 | 3.7 | 11.3 |\n",
       "| Dell P513w All-in-One Wireless              | 2.7 |  45 | 100 | 8.3 | 18.6 |\n",
       "| Brother MFC-J410W                           | 2.2 |  96 |  99 | 5.0 | 14.7 |\n",
       "| Dell V715w                                  | 2.5 |  41 | 189 | 3.8 | 12.4 |\n",
       "| Kodak ESP C310 All-in-One                   | 2.7 |  44 |  99 | 3.7 | 11.3 |\n",
       "| Epson Stylus NX420                          | 1.7 | 170 |  60 | 5.7 | 14.6 |\n",
       "| Kodak ESP 7250 All-in-One                   | 2.8 |  58 | 199 | 2.2 |  6.5 |\n",
       "| Canon Pixma 420 Wireless Inject Office      | 1.8 |  97 | 149 | 5.5 | 13.2 |\n",
       "| Canon Pixma MX360 Office Inkjet All-in-One  | 1.8 |  94 |  79 | 5.5 | 13.2 |\n",
       "| Epson WorkForce 635                         | 4.1 | 134 | 199 | 3.0 | 10.2 |\n",
       "\n"
      ],
      "text/plain": [
       "   Model                                       PPM PhotoTime Price CostBW\n",
       "1  HP Photosmart Pro 8500A e-All-in-One        3.9  67       300   1.6   \n",
       "2  Canon Pixma MX882                           2.9  63       199   5.2   \n",
       "3  Lexmark Impact S305                         2.7  43        79   6.9   \n",
       "4  Lexmark Interpret S405                      2.9  42       129   4.9   \n",
       "5  Epson Workforce 520                         2.4 170        70   4.9   \n",
       "6  Brother MFC-J6910DW                         4.1 143       348   1.7   \n",
       "7  HP Officejet 7500A Wide Format e-All-in-One 3.4  66       299   2.7   \n",
       "8  Canon Pixma iX7000 Inkjet Business Printer  2.8  66       248   4.1   \n",
       "9  Kodak ESP Office 2170 All-in-One Printer    3.0  42       150   3.7   \n",
       "10 HP Photosmart Plus e-All-in-One             3.2  77       150   4.2   \n",
       "11 Kodak ESP C310 All-in-One                   2.7  44        87   3.7   \n",
       "12 Dell P513w All-in-One Wireless              2.7  45       100   8.3   \n",
       "13 Brother MFC-J410W                           2.2  96        99   5.0   \n",
       "14 Dell V715w                                  2.5  41       189   3.8   \n",
       "15 Kodak ESP C310 All-in-One                   2.7  44        99   3.7   \n",
       "16 Epson Stylus NX420                          1.7 170        60   5.7   \n",
       "17 Kodak ESP 7250 All-in-One                   2.8  58       199   2.2   \n",
       "18 Canon Pixma 420 Wireless Inject Office      1.8  97       149   5.5   \n",
       "19 Canon Pixma MX360 Office Inkjet All-in-One  1.8  94        79   5.5   \n",
       "20 Epson WorkForce 635                         4.1 134       199   3.0   \n",
       "   CostColor\n",
       "1   7.2     \n",
       "2  13.4     \n",
       "3   9.0     \n",
       "4  13.9     \n",
       "5  14.4     \n",
       "6   7.9     \n",
       "7   9.1     \n",
       "8   9.8     \n",
       "9  11.3     \n",
       "10 11.4     \n",
       "11 11.3     \n",
       "12 18.6     \n",
       "13 14.7     \n",
       "14 12.4     \n",
       "15 11.3     \n",
       "16 14.6     \n",
       "17  6.5     \n",
       "18 13.2     \n",
       "19 13.2     \n",
       "20 10.2     "
      ]
     },
     "metadata": {},
     "output_type": "display_data"
    }
   ],
   "source": [
    "inkjet = read.csv(file_url)\n",
    "inkjet"
   ]
  },
  {
   "cell_type": "code",
   "execution_count": 19,
   "id": "bff4b916-d822-492e-b299-39b188eae5cd",
   "metadata": {},
   "outputs": [
    {
     "data": {
      "text/plain": [
       "\n",
       "Call:\n",
       "lm(formula = Price ~ PPM, data = inkjet)\n",
       "\n",
       "Residuals:\n",
       "   Min     1Q Median     3Q    Max \n",
       "-79.38 -51.40  -3.49  43.85  87.76 \n",
       "\n",
       "Coefficients:\n",
       "            Estimate Std. Error t value Pr(>|t|)    \n",
       "(Intercept)   -94.22      56.40  -1.671 0.112086    \n",
       "PPM            90.88      19.49   4.663 0.000193 ***\n",
       "---\n",
       "Signif. codes:  0 '***' 0.001 '**' 0.01 '*' 0.05 '.' 0.1 ' ' 1\n",
       "\n",
       "Residual standard error: 58.55 on 18 degrees of freedom\n",
       "Multiple R-squared:  0.5471,\tAdjusted R-squared:  0.522 \n",
       "F-statistic: 21.75 on 1 and 18 DF,  p-value: 0.0001934\n"
      ]
     },
     "metadata": {},
     "output_type": "display_data"
    }
   ],
   "source": [
    "fit = lm(Price ~ PPM, data = inkjet)\n",
    "summary(fit)"
   ]
  },
  {
   "cell_type": "markdown",
   "id": "f85af7cb-f4c1-4e54-a62f-8eb006233ef9",
   "metadata": {},
   "source": [
    "- $b_1 = 90.88, SE = 19.49$"
   ]
  },
  {
   "cell_type": "code",
   "execution_count": 25,
   "id": "1b099e12-1af5-48f3-9a13-d0e0df915ba3",
   "metadata": {},
   "outputs": [
    {
     "data": {
      "text/html": [
       "18"
      ],
      "text/latex": [
       "18"
      ],
      "text/markdown": [
       "18"
      ],
      "text/plain": [
       "[1] 18"
      ]
     },
     "metadata": {},
     "output_type": "display_data"
    }
   ],
   "source": [
    "t_df = count(inkjet) %>% as.numeric - 2\n",
    "t_df"
   ]
  },
  {
   "cell_type": "markdown",
   "id": "7c0c8227-227b-4e39-a292-531253605328",
   "metadata": {},
   "source": [
    "자유도가 18인 t-분포에서 $t^*=2.10$이므로 95% 신뢰구간은"
   ]
  },
  {
   "cell_type": "markdown",
   "id": "f2b62b88-cf56-41f4-bf29-db42e8a2a790",
   "metadata": {},
   "source": [
    "$b_1 \\pm t^* \\centerdot SE$"
   ]
  },
  {
   "cell_type": "code",
   "execution_count": 32,
   "id": "98335628-ba2b-48dc-94c0-916de773c8b2",
   "metadata": {},
   "outputs": [
    {
     "data": {
      "text/html": [
       "49.951"
      ],
      "text/latex": [
       "49.951"
      ],
      "text/markdown": [
       "49.951"
      ],
      "text/plain": [
       "[1] 49.951"
      ]
     },
     "metadata": {},
     "output_type": "display_data"
    },
    {
     "data": {
      "text/html": [
       "131.809"
      ],
      "text/latex": [
       "131.809"
      ],
      "text/markdown": [
       "131.809"
      ],
      "text/plain": [
       "[1] 131.809"
      ]
     },
     "metadata": {},
     "output_type": "display_data"
    }
   ],
   "source": [
    "90.88 - 2.10 * 19.49\n",
    "90.88 + 2.10 * 19.49"
   ]
  },
  {
   "cell_type": "markdown",
   "id": "5dbb011b-8753-434b-88e1-a2f8dc2fb955",
   "metadata": {},
   "source": [
    "이 데이터로부터 기울기(인쇄 속도가 분당 1페이지 더 빨라질 때 프린터 가격 상승)는 **49.95에서 131.81 사이라고 95% 확신한다.**"
   ]
  },
  {
   "cell_type": "markdown",
   "id": "d8eecd3b-d16b-4a03-9e12-5d2aed93b0c7",
   "metadata": {},
   "source": [
    "## Example 5.3"
   ]
  },
  {
   "cell_type": "code",
   "execution_count": 33,
   "id": "6a6c843a-288f-4f2d-871a-a3fedce596d0",
   "metadata": {},
   "outputs": [],
   "source": [
    "file_url = \"http://www.lock5stat.com/datasets2e/RestaurantTips.csv\""
   ]
  },
  {
   "cell_type": "code",
   "execution_count": 35,
   "id": "b709ebca-e6d3-4c50-91fb-21d074170a90",
   "metadata": {},
   "outputs": [
    {
     "data": {
      "text/html": [
       "<table class=\"dataframe\">\n",
       "<caption>A data.frame: 6 × 7</caption>\n",
       "<thead>\n",
       "\t<tr><th></th><th scope=col>Bill</th><th scope=col>Tip</th><th scope=col>Credit</th><th scope=col>Guests</th><th scope=col>Day</th><th scope=col>Server</th><th scope=col>PctTip</th></tr>\n",
       "\t<tr><th></th><th scope=col>&lt;dbl&gt;</th><th scope=col>&lt;dbl&gt;</th><th scope=col>&lt;chr&gt;</th><th scope=col>&lt;int&gt;</th><th scope=col>&lt;chr&gt;</th><th scope=col>&lt;chr&gt;</th><th scope=col>&lt;dbl&gt;</th></tr>\n",
       "</thead>\n",
       "<tbody>\n",
       "\t<tr><th scope=row>1</th><td>23.70</td><td>10.00</td><td>n</td><td>2</td><td>f</td><td>A</td><td>42.2</td></tr>\n",
       "\t<tr><th scope=row>2</th><td>36.11</td><td> 7.00</td><td>n</td><td>3</td><td>f</td><td>B</td><td>19.4</td></tr>\n",
       "\t<tr><th scope=row>3</th><td>31.99</td><td> 5.01</td><td>y</td><td>2</td><td>f</td><td>A</td><td>15.7</td></tr>\n",
       "\t<tr><th scope=row>4</th><td>17.39</td><td> 3.61</td><td>y</td><td>2</td><td>f</td><td>B</td><td>20.8</td></tr>\n",
       "\t<tr><th scope=row>5</th><td>15.41</td><td> 3.00</td><td>n</td><td>2</td><td>f</td><td>B</td><td>19.5</td></tr>\n",
       "\t<tr><th scope=row>6</th><td>18.62</td><td> 2.50</td><td>n</td><td>2</td><td>f</td><td>A</td><td>13.4</td></tr>\n",
       "</tbody>\n",
       "</table>\n"
      ],
      "text/latex": [
       "A data.frame: 6 × 7\n",
       "\\begin{tabular}{r|lllllll}\n",
       "  & Bill & Tip & Credit & Guests & Day & Server & PctTip\\\\\n",
       "  & <dbl> & <dbl> & <chr> & <int> & <chr> & <chr> & <dbl>\\\\\n",
       "\\hline\n",
       "\t1 & 23.70 & 10.00 & n & 2 & f & A & 42.2\\\\\n",
       "\t2 & 36.11 &  7.00 & n & 3 & f & B & 19.4\\\\\n",
       "\t3 & 31.99 &  5.01 & y & 2 & f & A & 15.7\\\\\n",
       "\t4 & 17.39 &  3.61 & y & 2 & f & B & 20.8\\\\\n",
       "\t5 & 15.41 &  3.00 & n & 2 & f & B & 19.5\\\\\n",
       "\t6 & 18.62 &  2.50 & n & 2 & f & A & 13.4\\\\\n",
       "\\end{tabular}\n"
      ],
      "text/markdown": [
       "\n",
       "A data.frame: 6 × 7\n",
       "\n",
       "| <!--/--> | Bill &lt;dbl&gt; | Tip &lt;dbl&gt; | Credit &lt;chr&gt; | Guests &lt;int&gt; | Day &lt;chr&gt; | Server &lt;chr&gt; | PctTip &lt;dbl&gt; |\n",
       "|---|---|---|---|---|---|---|---|\n",
       "| 1 | 23.70 | 10.00 | n | 2 | f | A | 42.2 |\n",
       "| 2 | 36.11 |  7.00 | n | 3 | f | B | 19.4 |\n",
       "| 3 | 31.99 |  5.01 | y | 2 | f | A | 15.7 |\n",
       "| 4 | 17.39 |  3.61 | y | 2 | f | B | 20.8 |\n",
       "| 5 | 15.41 |  3.00 | n | 2 | f | B | 19.5 |\n",
       "| 6 | 18.62 |  2.50 | n | 2 | f | A | 13.4 |\n",
       "\n"
      ],
      "text/plain": [
       "  Bill  Tip   Credit Guests Day Server PctTip\n",
       "1 23.70 10.00 n      2      f   A      42.2  \n",
       "2 36.11  7.00 n      3      f   B      19.4  \n",
       "3 31.99  5.01 y      2      f   A      15.7  \n",
       "4 17.39  3.61 y      2      f   B      20.8  \n",
       "5 15.41  3.00 n      2      f   B      19.5  \n",
       "6 18.62  2.50 n      2      f   A      13.4  "
      ]
     },
     "metadata": {},
     "output_type": "display_data"
    }
   ],
   "source": [
    "RestaurantTips = read.csv(file_url)\n",
    "head(RestaurantTips)"
   ]
  },
  {
   "cell_type": "code",
   "execution_count": 37,
   "id": "49ae3643-fffe-4f73-a823-d10d3dcf12c9",
   "metadata": {},
   "outputs": [
    {
     "data": {
      "text/plain": [
       "\n",
       "Call:\n",
       "lm(formula = Tip ~ Bill, data = RestaurantTips)\n",
       "\n",
       "Residuals:\n",
       "    Min      1Q  Median      3Q     Max \n",
       "-2.3911 -0.4891 -0.1108  0.2839  5.9738 \n",
       "\n",
       "Coefficients:\n",
       "             Estimate Std. Error t value Pr(>|t|)    \n",
       "(Intercept) -0.292267   0.166160  -1.759   0.0806 .  \n",
       "Bill         0.182215   0.006451  28.247   <2e-16 ***\n",
       "---\n",
       "Signif. codes:  0 '***' 0.001 '**' 0.01 '*' 0.05 '.' 0.1 ' ' 1\n",
       "\n",
       "Residual standard error: 0.9795 on 155 degrees of freedom\n",
       "Multiple R-squared:  0.8373,\tAdjusted R-squared:  0.8363 \n",
       "F-statistic: 797.9 on 1 and 155 DF,  p-value: < 2.2e-16\n"
      ]
     },
     "metadata": {},
     "output_type": "display_data"
    }
   ],
   "source": [
    "fit = lm(Tip ~ Bill, data= RestaurantTips)\n",
    "summary(fit)"
   ]
  },
  {
   "cell_type": "code",
   "execution_count": 57,
   "id": "fe1f6fed-fd90-49ca-a35c-47e28aeee05f",
   "metadata": {},
   "outputs": [
    {
     "data": {
      "text/html": [
       "155"
      ],
      "text/latex": [
       "155"
      ],
      "text/markdown": [
       "155"
      ],
      "text/plain": [
       "[1] 155"
      ]
     },
     "metadata": {},
     "output_type": "display_data"
    }
   ],
   "source": [
    "b1 = 0.182\n",
    "SE = 0.006451\n",
    "n = count(RestaurantTips) %>% as.numeric\n",
    "df = n - 2\n",
    "df"
   ]
  },
  {
   "cell_type": "markdown",
   "id": "76b14c95-740d-4b4b-8f64-4c1b16a96650",
   "metadata": {},
   "source": [
    "$t^* = 1.655$\n",
    "\n",
    "90% 신뢰구간은 다음과 같다."
   ]
  },
  {
   "cell_type": "code",
   "execution_count": 51,
   "id": "02e3671b-b908-4e2e-a8d5-cc5fdda4e272",
   "metadata": {},
   "outputs": [
    {
     "data": {
      "text/html": [
       "0.171323595"
      ],
      "text/latex": [
       "0.171323595"
      ],
      "text/markdown": [
       "0.171323595"
      ],
      "text/plain": [
       "[1] 0.1713236"
      ]
     },
     "metadata": {},
     "output_type": "display_data"
    },
    {
     "data": {
      "text/html": [
       "0.192676405"
      ],
      "text/latex": [
       "0.192676405"
      ],
      "text/markdown": [
       "0.192676405"
      ],
      "text/plain": [
       "[1] 0.1926764"
      ]
     },
     "metadata": {},
     "output_type": "display_data"
    }
   ],
   "source": [
    "b1-1.655*SE\n",
    "b1+1.655*SE"
   ]
  },
  {
   "cell_type": "markdown",
   "id": "9d3db629-124a-47cb-aaf0-84a08fff4aae",
   "metadata": {},
   "source": [
    "## Example 5.4"
   ]
  },
  {
   "cell_type": "code",
   "execution_count": 54,
   "id": "ac75300c-63d3-4bf0-9459-0244ade0d7fb",
   "metadata": {},
   "outputs": [
    {
     "data": {
      "text/plain": [
       "\n",
       "Call:\n",
       "lm(formula = PctTip ~ Bill, data = RestaurantTips)\n",
       "\n",
       "Residuals:\n",
       "    Min      1Q  Median      3Q     Max \n",
       "-8.9927 -2.3096 -0.6455  1.4679 25.5335 \n",
       "\n",
       "Coefficients:\n",
       "            Estimate Std. Error t value Pr(>|t|)    \n",
       "(Intercept) 15.50965    0.73956   20.97   <2e-16 ***\n",
       "Bill         0.04881    0.02871    1.70   0.0911 .  \n",
       "---\n",
       "Signif. codes:  0 '***' 0.001 '**' 0.01 '*' 0.05 '.' 0.1 ' ' 1\n",
       "\n",
       "Residual standard error: 4.36 on 155 degrees of freedom\n",
       "Multiple R-squared:  0.01831,\tAdjusted R-squared:  0.01197 \n",
       "F-statistic:  2.89 on 1 and 155 DF,  p-value: 0.09112\n"
      ]
     },
     "metadata": {},
     "output_type": "display_data"
    }
   ],
   "source": [
    "fit = lm(PctTip ~ Bill, data = RestaurantTips)\n",
    "summary(fit)"
   ]
  },
  {
   "cell_type": "markdown",
   "id": "d06ebb93-373a-476c-9dd8-1137bc55357a",
   "metadata": {},
   "source": [
    "# 상관관계 t-검증"
   ]
  },
  {
   "cell_type": "markdown",
   "id": "624548b4-ca1c-4840-b55b-90932435792f",
   "metadata": {},
   "source": [
    "## Example 5.5"
   ]
  },
  {
   "cell_type": "code",
   "execution_count": 123,
   "id": "ae46b3c5-4e49-4ebb-8ff3-a73c7414e5f9",
   "metadata": {},
   "outputs": [
    {
     "data": {
      "image/png": "[encoded data removed]",
      "text/plain": [
       "Plot with title \"b = 4.46,r=0.2\""
      ]
     },
     "metadata": {
      "image/png": {
       "height": 420,
       "width": 420
      }
     },
     "output_type": "display_data"
    }
   ],
   "source": [
    "par(mfrow = c(2,2))\n",
    "scatter_plot = function(n, beta, sd){\n",
    "    x = runif(n, 0, 10)\n",
    "    y = beta*x + rnorm(n, 0, sd)\n",
    "    \n",
    "    fit = lm(y~x)\n",
    "    b = round(fit$coefficients[2],2)\n",
    "    r = round(cor(x,y),2)\n",
    "    \n",
    "    \n",
    "    \n",
    "    plot(x, y, main = paste0(\"b = \",b,\",r=\",r))\n",
    "    abline(fit)\n",
    "}\n",
    "\n",
    "set.seed(1)\n",
    "scatter_plot(5,0.1,0.1)\n",
    "scatter_plot(5, 10, 10)\n",
    "scatter_plot(5, 0.2, 2)\n",
    "scatter_plot(5, 1, 100)"
   ]
  },
  {
   "cell_type": "markdown",
   "id": "4859ed23-63a5-4d19-b1d0-69066ba0e802",
   "metadata": {},
   "source": [
    "# 결정계수"
   ]
  },
  {
   "cell_type": "markdown",
   "id": "bc889fe6-de52-4778-a02a-a49dd05c9524",
   "metadata": {},
   "source": [
    "## Example 5.7"
   ]
  },
  {
   "cell_type": "code",
   "execution_count": 2,
   "id": "1827d323-5aaa-4ac1-a9b3-4fd933bca05f",
   "metadata": {},
   "outputs": [],
   "source": [
    "file_url =  \"http://www.lock5stat.com/datasets2e/InkjetPrinters.csv\""
   ]
  },
  {
   "cell_type": "code",
   "execution_count": 3,
   "id": "af1aae3c-1f9a-407e-8f6b-6c109b3d1276",
   "metadata": {},
   "outputs": [
    {
     "data": {
      "text/html": [
       "<table class=\"dataframe\">\n",
       "<caption>A data.frame: 20 × 6</caption>\n",
       "<thead>\n",
       "\t<tr><th scope=col>Model</th><th scope=col>PPM</th><th scope=col>PhotoTime</th><th scope=col>Price</th><th scope=col>CostBW</th><th scope=col>CostColor</th></tr>\n",
       "\t<tr><th scope=col>&lt;chr&gt;</th><th scope=col>&lt;dbl&gt;</th><th scope=col>&lt;int&gt;</th><th scope=col>&lt;int&gt;</th><th scope=col>&lt;dbl&gt;</th><th scope=col>&lt;dbl&gt;</th></tr>\n",
       "</thead>\n",
       "<tbody>\n",
       "\t<tr><td>HP Photosmart Pro 8500A e-All-in-One       </td><td>3.9</td><td> 67</td><td>300</td><td>1.6</td><td> 7.2</td></tr>\n",
       "\t<tr><td>Canon Pixma MX882                          </td><td>2.9</td><td> 63</td><td>199</td><td>5.2</td><td>13.4</td></tr>\n",
       "\t<tr><td>Lexmark Impact S305                        </td><td>2.7</td><td> 43</td><td> 79</td><td>6.9</td><td> 9.0</td></tr>\n",
       "\t<tr><td>Lexmark Interpret S405                     </td><td>2.9</td><td> 42</td><td>129</td><td>4.9</td><td>13.9</td></tr>\n",
       "\t<tr><td>Epson Workforce 520                        </td><td>2.4</td><td>170</td><td> 70</td><td>4.9</td><td>14.4</td></tr>\n",
       "\t<tr><td>Brother MFC-J6910DW                        </td><td>4.1</td><td>143</td><td>348</td><td>1.7</td><td> 7.9</td></tr>\n",
       "\t<tr><td>HP Officejet 7500A Wide Format e-All-in-One</td><td>3.4</td><td> 66</td><td>299</td><td>2.7</td><td> 9.1</td></tr>\n",
       "\t<tr><td>Canon Pixma iX7000 Inkjet Business Printer </td><td>2.8</td><td> 66</td><td>248</td><td>4.1</td><td> 9.8</td></tr>\n",
       "\t<tr><td>Kodak ESP Office 2170 All-in-One Printer   </td><td>3.0</td><td> 42</td><td>150</td><td>3.7</td><td>11.3</td></tr>\n",
       "\t<tr><td>HP Photosmart Plus e-All-in-One            </td><td>3.2</td><td> 77</td><td>150</td><td>4.2</td><td>11.4</td></tr>\n",
       "\t<tr><td>Kodak ESP C310 All-in-One                  </td><td>2.7</td><td> 44</td><td> 87</td><td>3.7</td><td>11.3</td></tr>\n",
       "\t<tr><td>Dell P513w All-in-One Wireless             </td><td>2.7</td><td> 45</td><td>100</td><td>8.3</td><td>18.6</td></tr>\n",
       "\t<tr><td>Brother MFC-J410W                          </td><td>2.2</td><td> 96</td><td> 99</td><td>5.0</td><td>14.7</td></tr>\n",
       "\t<tr><td>Dell V715w                                 </td><td>2.5</td><td> 41</td><td>189</td><td>3.8</td><td>12.4</td></tr>\n",
       "\t<tr><td>Kodak ESP C310 All-in-One                  </td><td>2.7</td><td> 44</td><td> 99</td><td>3.7</td><td>11.3</td></tr>\n",
       "\t<tr><td>Epson Stylus NX420                         </td><td>1.7</td><td>170</td><td> 60</td><td>5.7</td><td>14.6</td></tr>\n",
       "\t<tr><td>Kodak ESP 7250 All-in-One                  </td><td>2.8</td><td> 58</td><td>199</td><td>2.2</td><td> 6.5</td></tr>\n",
       "\t<tr><td>Canon Pixma 420 Wireless Inject Office     </td><td>1.8</td><td> 97</td><td>149</td><td>5.5</td><td>13.2</td></tr>\n",
       "\t<tr><td>Canon Pixma MX360 Office Inkjet All-in-One </td><td>1.8</td><td> 94</td><td> 79</td><td>5.5</td><td>13.2</td></tr>\n",
       "\t<tr><td>Epson WorkForce 635                        </td><td>4.1</td><td>134</td><td>199</td><td>3.0</td><td>10.2</td></tr>\n",
       "</tbody>\n",
       "</table>\n"
      ],
      "text/latex": [
       "A data.frame: 20 × 6\n",
       "\\begin{tabular}{llllll}\n",
       " Model & PPM & PhotoTime & Price & CostBW & CostColor\\\\\n",
       " <chr> & <dbl> & <int> & <int> & <dbl> & <dbl>\\\\\n",
       "\\hline\n",
       "\t HP Photosmart Pro 8500A e-All-in-One        & 3.9 &  67 & 300 & 1.6 &  7.2\\\\\n",
       "\t Canon Pixma MX882                           & 2.9 &  63 & 199 & 5.2 & 13.4\\\\\n",
       "\t Lexmark Impact S305                         & 2.7 &  43 &  79 & 6.9 &  9.0\\\\\n",
       "\t Lexmark Interpret S405                      & 2.9 &  42 & 129 & 4.9 & 13.9\\\\\n",
       "\t Epson Workforce 520                         & 2.4 & 170 &  70 & 4.9 & 14.4\\\\\n",
       "\t Brother MFC-J6910DW                         & 4.1 & 143 & 348 & 1.7 &  7.9\\\\\n",
       "\t HP Officejet 7500A Wide Format e-All-in-One & 3.4 &  66 & 299 & 2.7 &  9.1\\\\\n",
       "\t Canon Pixma iX7000 Inkjet Business Printer  & 2.8 &  66 & 248 & 4.1 &  9.8\\\\\n",
       "\t Kodak ESP Office 2170 All-in-One Printer    & 3.0 &  42 & 150 & 3.7 & 11.3\\\\\n",
       "\t HP Photosmart Plus e-All-in-One             & 3.2 &  77 & 150 & 4.2 & 11.4\\\\\n",
       "\t Kodak ESP C310 All-in-One                   & 2.7 &  44 &  87 & 3.7 & 11.3\\\\\n",
       "\t Dell P513w All-in-One Wireless              & 2.7 &  45 & 100 & 8.3 & 18.6\\\\\n",
       "\t Brother MFC-J410W                           & 2.2 &  96 &  99 & 5.0 & 14.7\\\\\n",
       "\t Dell V715w                                  & 2.5 &  41 & 189 & 3.8 & 12.4\\\\\n",
       "\t Kodak ESP C310 All-in-One                   & 2.7 &  44 &  99 & 3.7 & 11.3\\\\\n",
       "\t Epson Stylus NX420                          & 1.7 & 170 &  60 & 5.7 & 14.6\\\\\n",
       "\t Kodak ESP 7250 All-in-One                   & 2.8 &  58 & 199 & 2.2 &  6.5\\\\\n",
       "\t Canon Pixma 420 Wireless Inject Office      & 1.8 &  97 & 149 & 5.5 & 13.2\\\\\n",
       "\t Canon Pixma MX360 Office Inkjet All-in-One  & 1.8 &  94 &  79 & 5.5 & 13.2\\\\\n",
       "\t Epson WorkForce 635                         & 4.1 & 134 & 199 & 3.0 & 10.2\\\\\n",
       "\\end{tabular}\n"
      ],
      "text/markdown": [
       "\n",
       "A data.frame: 20 × 6\n",
       "\n",
       "| Model &lt;chr&gt; | PPM &lt;dbl&gt; | PhotoTime &lt;int&gt; | Price &lt;int&gt; | CostBW &lt;dbl&gt; | CostColor &lt;dbl&gt; |\n",
       "|---|---|---|---|---|---|\n",
       "| HP Photosmart Pro 8500A e-All-in-One        | 3.9 |  67 | 300 | 1.6 |  7.2 |\n",
       "| Canon Pixma MX882                           | 2.9 |  63 | 199 | 5.2 | 13.4 |\n",
       "| Lexmark Impact S305                         | 2.7 |  43 |  79 | 6.9 |  9.0 |\n",
       "| Lexmark Interpret S405                      | 2.9 |  42 | 129 | 4.9 | 13.9 |\n",
       "| Epson Workforce 520                         | 2.4 | 170 |  70 | 4.9 | 14.4 |\n",
       "| Brother MFC-J6910DW                         | 4.1 | 143 | 348 | 1.7 |  7.9 |\n",
       "| HP Officejet 7500A Wide Format e-All-in-One | 3.4 |  66 | 299 | 2.7 |  9.1 |\n",
       "| Canon Pixma iX7000 Inkjet Business Printer  | 2.8 |  66 | 248 | 4.1 |  9.8 |\n",
       "| Kodak ESP Office 2170 All-in-One Printer    | 3.0 |  42 | 150 | 3.7 | 11.3 |\n",
       "| HP Photosmart Plus e-All-in-One             | 3.2 |  77 | 150 | 4.2 | 11.4 |\n",
       "| Kodak ESP C310 All-in-One                   | 2.7 |  44 |  87 | 3.7 | 11.3 |\n",
       "| Dell P513w All-in-One Wireless              | 2.7 |  45 | 100 | 8.3 | 18.6 |\n",
       "| Brother MFC-J410W                           | 2.2 |  96 |  99 | 5.0 | 14.7 |\n",
       "| Dell V715w                                  | 2.5 |  41 | 189 | 3.8 | 12.4 |\n",
       "| Kodak ESP C310 All-in-One                   | 2.7 |  44 |  99 | 3.7 | 11.3 |\n",
       "| Epson Stylus NX420                          | 1.7 | 170 |  60 | 5.7 | 14.6 |\n",
       "| Kodak ESP 7250 All-in-One                   | 2.8 |  58 | 199 | 2.2 |  6.5 |\n",
       "| Canon Pixma 420 Wireless Inject Office      | 1.8 |  97 | 149 | 5.5 | 13.2 |\n",
       "| Canon Pixma MX360 Office Inkjet All-in-One  | 1.8 |  94 |  79 | 5.5 | 13.2 |\n",
       "| Epson WorkForce 635                         | 4.1 | 134 | 199 | 3.0 | 10.2 |\n",
       "\n"
      ],
      "text/plain": [
       "   Model                                       PPM PhotoTime Price CostBW\n",
       "1  HP Photosmart Pro 8500A e-All-in-One        3.9  67       300   1.6   \n",
       "2  Canon Pixma MX882                           2.9  63       199   5.2   \n",
       "3  Lexmark Impact S305                         2.7  43        79   6.9   \n",
       "4  Lexmark Interpret S405                      2.9  42       129   4.9   \n",
       "5  Epson Workforce 520                         2.4 170        70   4.9   \n",
       "6  Brother MFC-J6910DW                         4.1 143       348   1.7   \n",
       "7  HP Officejet 7500A Wide Format e-All-in-One 3.4  66       299   2.7   \n",
       "8  Canon Pixma iX7000 Inkjet Business Printer  2.8  66       248   4.1   \n",
       "9  Kodak ESP Office 2170 All-in-One Printer    3.0  42       150   3.7   \n",
       "10 HP Photosmart Plus e-All-in-One             3.2  77       150   4.2   \n",
       "11 Kodak ESP C310 All-in-One                   2.7  44        87   3.7   \n",
       "12 Dell P513w All-in-One Wireless              2.7  45       100   8.3   \n",
       "13 Brother MFC-J410W                           2.2  96        99   5.0   \n",
       "14 Dell V715w                                  2.5  41       189   3.8   \n",
       "15 Kodak ESP C310 All-in-One                   2.7  44        99   3.7   \n",
       "16 Epson Stylus NX420                          1.7 170        60   5.7   \n",
       "17 Kodak ESP 7250 All-in-One                   2.8  58       199   2.2   \n",
       "18 Canon Pixma 420 Wireless Inject Office      1.8  97       149   5.5   \n",
       "19 Canon Pixma MX360 Office Inkjet All-in-One  1.8  94        79   5.5   \n",
       "20 Epson WorkForce 635                         4.1 134       199   3.0   \n",
       "   CostColor\n",
       "1   7.2     \n",
       "2  13.4     \n",
       "3   9.0     \n",
       "4  13.9     \n",
       "5  14.4     \n",
       "6   7.9     \n",
       "7   9.1     \n",
       "8   9.8     \n",
       "9  11.3     \n",
       "10 11.4     \n",
       "11 11.3     \n",
       "12 18.6     \n",
       "13 14.7     \n",
       "14 12.4     \n",
       "15 11.3     \n",
       "16 14.6     \n",
       "17  6.5     \n",
       "18 13.2     \n",
       "19 13.2     \n",
       "20 10.2     "
      ]
     },
     "metadata": {},
     "output_type": "display_data"
    }
   ],
   "source": [
    "inkjet = read.csv(file_url)\n",
    "inkjet"
   ]
  },
  {
   "cell_type": "code",
   "execution_count": 83,
   "id": "d3f51b85-7b36-42c0-94d3-23a774ff01e4",
   "metadata": {},
   "outputs": [],
   "source": [
    "corrn = cor(inkjet$Price, inkjet$PPM)"
   ]
  },
  {
   "cell_type": "code",
   "execution_count": 85,
   "id": "c4f07425-be3c-4794-983b-ac3a3155c88c",
   "metadata": {},
   "outputs": [],
   "source": [
    "corrn = cor(inkjet$PPM, inkjet$Price)"
   ]
  },
  {
   "cell_type": "code",
   "execution_count": 86,
   "id": "1a78f9cb-4082-4eed-a81e-d1619dd0b7e6",
   "metadata": {},
   "outputs": [
    {
     "data": {
      "text/html": [
       "0.547135639463782"
      ],
      "text/latex": [
       "0.547135639463782"
      ],
      "text/markdown": [
       "0.547135639463782"
      ],
      "text/plain": [
       "[1] 0.5471356"
      ]
     },
     "metadata": {},
     "output_type": "display_data"
    }
   ],
   "source": [
    "corrn^2"
   ]
  },
  {
   "cell_type": "markdown",
   "id": "490d8b8d-a1dc-4e91-8d40-9e204ae9bbf2",
   "metadata": {},
   "source": [
    "$r = 0.7397$이므로 결정계수 $R^2 = (0.7397)^2 = 0.547$"
   ]
  },
  {
   "cell_type": "code",
   "execution_count": 87,
   "id": "d33b6f73-5aa5-4bab-a52d-36c0424a2b87",
   "metadata": {},
   "outputs": [
    {
     "data": {
      "text/plain": [
       "\n",
       "Call:\n",
       "lm(formula = Price ~ PPM, data = inkjet)\n",
       "\n",
       "Residuals:\n",
       "   Min     1Q Median     3Q    Max \n",
       "-79.38 -51.40  -3.49  43.85  87.76 \n",
       "\n",
       "Coefficients:\n",
       "            Estimate Std. Error t value Pr(>|t|)    \n",
       "(Intercept)   -94.22      56.40  -1.671 0.112086    \n",
       "PPM            90.88      19.49   4.663 0.000193 ***\n",
       "---\n",
       "Signif. codes:  0 '***' 0.001 '**' 0.01 '*' 0.05 '.' 0.1 ' ' 1\n",
       "\n",
       "Residual standard error: 58.55 on 18 degrees of freedom\n",
       "Multiple R-squared:  0.5471,\tAdjusted R-squared:  0.522 \n",
       "F-statistic: 21.75 on 1 and 18 DF,  p-value: 0.0001934\n"
      ]
     },
     "metadata": {},
     "output_type": "display_data"
    }
   ],
   "source": [
    "summary(lm(Price~PPM, data=inkjet))"
   ]
  },
  {
   "cell_type": "markdown",
   "id": "b673b598-3d9c-4363-8f17-adc9b209183e",
   "metadata": {},
   "source": [
    "## Example 5.9"
   ]
  },
  {
   "cell_type": "code",
   "execution_count": 97,
   "id": "8207c650-0992-4976-92a5-4dfde5112c18",
   "metadata": {},
   "outputs": [
    {
     "data": {
      "image/png": "[encoded data removed]",
      "text/plain": [
       "plot without title"
      ]
     },
     "metadata": {
      "image/png": {
       "height": 420,
       "width": 420
      }
     },
     "output_type": "display_data"
    }
   ],
   "source": [
    "file_url <- \"http://www.lock5stat.com/datasets2e/RestaurantTips.csv\"\n",
    "RestaurantTips <- read.csv(file_url)\n",
    "par(mfrow=c(1,2))\n",
    "plot(RestaurantTips$Tip~ RestaurantTips$Bill,xlab=\"Bill\", ylab=\"Tip\")\n",
    "abline(lm(Tip~Bill, data=RestaurantTips ), col = \"Red\")\n",
    "rect(par(\"usr\")[1], par(\"usr\")[3], par(\"usr\")[2], par(\"usr\")[4], col = adjustcolor(\"#faf6aa\", alpha.f = 0.3))\n",
    "plot(RestaurantTips$PctTip ~ RestaurantTips$Bill, xlab = \"Bill\", ylab = \"PctTip\")\n",
    "abline(lm(PctTip~Bill,data=RestaurantTips), col=\"Red\")\n",
    "rect(par(\"usr\")[1], par(\"usr\")[3], par(\"usr\")[2], par(\"usr\")[4], col = adjustcolor(\"#faf6aa\", alpha.f = 0.3))"
   ]
  },
  {
   "cell_type": "markdown",
   "id": "8248f220-7809-4b1b-8fb3-9fa6df05653d",
   "metadata": {},
   "source": [
    "## Problem 5.1"
   ]
  },
  {
   "attachments": {
    "6ed0c12f-821f-4aad-b506-95513af63793.png": {
     "image/png": "[encoded data removed]"
    }
   },
   "cell_type": "markdown",
   "id": "2bb37aea-82b2-443d-9d9c-ac70a23fa124",
   "metadata": {},
   "source": [
    "![image.png](attachment:6ed0c12f-821f-4aad-b506-95513af63793.png)"
   ]
  },
  {
   "cell_type": "code",
   "execution_count": 104,
   "id": "24cd3c20-bc87-4ebe-9bcd-4332a6f746dc",
   "metadata": {},
   "outputs": [
    {
     "data": {
      "text/html": [
       "<table class=\"dataframe\">\n",
       "<caption>A data.frame: 6 × 17</caption>\n",
       "<thead>\n",
       "\t<tr><th></th><th scope=col>Year</th><th scope=col>Gender</th><th scope=col>Smoke</th><th scope=col>Award</th><th scope=col>HigherSAT</th><th scope=col>Exercise</th><th scope=col>TV</th><th scope=col>Height</th><th scope=col>Weight</th><th scope=col>Siblings</th><th scope=col>BirthOrder</th><th scope=col>VerbalSAT</th><th scope=col>MathSAT</th><th scope=col>SAT</th><th scope=col>GPA</th><th scope=col>Pulse</th><th scope=col>Piercings</th></tr>\n",
       "\t<tr><th></th><th scope=col>&lt;chr&gt;</th><th scope=col>&lt;chr&gt;</th><th scope=col>&lt;chr&gt;</th><th scope=col>&lt;chr&gt;</th><th scope=col>&lt;chr&gt;</th><th scope=col>&lt;dbl&gt;</th><th scope=col>&lt;int&gt;</th><th scope=col>&lt;int&gt;</th><th scope=col>&lt;int&gt;</th><th scope=col>&lt;int&gt;</th><th scope=col>&lt;int&gt;</th><th scope=col>&lt;int&gt;</th><th scope=col>&lt;int&gt;</th><th scope=col>&lt;int&gt;</th><th scope=col>&lt;dbl&gt;</th><th scope=col>&lt;int&gt;</th><th scope=col>&lt;int&gt;</th></tr>\n",
       "</thead>\n",
       "<tbody>\n",
       "\t<tr><th scope=row>1</th><td>Senior   </td><td>M</td><td>No </td><td>Olympic</td><td>Math  </td><td>10</td><td>1</td><td>71</td><td>180</td><td>4</td><td>4</td><td>540</td><td>670</td><td>1210</td><td>3.13</td><td> 54</td><td>0</td></tr>\n",
       "\t<tr><th scope=row>2</th><td>Sophomore</td><td>F</td><td>Yes</td><td>Academy</td><td>Math  </td><td> 4</td><td>7</td><td>66</td><td>120</td><td>2</td><td>2</td><td>520</td><td>630</td><td>1150</td><td>2.50</td><td> 66</td><td>3</td></tr>\n",
       "\t<tr><th scope=row>3</th><td>FirstYear</td><td>M</td><td>No </td><td>Nobel  </td><td>Math  </td><td>14</td><td>5</td><td>72</td><td>208</td><td>2</td><td>1</td><td>550</td><td>560</td><td>1110</td><td>2.55</td><td>130</td><td>0</td></tr>\n",
       "\t<tr><th scope=row>4</th><td>Junior   </td><td>M</td><td>No </td><td>Nobel  </td><td>Math  </td><td> 3</td><td>1</td><td>63</td><td>110</td><td>1</td><td>1</td><td>490</td><td>630</td><td>1120</td><td>3.10</td><td> 78</td><td>0</td></tr>\n",
       "\t<tr><th scope=row>5</th><td>Sophomore</td><td>F</td><td>No </td><td>Nobel  </td><td>Verbal</td><td> 3</td><td>3</td><td>65</td><td>150</td><td>1</td><td>1</td><td>720</td><td>450</td><td>1170</td><td>2.70</td><td> 40</td><td>6</td></tr>\n",
       "\t<tr><th scope=row>6</th><td>Sophomore</td><td>F</td><td>No </td><td>Nobel  </td><td>Verbal</td><td> 5</td><td>4</td><td>65</td><td>114</td><td>2</td><td>2</td><td>600</td><td>550</td><td>1150</td><td>3.20</td><td> 80</td><td>4</td></tr>\n",
       "</tbody>\n",
       "</table>\n"
      ],
      "text/latex": [
       "A data.frame: 6 × 17\n",
       "\\begin{tabular}{r|lllllllllllllllll}\n",
       "  & Year & Gender & Smoke & Award & HigherSAT & Exercise & TV & Height & Weight & Siblings & BirthOrder & VerbalSAT & MathSAT & SAT & GPA & Pulse & Piercings\\\\\n",
       "  & <chr> & <chr> & <chr> & <chr> & <chr> & <dbl> & <int> & <int> & <int> & <int> & <int> & <int> & <int> & <int> & <dbl> & <int> & <int>\\\\\n",
       "\\hline\n",
       "\t1 & Senior    & M & No  & Olympic & Math   & 10 & 1 & 71 & 180 & 4 & 4 & 540 & 670 & 1210 & 3.13 &  54 & 0\\\\\n",
       "\t2 & Sophomore & F & Yes & Academy & Math   &  4 & 7 & 66 & 120 & 2 & 2 & 520 & 630 & 1150 & 2.50 &  66 & 3\\\\\n",
       "\t3 & FirstYear & M & No  & Nobel   & Math   & 14 & 5 & 72 & 208 & 2 & 1 & 550 & 560 & 1110 & 2.55 & 130 & 0\\\\\n",
       "\t4 & Junior    & M & No  & Nobel   & Math   &  3 & 1 & 63 & 110 & 1 & 1 & 490 & 630 & 1120 & 3.10 &  78 & 0\\\\\n",
       "\t5 & Sophomore & F & No  & Nobel   & Verbal &  3 & 3 & 65 & 150 & 1 & 1 & 720 & 450 & 1170 & 2.70 &  40 & 6\\\\\n",
       "\t6 & Sophomore & F & No  & Nobel   & Verbal &  5 & 4 & 65 & 114 & 2 & 2 & 600 & 550 & 1150 & 3.20 &  80 & 4\\\\\n",
       "\\end{tabular}\n"
      ],
      "text/markdown": [
       "\n",
       "A data.frame: 6 × 17\n",
       "\n",
       "| <!--/--> | Year &lt;chr&gt; | Gender &lt;chr&gt; | Smoke &lt;chr&gt; | Award &lt;chr&gt; | HigherSAT &lt;chr&gt; | Exercise &lt;dbl&gt; | TV &lt;int&gt; | Height &lt;int&gt; | Weight &lt;int&gt; | Siblings &lt;int&gt; | BirthOrder &lt;int&gt; | VerbalSAT &lt;int&gt; | MathSAT &lt;int&gt; | SAT &lt;int&gt; | GPA &lt;dbl&gt; | Pulse &lt;int&gt; | Piercings &lt;int&gt; |\n",
       "|---|---|---|---|---|---|---|---|---|---|---|---|---|---|---|---|---|---|\n",
       "| 1 | Senior    | M | No  | Olympic | Math   | 10 | 1 | 71 | 180 | 4 | 4 | 540 | 670 | 1210 | 3.13 |  54 | 0 |\n",
       "| 2 | Sophomore | F | Yes | Academy | Math   |  4 | 7 | 66 | 120 | 2 | 2 | 520 | 630 | 1150 | 2.50 |  66 | 3 |\n",
       "| 3 | FirstYear | M | No  | Nobel   | Math   | 14 | 5 | 72 | 208 | 2 | 1 | 550 | 560 | 1110 | 2.55 | 130 | 0 |\n",
       "| 4 | Junior    | M | No  | Nobel   | Math   |  3 | 1 | 63 | 110 | 1 | 1 | 490 | 630 | 1120 | 3.10 |  78 | 0 |\n",
       "| 5 | Sophomore | F | No  | Nobel   | Verbal |  3 | 3 | 65 | 150 | 1 | 1 | 720 | 450 | 1170 | 2.70 |  40 | 6 |\n",
       "| 6 | Sophomore | F | No  | Nobel   | Verbal |  5 | 4 | 65 | 114 | 2 | 2 | 600 | 550 | 1150 | 3.20 |  80 | 4 |\n",
       "\n"
      ],
      "text/plain": [
       "  Year      Gender Smoke Award   HigherSAT Exercise TV Height Weight Siblings\n",
       "1 Senior    M      No    Olympic Math      10       1  71     180    4       \n",
       "2 Sophomore F      Yes   Academy Math       4       7  66     120    2       \n",
       "3 FirstYear M      No    Nobel   Math      14       5  72     208    2       \n",
       "4 Junior    M      No    Nobel   Math       3       1  63     110    1       \n",
       "5 Sophomore F      No    Nobel   Verbal     3       3  65     150    1       \n",
       "6 Sophomore F      No    Nobel   Verbal     5       4  65     114    2       \n",
       "  BirthOrder VerbalSAT MathSAT SAT  GPA  Pulse Piercings\n",
       "1 4          540       670     1210 3.13  54   0        \n",
       "2 2          520       630     1150 2.50  66   3        \n",
       "3 1          550       560     1110 2.55 130   0        \n",
       "4 1          490       630     1120 3.10  78   0        \n",
       "5 1          720       450     1170 2.70  40   6        \n",
       "6 2          600       550     1150 3.20  80   4        "
      ]
     },
     "metadata": {},
     "output_type": "display_data"
    }
   ],
   "source": [
    "file_url=\"https://www.lock5stat.com/datasets2e/StudentSurvey.csv\"\n",
    "StudentSurvey = read.csv(file_url)\n",
    "head(StudentSurvey)"
   ]
  },
  {
   "cell_type": "code",
   "execution_count": 157,
   "id": "18b72f18-a430-41aa-9300-8274954c42d4",
   "metadata": {},
   "outputs": [
    {
     "data": {
      "text/plain": [
       "\n",
       "Call:\n",
       "lm(formula = GPA ~ VerbalSAT, data = StudentSurvey)\n",
       "\n",
       "Residuals:\n",
       "    Min      1Q  Median      3Q     Max \n",
       "-1.0936 -0.2422  0.0282  0.2550  0.9253 \n",
       "\n",
       "Coefficients:\n",
       "             Estimate Std. Error t value Pr(>|t|)    \n",
       "(Intercept) 2.0335506  0.1621397  12.542  < 2e-16 ***\n",
       "VerbalSAT   0.0018929  0.0002709   6.989 1.45e-11 ***\n",
       "---\n",
       "Signif. codes:  0 '***' 0.001 '**' 0.01 '*' 0.05 '.' 0.1 ' ' 1\n",
       "\n",
       "Residual standard error: 0.3732 on 343 degrees of freedom\n",
       "  (17 observations deleted due to missingness)\n",
       "Multiple R-squared:  0.1246,\tAdjusted R-squared:  0.1221 \n",
       "F-statistic: 48.84 on 1 and 343 DF,  p-value: 1.454e-11\n"
      ]
     },
     "metadata": {},
     "output_type": "display_data"
    },
    {
     "data": {
      "image/png": "[encoded data removed]",
      "text/plain": [
       "plot without title"
      ]
     },
     "metadata": {
      "image/png": {
       "height": 420,
       "width": 420
      }
     },
     "output_type": "display_data"
    }
   ],
   "source": [
    "plot(StudentSurvey$GPA ~ StudentSurvey$VerbalSAT)\n",
    "abline(lm(GPA~VerbalSAT, data = StudentSurvey), col=\"red\")\n",
    "summary(lm(GPA~VerbalSAT, data=StudentSurvey))"
   ]
  },
  {
   "cell_type": "markdown",
   "id": "0107967f-723d-46e6-bbc2-44338c6bd6b5",
   "metadata": {},
   "source": [
    "- p-값이 매우 작으므로 선형 모형을 사용하기 위한 조건을 만족한다."
   ]
  },
  {
   "cell_type": "markdown",
   "id": "dceaab49-bb0d-4dea-916d-1e10cb8aca7e",
   "metadata": {},
   "source": [
    "- 전반적인 증가 추세를 나타내고, 뚜렷한 곡선이나 심각한 이상점이 없고, 회귀선 위와 아래에 비교적 균일한 점의 분포를 보여준다. "
   ]
  },
  {
   "cell_type": "code",
   "execution_count": 116,
   "id": "ec04aa91-8edb-4230-9264-80f43813d6ed",
   "metadata": {},
   "outputs": [
    {
     "data": {
      "text/html": [
       "3.2639356"
      ],
      "text/latex": [
       "3.2639356"
      ],
      "text/markdown": [
       "3.2639356"
      ],
      "text/plain": [
       "[1] 3.263936"
      ]
     },
     "metadata": {},
     "output_type": "display_data"
    }
   ],
   "source": [
    "0.0018929 * 650  + 2.0335506"
   ]
  },
  {
   "cell_type": "markdown",
   "id": "b1763128-a40f-4f2f-977e-9d58b1f06309",
   "metadata": {},
   "source": [
    "- 적합된 회귀 모형에서 VerbalSAT점수가 540인 사람의 GPA는 3.26으로 예측된다."
   ]
  },
  {
   "cell_type": "code",
   "execution_count": 184,
   "id": "e43395eb-fcc1-4fa2-8f1e-1e8c9e2e0a5c",
   "metadata": {},
   "outputs": [
    {
     "data": {
      "text/plain": [
       "\n",
       "\tPearson's product-moment correlation\n",
       "\n",
       "data:  StudentSurvey$GPA and StudentSurvey$VerbalSAT\n",
       "t = 6.9886, df = 343, p-value = 1.454e-11\n",
       "alternative hypothesis: true correlation is not equal to 0\n",
       "95 percent confidence interval:\n",
       " 0.2570427 0.4421537\n",
       "sample estimates:\n",
       "      cor \n",
       "0.3530485 \n"
      ]
     },
     "metadata": {},
     "output_type": "display_data"
    }
   ],
   "source": [
    "corrn = cor.test(StudentSurvey$GPA, StudentSurvey$VerbalSAT)\n",
    "corrn"
   ]
  },
  {
   "cell_type": "code",
   "execution_count": 182,
   "id": "6071849e-3e54-48ff-95c7-19431653b230",
   "metadata": {},
   "outputs": [
    {
     "data": {
      "text/html": [
       "0.12464324335225"
      ],
      "text/latex": [
       "0.12464324335225"
      ],
      "text/markdown": [
       "0.12464324335225"
      ],
      "text/plain": [
       "[1] 0.1246432"
      ]
     },
     "metadata": {},
     "output_type": "display_data"
    }
   ],
   "source": [
    "0.3530485^2"
   ]
  },
  {
   "cell_type": "markdown",
   "id": "8072696a-5816-45d5-950f-b05e8db4e212",
   "metadata": {},
   "source": [
    "## Problem 5.2"
   ]
  },
  {
   "cell_type": "code",
   "execution_count": 153,
   "id": "c904ee83-a26c-4444-ab57-87a1eea21f1e",
   "metadata": {},
   "outputs": [
    {
     "data": {
      "text/html": [
       "<table class=\"dataframe\">\n",
       "<caption>A data.frame: 6 × 2</caption>\n",
       "<thead>\n",
       "\t<tr><th></th><th scope=col>GMdensity</th><th scope=col>FBfriends</th></tr>\n",
       "\t<tr><th></th><th scope=col>&lt;dbl&gt;</th><th scope=col>&lt;int&gt;</th></tr>\n",
       "</thead>\n",
       "<tbody>\n",
       "\t<tr><th scope=row>1</th><td>-1.8</td><td> 23</td></tr>\n",
       "\t<tr><th scope=row>2</th><td> 0.1</td><td> 35</td></tr>\n",
       "\t<tr><th scope=row>3</th><td>-1.2</td><td> 80</td></tr>\n",
       "\t<tr><th scope=row>4</th><td>-0.4</td><td>110</td></tr>\n",
       "\t<tr><th scope=row>5</th><td>-0.9</td><td>120</td></tr>\n",
       "\t<tr><th scope=row>6</th><td>-2.1</td><td>140</td></tr>\n",
       "</tbody>\n",
       "</table>\n"
      ],
      "text/latex": [
       "A data.frame: 6 × 2\n",
       "\\begin{tabular}{r|ll}\n",
       "  & GMdensity & FBfriends\\\\\n",
       "  & <dbl> & <int>\\\\\n",
       "\\hline\n",
       "\t1 & -1.8 &  23\\\\\n",
       "\t2 &  0.1 &  35\\\\\n",
       "\t3 & -1.2 &  80\\\\\n",
       "\t4 & -0.4 & 110\\\\\n",
       "\t5 & -0.9 & 120\\\\\n",
       "\t6 & -2.1 & 140\\\\\n",
       "\\end{tabular}\n"
      ],
      "text/markdown": [
       "\n",
       "A data.frame: 6 × 2\n",
       "\n",
       "| <!--/--> | GMdensity &lt;dbl&gt; | FBfriends &lt;int&gt; |\n",
       "|---|---|---|\n",
       "| 1 | -1.8 |  23 |\n",
       "| 2 |  0.1 |  35 |\n",
       "| 3 | -1.2 |  80 |\n",
       "| 4 | -0.4 | 110 |\n",
       "| 5 | -0.9 | 120 |\n",
       "| 6 | -2.1 | 140 |\n",
       "\n"
      ],
      "text/plain": [
       "  GMdensity FBfriends\n",
       "1 -1.8       23      \n",
       "2  0.1       35      \n",
       "3 -1.2       80      \n",
       "4 -0.4      110      \n",
       "5 -0.9      120      \n",
       "6 -2.1      140      "
      ]
     },
     "metadata": {},
     "output_type": "display_data"
    }
   ],
   "source": [
    "file_url=\"https://www.lock5stat.com/datasets2e/FacebookFriends.csv\"\n",
    "FacebookFriends = read.csv(file_url)\n",
    "head(FacebookFriends)"
   ]
  },
  {
   "cell_type": "code",
   "execution_count": 154,
   "id": "6a027e02-2dfc-4d3d-b494-3d6e8e4925b8",
   "metadata": {},
   "outputs": [],
   "source": [
    "sdd=FacebookFriends$GMdensity %>%sd"
   ]
  },
  {
   "cell_type": "code",
   "execution_count": 155,
   "id": "02575fbf-15bc-412a-9428-8a72da7748de",
   "metadata": {},
   "outputs": [
    {
     "data": {
      "text/html": [
       "<table class=\"dataframe\">\n",
       "<caption>A data.frame: 1 × 2</caption>\n",
       "<thead>\n",
       "\t<tr><th scope=col>GMdensity</th><th scope=col>FBfriends</th></tr>\n",
       "\t<tr><th scope=col>&lt;dbl&gt;</th><th scope=col>&lt;int&gt;</th></tr>\n",
       "</thead>\n",
       "<tbody>\n",
       "\t<tr><td>-2.1</td><td>140</td></tr>\n",
       "</tbody>\n",
       "</table>\n"
      ],
      "text/latex": [
       "A data.frame: 1 × 2\n",
       "\\begin{tabular}{ll}\n",
       " GMdensity & FBfriends\\\\\n",
       " <dbl> & <int>\\\\\n",
       "\\hline\n",
       "\t -2.1 & 140\\\\\n",
       "\\end{tabular}\n"
      ],
      "text/markdown": [
       "\n",
       "A data.frame: 1 × 2\n",
       "\n",
       "| GMdensity &lt;dbl&gt; | FBfriends &lt;int&gt; |\n",
       "|---|---|\n",
       "| -2.1 | 140 |\n",
       "\n"
      ],
      "text/plain": [
       "  GMdensity FBfriends\n",
       "1 -2.1      140      "
      ]
     },
     "metadata": {},
     "output_type": "display_data"
    }
   ],
   "source": [
    "FacebookFriends %>% filter(!abs(GMdensity)<=2*sdd)"
   ]
  },
  {
   "cell_type": "code",
   "execution_count": 169,
   "id": "c95fd877-0b0e-4560-ada8-5c6bfeb2846c",
   "metadata": {},
   "outputs": [
    {
     "data": {
      "image/png": "[encoded data removed]",
      "text/plain": [
       "plot without title"
      ]
     },
     "metadata": {
      "image/png": {
       "height": 420,
       "width": 420
      }
     },
     "output_type": "display_data"
    }
   ],
   "source": [
    "plot(FacebookFriends$FBfriends ~ FacebookFriends$GMdensity)\n",
    "\n",
    "abline(lm(FBfriends ~ GMdensity, data=FacebookFriends), col=\"red\")"
   ]
  },
  {
   "cell_type": "markdown",
   "id": "a9933e40-e93a-472a-af69-700e6ba6411e",
   "metadata": {},
   "source": [
    "- 선형 모형을 사용하기 위한 조건이 충족된다."
   ]
  },
  {
   "cell_type": "code",
   "execution_count": 188,
   "id": "6d6ec6d0-770b-4b61-b991-e5d542e23ca9",
   "metadata": {},
   "outputs": [
    {
     "data": {
      "text/plain": [
       "\n",
       "Call:\n",
       "lm(formula = FBfriends ~ GMdensity, data = FacebookFriends)\n",
       "\n",
       "Residuals:\n",
       "    Min      1Q  Median      3Q     Max \n",
       "-339.89 -110.01   -5.12   99.80  303.64 \n",
       "\n",
       "Coefficients:\n",
       "            Estimate Std. Error t value Pr(>|t|)    \n",
       "(Intercept)   366.64      26.35  13.916  < 2e-16 ***\n",
       "GMdensity      82.45      27.58   2.989  0.00488 ** \n",
       "---\n",
       "Signif. codes:  0 '***' 0.001 '**' 0.01 '*' 0.05 '.' 0.1 ' ' 1\n",
       "\n",
       "Residual standard error: 165.7 on 38 degrees of freedom\n",
       "Multiple R-squared:  0.1904,\tAdjusted R-squared:  0.1691 \n",
       "F-statistic: 8.936 on 1 and 38 DF,  p-value: 0.004882\n"
      ]
     },
     "metadata": {},
     "output_type": "display_data"
    }
   ],
   "source": [
    "summary(lm(FBfriends ~ GMdensity, data=FacebookFriends))"
   ]
  },
  {
   "cell_type": "code",
   "execution_count": 189,
   "id": "df24cadf-3e05-4670-aaca-91c74103aa82",
   "metadata": {},
   "outputs": [
    {
     "data": {
      "text/plain": [
       "\n",
       "\tPearson's product-moment correlation\n",
       "\n",
       "data:  FacebookFriends$FBfriends and FacebookFriends$GMdensity\n",
       "t = 2.9893, df = 38, p-value = 0.004882\n",
       "alternative hypothesis: true correlation is not equal to 0\n",
       "95 percent confidence interval:\n",
       " 0.1444616 0.6583589\n",
       "sample estimates:\n",
       "      cor \n",
       "0.4363354 \n"
      ]
     },
     "metadata": {},
     "output_type": "display_data"
    }
   ],
   "source": [
    "cor.test(FacebookFriends$FBfriends, FacebookFriends$GMdensity)"
   ]
  },
  {
   "cell_type": "code",
   "execution_count": 187,
   "id": "0a7d5e6c-7490-42e2-aae0-ef5a2332c271",
   "metadata": {},
   "outputs": [
    {
     "data": {
      "text/html": [
       "2.98933051037907"
      ],
      "text/latex": [
       "2.98933051037907"
      ],
      "text/markdown": [
       "2.98933051037907"
      ],
      "text/plain": [
       "[1] 2.989331"
      ]
     },
     "metadata": {},
     "output_type": "display_data"
    }
   ],
   "source": [
    "0.4363354*sqrt(40-2) / sqrt(1-0.4363354^2)"
   ]
  },
  {
   "cell_type": "code",
   "execution_count": 190,
   "id": "2fe0afcb-cca1-4fcd-b50a-68c5ace5628a",
   "metadata": {},
   "outputs": [
    {
     "data": {
      "text/plain": [
       "\n",
       "\tPearson's product-moment correlation\n",
       "\n",
       "data:  FacebookFriends$FBfriends and FacebookFriends$GMdensity\n",
       "t = 2.9893, df = 38, p-value = 0.004882\n",
       "alternative hypothesis: true correlation is not equal to 0\n",
       "95 percent confidence interval:\n",
       " 0.1444616 0.6583589\n",
       "sample estimates:\n",
       "      cor \n",
       "0.4363354 \n"
      ]
     },
     "metadata": {},
     "output_type": "display_data"
    },
    {
     "data": {
      "text/plain": [
       "\n",
       "Call:\n",
       "lm(formula = FBfriends ~ GMdensity, data = FacebookFriends)\n",
       "\n",
       "Residuals:\n",
       "    Min      1Q  Median      3Q     Max \n",
       "-339.89 -110.01   -5.12   99.80  303.64 \n",
       "\n",
       "Coefficients:\n",
       "            Estimate Std. Error t value Pr(>|t|)    \n",
       "(Intercept)   366.64      26.35  13.916  < 2e-16 ***\n",
       "GMdensity      82.45      27.58   2.989  0.00488 ** \n",
       "---\n",
       "Signif. codes:  0 '***' 0.001 '**' 0.01 '*' 0.05 '.' 0.1 ' ' 1\n",
       "\n",
       "Residual standard error: 165.7 on 38 degrees of freedom\n",
       "Multiple R-squared:  0.1904,\tAdjusted R-squared:  0.1691 \n",
       "F-statistic: 8.936 on 1 and 38 DF,  p-value: 0.004882\n"
      ]
     },
     "metadata": {},
     "output_type": "display_data"
    },
    {
     "data": {
      "image/png": "[encoded data removed]",
      "text/plain": [
       "plot without title"
      ]
     },
     "metadata": {
      "image/png": {
       "height": 420,
       "width": 420
      }
     },
     "output_type": "display_data"
    }
   ],
   "source": [
    "file_url <- \"http://www.lock5stat.com/datasets2e/FacebookFriends.csv\"\n",
    "\n",
    "FacebookFriends <- read.csv(file_url)\n",
    "\n",
    "\n",
    "plot(FacebookFriends$FBfriends ~ FacebookFriends$GMdensity)\n",
    "\n",
    "abline(lm(FBfriends ~ GMdensity, data=FacebookFriends), col=\"red\")\n",
    "\n",
    "cor.test(FacebookFriends$FBfriends, FacebookFriends$GMdensity)\n",
    "\n",
    "summary(lm(FBfriends ~ GMdensity, data=FacebookFriends))"
   ]
  },
  {
   "cell_type": "code",
   "execution_count": 192,
   "id": "a93d46b5-20d9-42d6-afd4-b1cca103633a",
   "metadata": {},
   "outputs": [
    {
     "data": {
      "text/html": [
       "0.190096"
      ],
      "text/latex": [
       "0.190096"
      ],
      "text/markdown": [
       "0.190096"
      ],
      "text/plain": [
       "[1] 0.190096"
      ]
     },
     "metadata": {},
     "output_type": "display_data"
    }
   ],
   "source": [
    "0.436^2"
   ]
  },
  {
   "cell_type": "code",
   "execution_count": 193,
   "id": "81113abd-f466-474f-b11d-b08984cce16f",
   "metadata": {},
   "outputs": [
    {
     "data": {
      "text/html": [
       "0.888819441731559"
      ],
      "text/latex": [
       "0.888819441731559"
      ],
      "text/markdown": [
       "0.888819441731559"
      ],
      "text/plain": [
       "[1] 0.8888194"
      ]
     },
     "metadata": {},
     "output_type": "display_data"
    }
   ],
   "source": [
    "0.79 %>%sqrt"
   ]
  },
  {
   "cell_type": "code",
   "execution_count": 5,
   "id": "43ce931e-65a9-4f8a-b519-746dacf75b59",
   "metadata": {},
   "outputs": [
    {
     "data": {
      "text/plain": [
       "\n",
       "\tPearson's product-moment correlation\n",
       "\n",
       "data:  inkjet$PPM and inkjet$Price\n",
       "t = 4.6634, df = 18, p-value = 0.0001934\n",
       "alternative hypothesis: true correlation is not equal to 0\n",
       "95 percent confidence interval:\n",
       " 0.4417677 0.8906678\n",
       "sample estimates:\n",
       "      cor \n",
       "0.7396862 \n"
      ]
     },
     "metadata": {},
     "output_type": "display_data"
    }
   ],
   "source": [
    "cor.test(inkjet$PPM, inkjet$Price)"
   ]
  },
  {
   "cell_type": "code",
   "execution_count": null,
   "id": "147b2f14-7723-4173-9905-eb830dee2a23",
   "metadata": {},
   "outputs": [],
   "source": []
  }
 ],
 "metadata": {
  "kernelspec": {
   "display_name": "R",
   "language": "R",
   "name": "ir"
  },
  "language_info": {
   "codemirror_mode": "r",
   "file_extension": ".r",
   "mimetype": "text/x-r-source",
   "name": "R",
   "pygments_lexer": "r",
   "version": "4.1.2"
  }
 },
 "nbformat": 4,
 "nbformat_minor": 5
}
